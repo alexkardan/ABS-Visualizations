{
  "nbformat": 4,
  "nbformat_minor": 0,
  "metadata": {
    "colab": {
      "provenance": [],
      "authorship_tag": "ABX9TyPt9GPWov8vnwihWj5e7LVp",
      "include_colab_link": true
    },
    "kernelspec": {
      "name": "python3",
      "display_name": "Python 3"
    },
    "language_info": {
      "name": "python"
    }
  },
  "cells": [
    {
      "cell_type": "markdown",
      "metadata": {
        "id": "view-in-github",
        "colab_type": "text"
      },
      "source": [
        "<a href=\"https://colab.research.google.com/github/alexkardan/ABS-Visualizations/blob/main/ABS_Medium_Volume_Store.ipynb\" target=\"_parent\"><img src=\"https://colab.research.google.com/assets/colab-badge.svg\" alt=\"Open In Colab\"/></a>"
      ]
    },
    {
      "cell_type": "code",
      "execution_count": 3,
      "metadata": {
        "id": "kWJnyMuI8Nr2"
      },
      "outputs": [],
      "source": [
        "import numpy as np\n",
        "import matplotlib.pyplot as plt\n",
        "import pandas as pd\n",
        "import seaborn as sns\n",
        "import plotly.express as px"
      ]
    },
    {
      "cell_type": "code",
      "source": [
        "Weekly_Medium_Volume_Store = pd.read_csv(\"Montgomery College Data Set (Medium Volume_Weekly).csv\", header = 1)"
      ],
      "metadata": {
        "colab": {
          "base_uri": "https://localhost:8080/",
          "height": 310
        },
        "id": "QF_RZZg-8Vrx",
        "outputId": "de7adcf1-eb66-4bc4-9b27-99fa4a3f2855"
      },
      "execution_count": 4,
      "outputs": [
        {
          "output_type": "error",
          "ename": "FileNotFoundError",
          "evalue": "[Errno 2] No such file or directory: 'Montgomery College Data Set (Medium Volume_Weekly).csv'",
          "traceback": [
            "\u001b[0;31m---------------------------------------------------------------------------\u001b[0m",
            "\u001b[0;31mFileNotFoundError\u001b[0m                         Traceback (most recent call last)",
            "\u001b[0;32m<ipython-input-4-b1e3d335e929>\u001b[0m in \u001b[0;36m<cell line: 0>\u001b[0;34m()\u001b[0m\n\u001b[0;32m----> 1\u001b[0;31m \u001b[0mWeekly_Medium_Volume_Store\u001b[0m \u001b[0;34m=\u001b[0m \u001b[0mpd\u001b[0m\u001b[0;34m.\u001b[0m\u001b[0mread_csv\u001b[0m\u001b[0;34m(\u001b[0m\u001b[0;34m\"Montgomery College Data Set (Medium Volume_Weekly).csv\"\u001b[0m\u001b[0;34m,\u001b[0m \u001b[0mheader\u001b[0m \u001b[0;34m=\u001b[0m \u001b[0;36m1\u001b[0m\u001b[0;34m)\u001b[0m\u001b[0;34m\u001b[0m\u001b[0;34m\u001b[0m\u001b[0m\n\u001b[0m",
            "\u001b[0;32m/usr/local/lib/python3.11/dist-packages/pandas/io/parsers/readers.py\u001b[0m in \u001b[0;36mread_csv\u001b[0;34m(filepath_or_buffer, sep, delimiter, header, names, index_col, usecols, dtype, engine, converters, true_values, false_values, skipinitialspace, skiprows, skipfooter, nrows, na_values, keep_default_na, na_filter, verbose, skip_blank_lines, parse_dates, infer_datetime_format, keep_date_col, date_parser, date_format, dayfirst, cache_dates, iterator, chunksize, compression, thousands, decimal, lineterminator, quotechar, quoting, doublequote, escapechar, comment, encoding, encoding_errors, dialect, on_bad_lines, delim_whitespace, low_memory, memory_map, float_precision, storage_options, dtype_backend)\u001b[0m\n\u001b[1;32m   1024\u001b[0m     \u001b[0mkwds\u001b[0m\u001b[0;34m.\u001b[0m\u001b[0mupdate\u001b[0m\u001b[0;34m(\u001b[0m\u001b[0mkwds_defaults\u001b[0m\u001b[0;34m)\u001b[0m\u001b[0;34m\u001b[0m\u001b[0;34m\u001b[0m\u001b[0m\n\u001b[1;32m   1025\u001b[0m \u001b[0;34m\u001b[0m\u001b[0m\n\u001b[0;32m-> 1026\u001b[0;31m     \u001b[0;32mreturn\u001b[0m \u001b[0m_read\u001b[0m\u001b[0;34m(\u001b[0m\u001b[0mfilepath_or_buffer\u001b[0m\u001b[0;34m,\u001b[0m \u001b[0mkwds\u001b[0m\u001b[0;34m)\u001b[0m\u001b[0;34m\u001b[0m\u001b[0;34m\u001b[0m\u001b[0m\n\u001b[0m\u001b[1;32m   1027\u001b[0m \u001b[0;34m\u001b[0m\u001b[0m\n\u001b[1;32m   1028\u001b[0m \u001b[0;34m\u001b[0m\u001b[0m\n",
            "\u001b[0;32m/usr/local/lib/python3.11/dist-packages/pandas/io/parsers/readers.py\u001b[0m in \u001b[0;36m_read\u001b[0;34m(filepath_or_buffer, kwds)\u001b[0m\n\u001b[1;32m    618\u001b[0m \u001b[0;34m\u001b[0m\u001b[0m\n\u001b[1;32m    619\u001b[0m     \u001b[0;31m# Create the parser.\u001b[0m\u001b[0;34m\u001b[0m\u001b[0;34m\u001b[0m\u001b[0m\n\u001b[0;32m--> 620\u001b[0;31m     \u001b[0mparser\u001b[0m \u001b[0;34m=\u001b[0m \u001b[0mTextFileReader\u001b[0m\u001b[0;34m(\u001b[0m\u001b[0mfilepath_or_buffer\u001b[0m\u001b[0;34m,\u001b[0m \u001b[0;34m**\u001b[0m\u001b[0mkwds\u001b[0m\u001b[0;34m)\u001b[0m\u001b[0;34m\u001b[0m\u001b[0;34m\u001b[0m\u001b[0m\n\u001b[0m\u001b[1;32m    621\u001b[0m \u001b[0;34m\u001b[0m\u001b[0m\n\u001b[1;32m    622\u001b[0m     \u001b[0;32mif\u001b[0m \u001b[0mchunksize\u001b[0m \u001b[0;32mor\u001b[0m \u001b[0miterator\u001b[0m\u001b[0;34m:\u001b[0m\u001b[0;34m\u001b[0m\u001b[0;34m\u001b[0m\u001b[0m\n",
            "\u001b[0;32m/usr/local/lib/python3.11/dist-packages/pandas/io/parsers/readers.py\u001b[0m in \u001b[0;36m__init__\u001b[0;34m(self, f, engine, **kwds)\u001b[0m\n\u001b[1;32m   1618\u001b[0m \u001b[0;34m\u001b[0m\u001b[0m\n\u001b[1;32m   1619\u001b[0m         \u001b[0mself\u001b[0m\u001b[0;34m.\u001b[0m\u001b[0mhandles\u001b[0m\u001b[0;34m:\u001b[0m \u001b[0mIOHandles\u001b[0m \u001b[0;34m|\u001b[0m \u001b[0;32mNone\u001b[0m \u001b[0;34m=\u001b[0m \u001b[0;32mNone\u001b[0m\u001b[0;34m\u001b[0m\u001b[0;34m\u001b[0m\u001b[0m\n\u001b[0;32m-> 1620\u001b[0;31m         \u001b[0mself\u001b[0m\u001b[0;34m.\u001b[0m\u001b[0m_engine\u001b[0m \u001b[0;34m=\u001b[0m \u001b[0mself\u001b[0m\u001b[0;34m.\u001b[0m\u001b[0m_make_engine\u001b[0m\u001b[0;34m(\u001b[0m\u001b[0mf\u001b[0m\u001b[0;34m,\u001b[0m \u001b[0mself\u001b[0m\u001b[0;34m.\u001b[0m\u001b[0mengine\u001b[0m\u001b[0;34m)\u001b[0m\u001b[0;34m\u001b[0m\u001b[0;34m\u001b[0m\u001b[0m\n\u001b[0m\u001b[1;32m   1621\u001b[0m \u001b[0;34m\u001b[0m\u001b[0m\n\u001b[1;32m   1622\u001b[0m     \u001b[0;32mdef\u001b[0m \u001b[0mclose\u001b[0m\u001b[0;34m(\u001b[0m\u001b[0mself\u001b[0m\u001b[0;34m)\u001b[0m \u001b[0;34m->\u001b[0m \u001b[0;32mNone\u001b[0m\u001b[0;34m:\u001b[0m\u001b[0;34m\u001b[0m\u001b[0;34m\u001b[0m\u001b[0m\n",
            "\u001b[0;32m/usr/local/lib/python3.11/dist-packages/pandas/io/parsers/readers.py\u001b[0m in \u001b[0;36m_make_engine\u001b[0;34m(self, f, engine)\u001b[0m\n\u001b[1;32m   1878\u001b[0m                 \u001b[0;32mif\u001b[0m \u001b[0;34m\"b\"\u001b[0m \u001b[0;32mnot\u001b[0m \u001b[0;32min\u001b[0m \u001b[0mmode\u001b[0m\u001b[0;34m:\u001b[0m\u001b[0;34m\u001b[0m\u001b[0;34m\u001b[0m\u001b[0m\n\u001b[1;32m   1879\u001b[0m                     \u001b[0mmode\u001b[0m \u001b[0;34m+=\u001b[0m \u001b[0;34m\"b\"\u001b[0m\u001b[0;34m\u001b[0m\u001b[0;34m\u001b[0m\u001b[0m\n\u001b[0;32m-> 1880\u001b[0;31m             self.handles = get_handle(\n\u001b[0m\u001b[1;32m   1881\u001b[0m                 \u001b[0mf\u001b[0m\u001b[0;34m,\u001b[0m\u001b[0;34m\u001b[0m\u001b[0;34m\u001b[0m\u001b[0m\n\u001b[1;32m   1882\u001b[0m                 \u001b[0mmode\u001b[0m\u001b[0;34m,\u001b[0m\u001b[0;34m\u001b[0m\u001b[0;34m\u001b[0m\u001b[0m\n",
            "\u001b[0;32m/usr/local/lib/python3.11/dist-packages/pandas/io/common.py\u001b[0m in \u001b[0;36mget_handle\u001b[0;34m(path_or_buf, mode, encoding, compression, memory_map, is_text, errors, storage_options)\u001b[0m\n\u001b[1;32m    871\u001b[0m         \u001b[0;32mif\u001b[0m \u001b[0mioargs\u001b[0m\u001b[0;34m.\u001b[0m\u001b[0mencoding\u001b[0m \u001b[0;32mand\u001b[0m \u001b[0;34m\"b\"\u001b[0m \u001b[0;32mnot\u001b[0m \u001b[0;32min\u001b[0m \u001b[0mioargs\u001b[0m\u001b[0;34m.\u001b[0m\u001b[0mmode\u001b[0m\u001b[0;34m:\u001b[0m\u001b[0;34m\u001b[0m\u001b[0;34m\u001b[0m\u001b[0m\n\u001b[1;32m    872\u001b[0m             \u001b[0;31m# Encoding\u001b[0m\u001b[0;34m\u001b[0m\u001b[0;34m\u001b[0m\u001b[0m\n\u001b[0;32m--> 873\u001b[0;31m             handle = open(\n\u001b[0m\u001b[1;32m    874\u001b[0m                 \u001b[0mhandle\u001b[0m\u001b[0;34m,\u001b[0m\u001b[0;34m\u001b[0m\u001b[0;34m\u001b[0m\u001b[0m\n\u001b[1;32m    875\u001b[0m                 \u001b[0mioargs\u001b[0m\u001b[0;34m.\u001b[0m\u001b[0mmode\u001b[0m\u001b[0;34m,\u001b[0m\u001b[0;34m\u001b[0m\u001b[0;34m\u001b[0m\u001b[0m\n",
            "\u001b[0;31mFileNotFoundError\u001b[0m: [Errno 2] No such file or directory: 'Montgomery College Data Set (Medium Volume_Weekly).csv'"
          ]
        }
      ]
    },
    {
      "cell_type": "code",
      "source": [
        "Weekly_Medium_Volume_Store.describe()"
      ],
      "metadata": {
        "id": "ucdokv0G8idx"
      },
      "execution_count": null,
      "outputs": []
    },
    {
      "cell_type": "code",
      "source": [
        "Weekly_Medium_Volume_Store = Weekly_Medium_Volume_Store.loc[:, ~Weekly_Medium_Volume_Store.columns.str.contains(\"^Unamed\")]"
      ],
      "metadata": {
        "id": "QDSfB03x9TiO"
      },
      "execution_count": null,
      "outputs": []
    },
    {
      "cell_type": "code",
      "source": [
        "grand_total_column = Weekly_Medium_Volume_Store.iloc[:, -1]\n",
        "\n",
        "Weekly_Medium_Volume_Store = Weekly_Medium_Volume_Store.iloc[:, :-1]\n",
        "\n",
        "new_columns = [\"Item ID\", \"Description\", \"Bottles Per Case\", \"Cost Amount (Per Bottle)\"]\n",
        "\n",
        "num_weeks = len(Weekly_Medium_Volume_Store.columns) - len(new_columns)\n",
        "week_columns = [f\"Week {i+1}\" for i in range(num_weeks)]\n",
        "\n",
        "final_columns = new_columns+week_columns\n",
        "\n",
        "Weekly_Medium_Volume_Store.columns = final_columns\n",
        "\n",
        "Weekly_Medium_Volume_Store = pd.concat([Weekly_Medium_Volume_Store, grand_total_column], axis = 1)\n",
        "\n",
        "Weekly_Medium_Volume_Store.columns = list(Weekly_Medium_Volume_Store.columns[:-1]) + ['Grand Total']\n",
        "\n",
        "print(Weekly_Medium_Volume_Store.columns)"
      ],
      "metadata": {
        "id": "MS0jO7Wh9468"
      },
      "execution_count": null,
      "outputs": []
    },
    {
      "cell_type": "code",
      "source": [
        "quarterly_mapping = {\n",
        "    'Q1': [f'Week {i}' for i in range (1,13)],\n",
        "    'Q2': [f'Week {i}' for i in range (14,26)],\n",
        "    'Q3': [f'Week {i}' for i in range (27,39)],\n",
        "    'Q4': [f'Week {i}' for i in range (40,53)]\n",
        "}\n",
        "\n",
        "week_to_quarter = {week: quarter for quarter, weeks in quarterly_mapping.items() for week in weeks}\n",
        "\n",
        "week_columns = [f'Week {i}' for i in range (1,53)]\n",
        "\n",
        "melted_Weekly_Medium_Volume_Store = Weekly_Medium_Volume_Store.melt(\n",
        "    id_vars=[\"Item ID\", \"Description\", \"Bottles Per Case\", \"Cost Amount (Per Bottle)\"],\n",
        "    value_vars= week_columns,\n",
        "    var_name= \"Week\",\n",
        "    value_name= \"Quantity\"\n",
        ")\n",
        "\n",
        "print(melted_Weekly_Medium_Volume_Store)"
      ],
      "metadata": {
        "id": "ph8Ed29AChWD"
      },
      "execution_count": null,
      "outputs": []
    },
    {
      "cell_type": "code",
      "source": [
        "Weekly_Medium_Volume_Store.columns"
      ],
      "metadata": {
        "id": "DQA3imZJEKIh"
      },
      "execution_count": null,
      "outputs": []
    },
    {
      "cell_type": "code",
      "source": [
        "def items(description):\n",
        "    description = description.upper()\n",
        "\n",
        "    if any(keyword in description for keyword in [\n",
        "        'WHISKEY', 'WHISKY', 'JACK DANIELS', 'JAMESON', 'CROWN ROYAL', 'FIREBALL',\n",
        "        'MAKER\\'S MARK', 'WILD TURKEY', 'BULLEIT', 'KNOB CREEK', 'WOODFORD RESERVE',\n",
        "        'BASIL HAYDEN', 'EVAN WILLIAMS', 'BLACK VELVET', 'SEAGRAMS 7', 'REBEL YELL',\n",
        "        'BUFFALO TRACE', 'ELIJAH CRAIG', 'GEORGE DICKEL', 'OLD FORESTER', 'RITTENHOUSE'\n",
        "    ]):\n",
        "        return 'Whiskey'\n",
        "\n",
        "    elif any(keyword in description for keyword in [\n",
        "        'VODKA', 'TITO', 'SMIRNOFF', 'GREY GOOSE', 'ABSOLUT', 'NEW AMSTERDAM', 'CIROC',\n",
        "        'SKYY', 'STOLI', 'BELVEDERE', 'KETEL ONE', 'SCOTTY\\'S', 'SVEDKA', 'UV', 'PEARL',\n",
        "        'ZUBROWKA', 'LUKSUSOWA', 'REYKA','GIN', 'BOMBAY', 'TANQUERAY', 'HENDRICK', 'BEEFEATER', 'PLYMOUTH', 'AVIATION',\n",
        "        'MONKEY 47', 'SEAGRAM\\'S', 'NOLET\\'S', 'THE BOTANIST'\n",
        "    ]):\n",
        "        return 'Vodka'\n",
        "\n",
        "    elif any(keyword in description for keyword in [\n",
        "        'TEQUILA', 'PATRON', 'JOSE CUERVO', 'DON JULIO', 'CASAMIGOS', 'EL JIMADOR',\n",
        "        '1800', 'HORNITOS', 'ESPOLON', 'TEREMANA', 'MILAGRO', 'CAMARENA', 'AVION',\n",
        "        'CAZADORES', 'CLASE AZUL', 'FORTALEZA', 'OLMECA', 'TRES GENERACIONES', 'MARGARITA'\n",
        "    ]):\n",
        "        return 'Tequila'\n",
        "\n",
        "    elif any(keyword in description for keyword in [\n",
        "        'RUM', 'BACARDI', 'CAPTAIN MORGAN', 'MALIBU', 'CRUZAN', 'MYERS', 'SAILOR JERRY',\n",
        "        'ZACAPA', 'PUSSER\\'S', 'PLANTATION', 'RON DEL BARRILITO', 'MOUNT GAY', 'HAVANA CLUB'\n",
        "    ]):\n",
        "        return 'Rum'\n",
        "\n",
        "    elif any(keyword in description for keyword in [\n",
        "        'CORONA', 'MODELO', 'HEINEKEN', 'GUINNESS', 'BUDWEISER', 'COORS', 'STELLA',\n",
        "        'MICHELOB', 'BLUE MOON', 'YUENGLING', 'BUSCH', 'MILLER', 'ANGRY ORCHARD',\n",
        "        'DOS EQUIS', 'PACIFICO', 'SAM ADAMS', 'SHINER', 'ROLLING ROCK', 'NATTY BOH',\n",
        "        'PABST', 'FOSTERS', 'RED STRIPE', 'KIRIN', 'ASAHI', 'CARLSBERG', 'BECK\\'S',\n",
        "        'BEER', 'IPA', 'LAGER', 'ALE', 'STOUT', 'PORTER', 'PILSNER', 'DRAFT', 'PALE ALE'\n",
        "    ]):\n",
        "        return 'Beer'\n",
        "\n",
        "    elif any(keyword in description for keyword in [\n",
        "        'WINE', 'MERLOT', 'CABERNET', 'CHARDONNAY', 'PINOT', 'RIESLING', 'MOSCATO',\n",
        "        'ZINFANDEL', 'SAUVIGNON', 'ROSE', 'SYRAH', 'MALBEC', 'BOTA BOX', 'BAREFOOT',\n",
        "        'YELLOWTAIL', 'BLACK BOX', 'WOODBRIDGE', 'APOTHIC', 'MENAGE A TROIS', 'STELLA ROSA'\n",
        "    ]):\n",
        "        return 'Wine'\n",
        "\n",
        "    elif any(keyword in description for keyword in [\n",
        "        'CHAMPAGNE', 'PROSECCO', 'SPARKLING', 'BRUT', 'MOET', 'VEUVE', 'BAREFOOT BUBBLY',\n",
        "        'MUMM', 'LA MARCA', 'ROEDERER', 'TOTT\\'S', 'CHANDON'\n",
        "    ]):\n",
        "        return 'Champagne / Sparkling Wine'\n",
        "\n",
        "    elif any(keyword in description for keyword in [\n",
        "        'LIQUEUR', 'BAILEYS', 'KAHLUA', 'AMARETTO', 'GRAND MARNIER', 'SOUTHERN COMFORT',\n",
        "        'SCHNAPPS', 'RUMCHATA', 'FRANGELICO', 'SAMBUCA', 'JAGERMEISTER', 'DRAMBUIE',\n",
        "        'MIDORI', 'GALLIANO', 'TUACA', 'GODIVA', 'CHAMBORD', 'COINTREAU'\n",
        "    ]):\n",
        "        return 'Liqueur'\n",
        "\n",
        "    elif any(keyword in description for keyword in [\n",
        "        'BRANDY', 'COGNAC', 'HENNESSY', 'REMY MARTIN', 'COURVOISIER', 'E&J', 'D\\'USSE',\n",
        "        'TORRES', 'HINE', 'CAMUS', 'ST-RÉMY'\n",
        "    ]):\n",
        "        return 'Brandy / Cognac'\n",
        "\n",
        "    elif any(keyword in description for keyword in [\n",
        "        'SAKE', 'NIGORI', 'GEKKEIKAN', 'SHO CHIKU BAI', 'OZEKI', 'HAKUTSURU'\n",
        "    ]):\n",
        "        return 'Sake'\n",
        "\n",
        "    elif any(keyword in description for keyword in [\n",
        "        'SELTZER', 'TRULY', 'WHITE CLAW', 'VIZZY', 'HIGH NOON', 'PRESS', 'BUBLY',\n",
        "        'BON VIV', 'CANTEEN', 'NÜTRL', 'CANTINA', 'TOPO CHICO', 'SMIRNOFF SELTZER',\n",
        "        'NATURAL LIGHT SELTZER', 'BUD LIGHT SELTZER'\n",
        "    ]):\n",
        "        return 'Hard Seltzer'\n",
        "\n",
        "\n",
        "\n",
        "\n",
        "\n"
      ],
      "metadata": {
        "id": "FjR8lnu1ENTI"
      },
      "execution_count": null,
      "outputs": []
    },
    {
      "cell_type": "code",
      "source": [
        "Weekly_Medium_Volume_Store['Description'] = Weekly_Medium_Volume_Store['Description'].apply(items)"
      ],
      "metadata": {
        "id": "cyD1blGfGips"
      },
      "execution_count": null,
      "outputs": []
    },
    {
      "cell_type": "code",
      "source": [
        "melted_sales_data = Weekly_Medium_Volume_Store.melt(id_vars=['Item ID', 'Description', 'Bottles Per Case'],\n",
        "                                                    value_vars= week_columns,\n",
        "                                                    var_name='Week', value_name = 'Quantity Total')\n",
        "melted_sales_data['Quarter'] = melted_sales_data['Week'].map(week_to_quarter)"
      ],
      "metadata": {
        "id": "oDPZCQQrE9C1"
      },
      "execution_count": null,
      "outputs": []
    },
    {
      "cell_type": "code",
      "source": [
        "plt.figure(figsize = (10,6))\n",
        "quarterly_sales = melted_sales_data.groupby(['Description', 'Quarter'])['Quantity Total'].sum().reset_index()\n",
        "sns.barplot(x = 'Quarter', y = 'Quantity Total', data = melted_sales_data, estimator = sum, errorbar = None)"
      ],
      "metadata": {
        "id": "JRiIgjHmFfUm"
      },
      "execution_count": null,
      "outputs": []
    },
    {
      "cell_type": "code",
      "source": [
        "melted_sales_data[melted_sales_data[\"Quarter\"]==\"Q1\"][\"Description\"].value_counts()"
      ],
      "metadata": {
        "id": "d6qR_13HZOTU"
      },
      "execution_count": null,
      "outputs": []
    },
    {
      "cell_type": "code",
      "source": [
        "Weekly_Medium_Volume_Store['Description'].value_counts()"
      ],
      "metadata": {
        "id": "mL1MUuhXTACx"
      },
      "execution_count": null,
      "outputs": []
    },
    {
      "cell_type": "code",
      "source": [
        "melted_sales_data = melted_sales_data.copy()\n"
      ],
      "metadata": {
        "id": "cDihYsWIbUUu"
      },
      "execution_count": null,
      "outputs": []
    },
    {
      "cell_type": "code",
      "source": [
        "melted_sales_data.columns"
      ],
      "metadata": {
        "id": "uIax9-knbgbV"
      },
      "execution_count": null,
      "outputs": []
    },
    {
      "cell_type": "code",
      "source": [
        "weekly_stats_top10 = weekly_stats.sort_values(by='Weekly Avg', ascending=False).head(10)\n",
        "\n",
        "print(weekly_stats_top10)\n",
        "\n",
        "\n",
        "weekly_stats_top10 = (\n",
        "    weekly_stats\n",
        "    .sort_values(by='Weekly Avg', ascending=False)\n",
        "    .groupby('Quarter')\n",
        "    .head(10)\n",
        ")\n",
        "\n",
        "print(weekly_stats_top10)\n"
      ],
      "metadata": {
        "id": "jEshrIZIdH9p"
      },
      "execution_count": null,
      "outputs": []
    },
    {
      "cell_type": "code",
      "source": [
        "\n",
        "weekly_totals_medium = (\n",
        "    melted_sales_data\n",
        "    .groupby(['Week', 'Quarter', 'Description'], as_index=False)\n",
        "    .agg({'Quantity Total': 'mean', 'Bottles Per Case': 'median'})\n",
        ")\n",
        "\n",
        "weekly_stats = (\n",
        "    weekly_totals_medium\n",
        "    .groupby(['Quarter', 'Description'])[['Quantity Total', 'Bottles Per Case']]\n",
        "    .agg(['mean', 'std'])\n",
        "    .reset_index()\n",
        ")\n",
        "\n",
        "weekly_stats['Count in top 500'] = weekly_stats['Description']\n",
        "\n",
        "\n",
        "weekly_stats.columns = [\n",
        "    f\"{col[0]}_{col[1]}\" if col[1] else col[0] for col in weekly_stats.columns\n",
        "]\n",
        "\n",
        "weekly_stats['Lead Time'] = weekly_stats['Description'].apply(lambda x: 14 if x == 'Beer' else 10)\n",
        "weekly_stats['Daily Avg Sales'] = weekly_stats['Quantity Total_mean'] / 7\n",
        "safety_multiplier = 2\n",
        "\n",
        "weekly_stats['Reorder Point'] = (\n",
        "    (weekly_stats['Daily Avg Sales'] * weekly_stats['Lead Time']) +\n",
        "    (safety_multiplier * weekly_stats['Quantity Total_mean'])\n",
        ")\n",
        "\n",
        "weekly_stats.rename(columns={\n",
        "    'Quantity Total_mean': 'Weekly Avg',\n",
        "    'Quantity Total_std': 'Weekly Std Dev',\n",
        "    'Bottles Per Case_mean': 'median Bottles/Case',\n",
        "    'Bottles Per Case_std': 'Std Bottles/Case',\n",
        "    'Description': 'Alcohol Type',\n",
        "    'Daily Avg Sales': 'Daily Avg'\n",
        "}, inplace=True)\n",
        "\n",
        "print(weekly_stats)"
      ],
      "metadata": {
        "id": "-3bN8ANCbZc6"
      },
      "execution_count": null,
      "outputs": []
    },
    {
      "cell_type": "code",
      "source": [
        "buffer_zone = 2\n",
        "\n",
        "lead_time = 10\n",
        "weekly_stats['Lead Time'] = lead_time\n",
        "\n",
        "weekly_stats['Reorder Threshold'] = weekly_stats['Alcohol Type'].apply(lambda x: 14 if x == 'Beer' else 10)\n",
        "\n",
        "weekly_stats['Daily Std Dev'] = weekly_stats['Weekly Std Dev'] / (7 ** 0.5)\n",
        "\n",
        "weekly_stats['Safety Stock'] = buffer_zone * weekly_stats['Daily Std Dev'] * (weekly_stats['Lead Time'] ** 0.5)\n",
        "\n",
        "weekly_stats['Reorder Point'] = (\n",
        "    weekly_stats['Daily Avg'] * weekly_stats['Lead Time']\n",
        ") + weekly_stats['Safety Stock']\n",
        "print(weekly_stats)"
      ],
      "metadata": {
        "id": "C0El0okMczgV"
      },
      "execution_count": null,
      "outputs": []
    },
    {
      "cell_type": "code",
      "source": [
        "plt.figure(figsize = (10,6))\n",
        "sns.barplot(x = 'Quarter', y = 'Weekly Avg', data = weekly_stats, hue = 'Alcohol Type' )\n",
        "sns.set_context(\"poster\")\n",
        "plt.tight_layout()\n",
        "plt.legend(loc = 'upper left', fontsize = 10)\n",
        "plt.title(\"Weekly Average for every Alcohol Type by Quarter\")\n",
        "plt.grid(linestyle = \"--\", color = \"green\")\n",
        "plt.xticks(rotation = 35, fontsize = 20)\n",
        "plt.yticks( rotation = 45, fontsize = 20)\n",
        "plt.gca().set_axisbelow(True)\n",
        "plt.show()"
      ],
      "metadata": {
        "id": "l_qBUxXtrVR3"
      },
      "execution_count": null,
      "outputs": []
    },
    {
      "cell_type": "code",
      "source": [
        "sns.lineplot(x = \"Quarter\", y = \"Safety Stock\", hue = \"Alcohol Type\", data = weekly_stats)\n",
        "\n",
        "plt.legend(loc = \"lower center\", fontsize = 10)\n",
        "plt.title(\"Average Safety Stock by Alcohol Type and Quarter\", fontsize = 20)\n",
        "plt.grid(linestyle = \"dashdot\", color = \"black\")\n",
        "plt.xticks(rotation = 35, fontsize = 20)\n",
        "plt.yticks( rotation = 45, fontsize = 20)\n",
        "plt.xlabel(\"Quarter\", fontsize = 20)\n",
        "plt.ylabel(\"Safety Stock in units\", fontsize = 20)\n",
        "plt.legend(loc = \"upper left\", fontsize = 5)\n",
        "plt.show()"
      ],
      "metadata": {
        "id": "UdnzOd3Orr90"
      },
      "execution_count": null,
      "outputs": []
    }
  ]
}