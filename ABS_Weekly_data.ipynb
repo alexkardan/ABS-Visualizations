{
  "nbformat": 4,
  "nbformat_minor": 0,
  "metadata": {
    "colab": {
      "provenance": [],
      "authorship_tag": "ABX9TyNs73Lna9kaByFp57yl8DUj",
      "include_colab_link": true
    },
    "kernelspec": {
      "name": "python3",
      "display_name": "Python 3"
    },
    "language_info": {
      "name": "python"
    }
  },
  "cells": [
    {
      "cell_type": "markdown",
      "metadata": {
        "id": "view-in-github",
        "colab_type": "text"
      },
      "source": [
        "<a href=\"https://colab.research.google.com/github/alexkardan/ABS-Visualizations/blob/main/ABS_Weekly_data.ipynb\" target=\"_parent\"><img src=\"https://colab.research.google.com/assets/colab-badge.svg\" alt=\"Open In Colab\"/></a>"
      ]
    },
    {
      "cell_type": "code",
      "execution_count": 1,
      "metadata": {
        "id": "0FFQWPjq5mkt"
      },
      "outputs": [],
      "source": [
        "import numpy as np\n",
        "import matplotlib.pyplot as plt\n",
        "import pandas as pd\n",
        "import seaborn as sns\n",
        "import plotly.express as px\n",
        "from sklearn.model_selection import train_test_split\n",
        "from sklearn.ensemble import RandomForestRegressor\n",
        "from sklearn.metrics import mean_squared_error, r2_score"
      ]
    },
    {
      "cell_type": "code",
      "source": [
        "Weekly_High_Volume_Store = pd.read_csv(\"Montgomery College Data Set (High Volume_Weekly).csv\")"
      ],
      "metadata": {
        "id": "89YttQK_6P8g"
      },
      "execution_count": 2,
      "outputs": []
    },
    {
      "cell_type": "markdown",
      "source": [
        "*   The High volume store is the Montrose store located on Rockville Pike\n",
        "*   The medium volume store is located on Old Columbia Pike\n",
        "*   The low volume store is located in Flower Ave Store located on the corner of Flower Ave and Piney Branch"
      ],
      "metadata": {
        "id": "zxr3SynG01Qa"
      }
    },
    {
      "cell_type": "code",
      "source": [
        "Weekly_High_Volume_Store.describe()"
      ],
      "metadata": {
        "id": "CGeKL6o0xmY2",
        "colab": {
          "base_uri": "https://localhost:8080/",
          "height": 367
        },
        "outputId": "b0bb9e4b-acee-4273-fda1-95a76b486924"
      },
      "execution_count": 3,
      "outputs": [
        {
          "output_type": "execute_result",
          "data": {
            "text/plain": [
              "             Week  Unnamed: 5  Unnamed: 6  Unnamed: 7  Unnamed: 8  Unnamed: 9  \\\n",
              "count  501.000000  501.000000  501.000000  501.000000  501.000000  501.000000   \n",
              "mean    11.596806   16.113772   16.115768   17.209581   17.055888   19.015968   \n",
              "std     20.220908   21.935201   21.933959   25.298023   25.186522   27.830123   \n",
              "min      0.000000    0.000000    0.000000    0.000000    0.000000    0.000000   \n",
              "25%      0.000000    2.000000    2.000000    3.000000    1.000000    4.000000   \n",
              "50%      6.000000   10.000000   10.000000   11.000000   10.000000   12.000000   \n",
              "75%     13.000000   20.000000   20.000000   22.000000   20.000000   23.000000   \n",
              "max    230.000000  181.000000  181.000000  280.000000  210.000000  240.000000   \n",
              "\n",
              "       Unnamed: 10  Unnamed: 11  Unnamed: 12  Unnamed: 13  ...  Unnamed: 47  \\\n",
              "count   501.000000   501.000000   501.000000   501.000000  ...   501.000000   \n",
              "mean     18.926148    16.564870    15.812375    15.732535  ...    22.720559   \n",
              "std      28.241822    23.582075    23.201826    22.824818  ...    32.733496   \n",
              "min       0.000000     0.000000     0.000000     0.000000  ...     0.000000   \n",
              "25%       3.000000     1.000000     0.000000     0.000000  ...     4.000000   \n",
              "50%      11.000000    10.000000    10.000000     9.000000  ...    12.000000   \n",
              "75%      24.000000    20.000000    19.000000    19.000000  ...    28.000000   \n",
              "max     252.000000   189.000000   260.000000   215.000000  ...   224.000000   \n",
              "\n",
              "       Unnamed: 48  Unnamed: 49  Unnamed: 50  Unnamed: 51  Unnamed: 52  \\\n",
              "count   501.000000   501.000000   501.000000   501.000000   501.000000   \n",
              "mean     21.323353    20.904192    20.820359    26.840319    18.720559   \n",
              "std      31.449821    31.591372    29.901366    39.455778    26.755967   \n",
              "min       0.000000     0.000000     0.000000     0.000000     0.000000   \n",
              "25%       3.000000     2.000000     4.000000     5.000000     0.000000   \n",
              "50%      12.000000    12.000000    12.000000    16.000000    10.000000   \n",
              "75%      24.000000    24.000000    24.000000    31.000000    24.000000   \n",
              "max     211.000000   204.000000   216.000000   294.000000   184.000000   \n",
              "\n",
              "       Unnamed: 53  Unnamed: 54  Unnamed: 55  Unnamed: 56  \n",
              "count   501.000000   501.000000   501.000000   501.000000  \n",
              "mean     21.994012    25.790419    24.700599    13.191617  \n",
              "std      33.418467    39.302951    36.078223    22.718873  \n",
              "min       0.000000     0.000000     0.000000     0.000000  \n",
              "25%       2.000000     3.000000     0.000000     0.000000  \n",
              "50%      12.000000    15.000000    15.000000     6.000000  \n",
              "75%      25.000000    29.000000    28.000000    14.000000  \n",
              "max     290.000000   420.000000   270.000000   211.000000  \n",
              "\n",
              "[8 rows x 53 columns]"
            ],
            "text/html": [
              "\n",
              "  <div id=\"df-aae74a74-42c5-4c1a-b163-3b4f25fd9dd5\" class=\"colab-df-container\">\n",
              "    <div>\n",
              "<style scoped>\n",
              "    .dataframe tbody tr th:only-of-type {\n",
              "        vertical-align: middle;\n",
              "    }\n",
              "\n",
              "    .dataframe tbody tr th {\n",
              "        vertical-align: top;\n",
              "    }\n",
              "\n",
              "    .dataframe thead th {\n",
              "        text-align: right;\n",
              "    }\n",
              "</style>\n",
              "<table border=\"1\" class=\"dataframe\">\n",
              "  <thead>\n",
              "    <tr style=\"text-align: right;\">\n",
              "      <th></th>\n",
              "      <th>Week</th>\n",
              "      <th>Unnamed: 5</th>\n",
              "      <th>Unnamed: 6</th>\n",
              "      <th>Unnamed: 7</th>\n",
              "      <th>Unnamed: 8</th>\n",
              "      <th>Unnamed: 9</th>\n",
              "      <th>Unnamed: 10</th>\n",
              "      <th>Unnamed: 11</th>\n",
              "      <th>Unnamed: 12</th>\n",
              "      <th>Unnamed: 13</th>\n",
              "      <th>...</th>\n",
              "      <th>Unnamed: 47</th>\n",
              "      <th>Unnamed: 48</th>\n",
              "      <th>Unnamed: 49</th>\n",
              "      <th>Unnamed: 50</th>\n",
              "      <th>Unnamed: 51</th>\n",
              "      <th>Unnamed: 52</th>\n",
              "      <th>Unnamed: 53</th>\n",
              "      <th>Unnamed: 54</th>\n",
              "      <th>Unnamed: 55</th>\n",
              "      <th>Unnamed: 56</th>\n",
              "    </tr>\n",
              "  </thead>\n",
              "  <tbody>\n",
              "    <tr>\n",
              "      <th>count</th>\n",
              "      <td>501.000000</td>\n",
              "      <td>501.000000</td>\n",
              "      <td>501.000000</td>\n",
              "      <td>501.000000</td>\n",
              "      <td>501.000000</td>\n",
              "      <td>501.000000</td>\n",
              "      <td>501.000000</td>\n",
              "      <td>501.000000</td>\n",
              "      <td>501.000000</td>\n",
              "      <td>501.000000</td>\n",
              "      <td>...</td>\n",
              "      <td>501.000000</td>\n",
              "      <td>501.000000</td>\n",
              "      <td>501.000000</td>\n",
              "      <td>501.000000</td>\n",
              "      <td>501.000000</td>\n",
              "      <td>501.000000</td>\n",
              "      <td>501.000000</td>\n",
              "      <td>501.000000</td>\n",
              "      <td>501.000000</td>\n",
              "      <td>501.000000</td>\n",
              "    </tr>\n",
              "    <tr>\n",
              "      <th>mean</th>\n",
              "      <td>11.596806</td>\n",
              "      <td>16.113772</td>\n",
              "      <td>16.115768</td>\n",
              "      <td>17.209581</td>\n",
              "      <td>17.055888</td>\n",
              "      <td>19.015968</td>\n",
              "      <td>18.926148</td>\n",
              "      <td>16.564870</td>\n",
              "      <td>15.812375</td>\n",
              "      <td>15.732535</td>\n",
              "      <td>...</td>\n",
              "      <td>22.720559</td>\n",
              "      <td>21.323353</td>\n",
              "      <td>20.904192</td>\n",
              "      <td>20.820359</td>\n",
              "      <td>26.840319</td>\n",
              "      <td>18.720559</td>\n",
              "      <td>21.994012</td>\n",
              "      <td>25.790419</td>\n",
              "      <td>24.700599</td>\n",
              "      <td>13.191617</td>\n",
              "    </tr>\n",
              "    <tr>\n",
              "      <th>std</th>\n",
              "      <td>20.220908</td>\n",
              "      <td>21.935201</td>\n",
              "      <td>21.933959</td>\n",
              "      <td>25.298023</td>\n",
              "      <td>25.186522</td>\n",
              "      <td>27.830123</td>\n",
              "      <td>28.241822</td>\n",
              "      <td>23.582075</td>\n",
              "      <td>23.201826</td>\n",
              "      <td>22.824818</td>\n",
              "      <td>...</td>\n",
              "      <td>32.733496</td>\n",
              "      <td>31.449821</td>\n",
              "      <td>31.591372</td>\n",
              "      <td>29.901366</td>\n",
              "      <td>39.455778</td>\n",
              "      <td>26.755967</td>\n",
              "      <td>33.418467</td>\n",
              "      <td>39.302951</td>\n",
              "      <td>36.078223</td>\n",
              "      <td>22.718873</td>\n",
              "    </tr>\n",
              "    <tr>\n",
              "      <th>min</th>\n",
              "      <td>0.000000</td>\n",
              "      <td>0.000000</td>\n",
              "      <td>0.000000</td>\n",
              "      <td>0.000000</td>\n",
              "      <td>0.000000</td>\n",
              "      <td>0.000000</td>\n",
              "      <td>0.000000</td>\n",
              "      <td>0.000000</td>\n",
              "      <td>0.000000</td>\n",
              "      <td>0.000000</td>\n",
              "      <td>...</td>\n",
              "      <td>0.000000</td>\n",
              "      <td>0.000000</td>\n",
              "      <td>0.000000</td>\n",
              "      <td>0.000000</td>\n",
              "      <td>0.000000</td>\n",
              "      <td>0.000000</td>\n",
              "      <td>0.000000</td>\n",
              "      <td>0.000000</td>\n",
              "      <td>0.000000</td>\n",
              "      <td>0.000000</td>\n",
              "    </tr>\n",
              "    <tr>\n",
              "      <th>25%</th>\n",
              "      <td>0.000000</td>\n",
              "      <td>2.000000</td>\n",
              "      <td>2.000000</td>\n",
              "      <td>3.000000</td>\n",
              "      <td>1.000000</td>\n",
              "      <td>4.000000</td>\n",
              "      <td>3.000000</td>\n",
              "      <td>1.000000</td>\n",
              "      <td>0.000000</td>\n",
              "      <td>0.000000</td>\n",
              "      <td>...</td>\n",
              "      <td>4.000000</td>\n",
              "      <td>3.000000</td>\n",
              "      <td>2.000000</td>\n",
              "      <td>4.000000</td>\n",
              "      <td>5.000000</td>\n",
              "      <td>0.000000</td>\n",
              "      <td>2.000000</td>\n",
              "      <td>3.000000</td>\n",
              "      <td>0.000000</td>\n",
              "      <td>0.000000</td>\n",
              "    </tr>\n",
              "    <tr>\n",
              "      <th>50%</th>\n",
              "      <td>6.000000</td>\n",
              "      <td>10.000000</td>\n",
              "      <td>10.000000</td>\n",
              "      <td>11.000000</td>\n",
              "      <td>10.000000</td>\n",
              "      <td>12.000000</td>\n",
              "      <td>11.000000</td>\n",
              "      <td>10.000000</td>\n",
              "      <td>10.000000</td>\n",
              "      <td>9.000000</td>\n",
              "      <td>...</td>\n",
              "      <td>12.000000</td>\n",
              "      <td>12.000000</td>\n",
              "      <td>12.000000</td>\n",
              "      <td>12.000000</td>\n",
              "      <td>16.000000</td>\n",
              "      <td>10.000000</td>\n",
              "      <td>12.000000</td>\n",
              "      <td>15.000000</td>\n",
              "      <td>15.000000</td>\n",
              "      <td>6.000000</td>\n",
              "    </tr>\n",
              "    <tr>\n",
              "      <th>75%</th>\n",
              "      <td>13.000000</td>\n",
              "      <td>20.000000</td>\n",
              "      <td>20.000000</td>\n",
              "      <td>22.000000</td>\n",
              "      <td>20.000000</td>\n",
              "      <td>23.000000</td>\n",
              "      <td>24.000000</td>\n",
              "      <td>20.000000</td>\n",
              "      <td>19.000000</td>\n",
              "      <td>19.000000</td>\n",
              "      <td>...</td>\n",
              "      <td>28.000000</td>\n",
              "      <td>24.000000</td>\n",
              "      <td>24.000000</td>\n",
              "      <td>24.000000</td>\n",
              "      <td>31.000000</td>\n",
              "      <td>24.000000</td>\n",
              "      <td>25.000000</td>\n",
              "      <td>29.000000</td>\n",
              "      <td>28.000000</td>\n",
              "      <td>14.000000</td>\n",
              "    </tr>\n",
              "    <tr>\n",
              "      <th>max</th>\n",
              "      <td>230.000000</td>\n",
              "      <td>181.000000</td>\n",
              "      <td>181.000000</td>\n",
              "      <td>280.000000</td>\n",
              "      <td>210.000000</td>\n",
              "      <td>240.000000</td>\n",
              "      <td>252.000000</td>\n",
              "      <td>189.000000</td>\n",
              "      <td>260.000000</td>\n",
              "      <td>215.000000</td>\n",
              "      <td>...</td>\n",
              "      <td>224.000000</td>\n",
              "      <td>211.000000</td>\n",
              "      <td>204.000000</td>\n",
              "      <td>216.000000</td>\n",
              "      <td>294.000000</td>\n",
              "      <td>184.000000</td>\n",
              "      <td>290.000000</td>\n",
              "      <td>420.000000</td>\n",
              "      <td>270.000000</td>\n",
              "      <td>211.000000</td>\n",
              "    </tr>\n",
              "  </tbody>\n",
              "</table>\n",
              "<p>8 rows × 53 columns</p>\n",
              "</div>\n",
              "    <div class=\"colab-df-buttons\">\n",
              "\n",
              "  <div class=\"colab-df-container\">\n",
              "    <button class=\"colab-df-convert\" onclick=\"convertToInteractive('df-aae74a74-42c5-4c1a-b163-3b4f25fd9dd5')\"\n",
              "            title=\"Convert this dataframe to an interactive table.\"\n",
              "            style=\"display:none;\">\n",
              "\n",
              "  <svg xmlns=\"http://www.w3.org/2000/svg\" height=\"24px\" viewBox=\"0 -960 960 960\">\n",
              "    <path d=\"M120-120v-720h720v720H120Zm60-500h600v-160H180v160Zm220 220h160v-160H400v160Zm0 220h160v-160H400v160ZM180-400h160v-160H180v160Zm440 0h160v-160H620v160ZM180-180h160v-160H180v160Zm440 0h160v-160H620v160Z\"/>\n",
              "  </svg>\n",
              "    </button>\n",
              "\n",
              "  <style>\n",
              "    .colab-df-container {\n",
              "      display:flex;\n",
              "      gap: 12px;\n",
              "    }\n",
              "\n",
              "    .colab-df-convert {\n",
              "      background-color: #E8F0FE;\n",
              "      border: none;\n",
              "      border-radius: 50%;\n",
              "      cursor: pointer;\n",
              "      display: none;\n",
              "      fill: #1967D2;\n",
              "      height: 32px;\n",
              "      padding: 0 0 0 0;\n",
              "      width: 32px;\n",
              "    }\n",
              "\n",
              "    .colab-df-convert:hover {\n",
              "      background-color: #E2EBFA;\n",
              "      box-shadow: 0px 1px 2px rgba(60, 64, 67, 0.3), 0px 1px 3px 1px rgba(60, 64, 67, 0.15);\n",
              "      fill: #174EA6;\n",
              "    }\n",
              "\n",
              "    .colab-df-buttons div {\n",
              "      margin-bottom: 4px;\n",
              "    }\n",
              "\n",
              "    [theme=dark] .colab-df-convert {\n",
              "      background-color: #3B4455;\n",
              "      fill: #D2E3FC;\n",
              "    }\n",
              "\n",
              "    [theme=dark] .colab-df-convert:hover {\n",
              "      background-color: #434B5C;\n",
              "      box-shadow: 0px 1px 3px 1px rgba(0, 0, 0, 0.15);\n",
              "      filter: drop-shadow(0px 1px 2px rgba(0, 0, 0, 0.3));\n",
              "      fill: #FFFFFF;\n",
              "    }\n",
              "  </style>\n",
              "\n",
              "    <script>\n",
              "      const buttonEl =\n",
              "        document.querySelector('#df-aae74a74-42c5-4c1a-b163-3b4f25fd9dd5 button.colab-df-convert');\n",
              "      buttonEl.style.display =\n",
              "        google.colab.kernel.accessAllowed ? 'block' : 'none';\n",
              "\n",
              "      async function convertToInteractive(key) {\n",
              "        const element = document.querySelector('#df-aae74a74-42c5-4c1a-b163-3b4f25fd9dd5');\n",
              "        const dataTable =\n",
              "          await google.colab.kernel.invokeFunction('convertToInteractive',\n",
              "                                                    [key], {});\n",
              "        if (!dataTable) return;\n",
              "\n",
              "        const docLinkHtml = 'Like what you see? Visit the ' +\n",
              "          '<a target=\"_blank\" href=https://colab.research.google.com/notebooks/data_table.ipynb>data table notebook</a>'\n",
              "          + ' to learn more about interactive tables.';\n",
              "        element.innerHTML = '';\n",
              "        dataTable['output_type'] = 'display_data';\n",
              "        await google.colab.output.renderOutput(dataTable, element);\n",
              "        const docLink = document.createElement('div');\n",
              "        docLink.innerHTML = docLinkHtml;\n",
              "        element.appendChild(docLink);\n",
              "      }\n",
              "    </script>\n",
              "  </div>\n",
              "\n",
              "\n",
              "<div id=\"df-3be68356-64f8-4283-9941-aecab79a3eb0\">\n",
              "  <button class=\"colab-df-quickchart\" onclick=\"quickchart('df-3be68356-64f8-4283-9941-aecab79a3eb0')\"\n",
              "            title=\"Suggest charts\"\n",
              "            style=\"display:none;\">\n",
              "\n",
              "<svg xmlns=\"http://www.w3.org/2000/svg\" height=\"24px\"viewBox=\"0 0 24 24\"\n",
              "     width=\"24px\">\n",
              "    <g>\n",
              "        <path d=\"M19 3H5c-1.1 0-2 .9-2 2v14c0 1.1.9 2 2 2h14c1.1 0 2-.9 2-2V5c0-1.1-.9-2-2-2zM9 17H7v-7h2v7zm4 0h-2V7h2v10zm4 0h-2v-4h2v4z\"/>\n",
              "    </g>\n",
              "</svg>\n",
              "  </button>\n",
              "\n",
              "<style>\n",
              "  .colab-df-quickchart {\n",
              "      --bg-color: #E8F0FE;\n",
              "      --fill-color: #1967D2;\n",
              "      --hover-bg-color: #E2EBFA;\n",
              "      --hover-fill-color: #174EA6;\n",
              "      --disabled-fill-color: #AAA;\n",
              "      --disabled-bg-color: #DDD;\n",
              "  }\n",
              "\n",
              "  [theme=dark] .colab-df-quickchart {\n",
              "      --bg-color: #3B4455;\n",
              "      --fill-color: #D2E3FC;\n",
              "      --hover-bg-color: #434B5C;\n",
              "      --hover-fill-color: #FFFFFF;\n",
              "      --disabled-bg-color: #3B4455;\n",
              "      --disabled-fill-color: #666;\n",
              "  }\n",
              "\n",
              "  .colab-df-quickchart {\n",
              "    background-color: var(--bg-color);\n",
              "    border: none;\n",
              "    border-radius: 50%;\n",
              "    cursor: pointer;\n",
              "    display: none;\n",
              "    fill: var(--fill-color);\n",
              "    height: 32px;\n",
              "    padding: 0;\n",
              "    width: 32px;\n",
              "  }\n",
              "\n",
              "  .colab-df-quickchart:hover {\n",
              "    background-color: var(--hover-bg-color);\n",
              "    box-shadow: 0 1px 2px rgba(60, 64, 67, 0.3), 0 1px 3px 1px rgba(60, 64, 67, 0.15);\n",
              "    fill: var(--button-hover-fill-color);\n",
              "  }\n",
              "\n",
              "  .colab-df-quickchart-complete:disabled,\n",
              "  .colab-df-quickchart-complete:disabled:hover {\n",
              "    background-color: var(--disabled-bg-color);\n",
              "    fill: var(--disabled-fill-color);\n",
              "    box-shadow: none;\n",
              "  }\n",
              "\n",
              "  .colab-df-spinner {\n",
              "    border: 2px solid var(--fill-color);\n",
              "    border-color: transparent;\n",
              "    border-bottom-color: var(--fill-color);\n",
              "    animation:\n",
              "      spin 1s steps(1) infinite;\n",
              "  }\n",
              "\n",
              "  @keyframes spin {\n",
              "    0% {\n",
              "      border-color: transparent;\n",
              "      border-bottom-color: var(--fill-color);\n",
              "      border-left-color: var(--fill-color);\n",
              "    }\n",
              "    20% {\n",
              "      border-color: transparent;\n",
              "      border-left-color: var(--fill-color);\n",
              "      border-top-color: var(--fill-color);\n",
              "    }\n",
              "    30% {\n",
              "      border-color: transparent;\n",
              "      border-left-color: var(--fill-color);\n",
              "      border-top-color: var(--fill-color);\n",
              "      border-right-color: var(--fill-color);\n",
              "    }\n",
              "    40% {\n",
              "      border-color: transparent;\n",
              "      border-right-color: var(--fill-color);\n",
              "      border-top-color: var(--fill-color);\n",
              "    }\n",
              "    60% {\n",
              "      border-color: transparent;\n",
              "      border-right-color: var(--fill-color);\n",
              "    }\n",
              "    80% {\n",
              "      border-color: transparent;\n",
              "      border-right-color: var(--fill-color);\n",
              "      border-bottom-color: var(--fill-color);\n",
              "    }\n",
              "    90% {\n",
              "      border-color: transparent;\n",
              "      border-bottom-color: var(--fill-color);\n",
              "    }\n",
              "  }\n",
              "</style>\n",
              "\n",
              "  <script>\n",
              "    async function quickchart(key) {\n",
              "      const quickchartButtonEl =\n",
              "        document.querySelector('#' + key + ' button');\n",
              "      quickchartButtonEl.disabled = true;  // To prevent multiple clicks.\n",
              "      quickchartButtonEl.classList.add('colab-df-spinner');\n",
              "      try {\n",
              "        const charts = await google.colab.kernel.invokeFunction(\n",
              "            'suggestCharts', [key], {});\n",
              "      } catch (error) {\n",
              "        console.error('Error during call to suggestCharts:', error);\n",
              "      }\n",
              "      quickchartButtonEl.classList.remove('colab-df-spinner');\n",
              "      quickchartButtonEl.classList.add('colab-df-quickchart-complete');\n",
              "    }\n",
              "    (() => {\n",
              "      let quickchartButtonEl =\n",
              "        document.querySelector('#df-3be68356-64f8-4283-9941-aecab79a3eb0 button');\n",
              "      quickchartButtonEl.style.display =\n",
              "        google.colab.kernel.accessAllowed ? 'block' : 'none';\n",
              "    })();\n",
              "  </script>\n",
              "</div>\n",
              "\n",
              "    </div>\n",
              "  </div>\n"
            ],
            "application/vnd.google.colaboratory.intrinsic+json": {
              "type": "dataframe"
            }
          },
          "metadata": {},
          "execution_count": 3
        }
      ]
    },
    {
      "cell_type": "code",
      "source": [
        "Weekly_High_Volume_Store.tail()"
      ],
      "metadata": {
        "id": "2gCuFWHYyXzR",
        "colab": {
          "base_uri": "https://localhost:8080/",
          "height": 533
        },
        "outputId": "d1238826-342c-4104-eb97-3941f99b6af3"
      },
      "execution_count": 4,
      "outputs": [
        {
          "output_type": "execute_result",
          "data": {
            "text/plain": [
              "    Unnamed: 0                            Unnamed: 1 Unnamed: 2 Unnamed: 3  \\\n",
              "496      18798  TRULY VODKA SELTZER VARIETY 3/8 CANS         24    2.37375   \n",
              "497     297232      POST MERIDIEM SOUTHSIDE 24/100ML         24       4.99   \n",
              "498      83305      K JACKSON VINT RES S/BLC - 750ML         12      14.99   \n",
              "499      36722               KETEL ONE VODKA - 750ML         12      27.99   \n",
              "500     330401            JOSH CELLARS S/BLC - 750ML         12      16.99   \n",
              "\n",
              "     Week  Unnamed: 5  Unnamed: 6  Unnamed: 7  Unnamed: 8  Unnamed: 9  ...  \\\n",
              "496     8           8           8           8          16           0  ...   \n",
              "497     0           0           0           0           0           0  ...   \n",
              "498     0           2           2           5           7           4  ...   \n",
              "499     2           8           8           5           5           7  ...   \n",
              "500     0           0           0           0           0           0  ...   \n",
              "\n",
              "     Unnamed: 48  Unnamed: 49  Unnamed: 50  Unnamed: 51  Unnamed: 52  \\\n",
              "496            0            8            0            0           16   \n",
              "497            0            0            0            0            0   \n",
              "498            5            1            5            3            9   \n",
              "499            2           13            4            9            5   \n",
              "500            0            0            0            0            0   \n",
              "\n",
              "     Unnamed: 53  Unnamed: 54  Unnamed: 55  Unnamed: 56  Unnamed: 57  \n",
              "496           16            0            0            0          394  \n",
              "497            0            0            0            0           29  \n",
              "498           18           21           12            6          382  \n",
              "499           11           10           13            6          399  \n",
              "500            0            0            0            0           29  \n",
              "\n",
              "[5 rows x 58 columns]"
            ],
            "text/html": [
              "\n",
              "  <div id=\"df-5130bbcb-0762-42b0-8cd9-7e021923285e\" class=\"colab-df-container\">\n",
              "    <div>\n",
              "<style scoped>\n",
              "    .dataframe tbody tr th:only-of-type {\n",
              "        vertical-align: middle;\n",
              "    }\n",
              "\n",
              "    .dataframe tbody tr th {\n",
              "        vertical-align: top;\n",
              "    }\n",
              "\n",
              "    .dataframe thead th {\n",
              "        text-align: right;\n",
              "    }\n",
              "</style>\n",
              "<table border=\"1\" class=\"dataframe\">\n",
              "  <thead>\n",
              "    <tr style=\"text-align: right;\">\n",
              "      <th></th>\n",
              "      <th>Unnamed: 0</th>\n",
              "      <th>Unnamed: 1</th>\n",
              "      <th>Unnamed: 2</th>\n",
              "      <th>Unnamed: 3</th>\n",
              "      <th>Week</th>\n",
              "      <th>Unnamed: 5</th>\n",
              "      <th>Unnamed: 6</th>\n",
              "      <th>Unnamed: 7</th>\n",
              "      <th>Unnamed: 8</th>\n",
              "      <th>Unnamed: 9</th>\n",
              "      <th>...</th>\n",
              "      <th>Unnamed: 48</th>\n",
              "      <th>Unnamed: 49</th>\n",
              "      <th>Unnamed: 50</th>\n",
              "      <th>Unnamed: 51</th>\n",
              "      <th>Unnamed: 52</th>\n",
              "      <th>Unnamed: 53</th>\n",
              "      <th>Unnamed: 54</th>\n",
              "      <th>Unnamed: 55</th>\n",
              "      <th>Unnamed: 56</th>\n",
              "      <th>Unnamed: 57</th>\n",
              "    </tr>\n",
              "  </thead>\n",
              "  <tbody>\n",
              "    <tr>\n",
              "      <th>496</th>\n",
              "      <td>18798</td>\n",
              "      <td>TRULY VODKA SELTZER VARIETY 3/8 CANS</td>\n",
              "      <td>24</td>\n",
              "      <td>2.37375</td>\n",
              "      <td>8</td>\n",
              "      <td>8</td>\n",
              "      <td>8</td>\n",
              "      <td>8</td>\n",
              "      <td>16</td>\n",
              "      <td>0</td>\n",
              "      <td>...</td>\n",
              "      <td>0</td>\n",
              "      <td>8</td>\n",
              "      <td>0</td>\n",
              "      <td>0</td>\n",
              "      <td>16</td>\n",
              "      <td>16</td>\n",
              "      <td>0</td>\n",
              "      <td>0</td>\n",
              "      <td>0</td>\n",
              "      <td>394</td>\n",
              "    </tr>\n",
              "    <tr>\n",
              "      <th>497</th>\n",
              "      <td>297232</td>\n",
              "      <td>POST MERIDIEM SOUTHSIDE 24/100ML</td>\n",
              "      <td>24</td>\n",
              "      <td>4.99</td>\n",
              "      <td>0</td>\n",
              "      <td>0</td>\n",
              "      <td>0</td>\n",
              "      <td>0</td>\n",
              "      <td>0</td>\n",
              "      <td>0</td>\n",
              "      <td>...</td>\n",
              "      <td>0</td>\n",
              "      <td>0</td>\n",
              "      <td>0</td>\n",
              "      <td>0</td>\n",
              "      <td>0</td>\n",
              "      <td>0</td>\n",
              "      <td>0</td>\n",
              "      <td>0</td>\n",
              "      <td>0</td>\n",
              "      <td>29</td>\n",
              "    </tr>\n",
              "    <tr>\n",
              "      <th>498</th>\n",
              "      <td>83305</td>\n",
              "      <td>K JACKSON VINT RES S/BLC - 750ML</td>\n",
              "      <td>12</td>\n",
              "      <td>14.99</td>\n",
              "      <td>0</td>\n",
              "      <td>2</td>\n",
              "      <td>2</td>\n",
              "      <td>5</td>\n",
              "      <td>7</td>\n",
              "      <td>4</td>\n",
              "      <td>...</td>\n",
              "      <td>5</td>\n",
              "      <td>1</td>\n",
              "      <td>5</td>\n",
              "      <td>3</td>\n",
              "      <td>9</td>\n",
              "      <td>18</td>\n",
              "      <td>21</td>\n",
              "      <td>12</td>\n",
              "      <td>6</td>\n",
              "      <td>382</td>\n",
              "    </tr>\n",
              "    <tr>\n",
              "      <th>499</th>\n",
              "      <td>36722</td>\n",
              "      <td>KETEL ONE VODKA - 750ML</td>\n",
              "      <td>12</td>\n",
              "      <td>27.99</td>\n",
              "      <td>2</td>\n",
              "      <td>8</td>\n",
              "      <td>8</td>\n",
              "      <td>5</td>\n",
              "      <td>5</td>\n",
              "      <td>7</td>\n",
              "      <td>...</td>\n",
              "      <td>2</td>\n",
              "      <td>13</td>\n",
              "      <td>4</td>\n",
              "      <td>9</td>\n",
              "      <td>5</td>\n",
              "      <td>11</td>\n",
              "      <td>10</td>\n",
              "      <td>13</td>\n",
              "      <td>6</td>\n",
              "      <td>399</td>\n",
              "    </tr>\n",
              "    <tr>\n",
              "      <th>500</th>\n",
              "      <td>330401</td>\n",
              "      <td>JOSH CELLARS S/BLC - 750ML</td>\n",
              "      <td>12</td>\n",
              "      <td>16.99</td>\n",
              "      <td>0</td>\n",
              "      <td>0</td>\n",
              "      <td>0</td>\n",
              "      <td>0</td>\n",
              "      <td>0</td>\n",
              "      <td>0</td>\n",
              "      <td>...</td>\n",
              "      <td>0</td>\n",
              "      <td>0</td>\n",
              "      <td>0</td>\n",
              "      <td>0</td>\n",
              "      <td>0</td>\n",
              "      <td>0</td>\n",
              "      <td>0</td>\n",
              "      <td>0</td>\n",
              "      <td>0</td>\n",
              "      <td>29</td>\n",
              "    </tr>\n",
              "  </tbody>\n",
              "</table>\n",
              "<p>5 rows × 58 columns</p>\n",
              "</div>\n",
              "    <div class=\"colab-df-buttons\">\n",
              "\n",
              "  <div class=\"colab-df-container\">\n",
              "    <button class=\"colab-df-convert\" onclick=\"convertToInteractive('df-5130bbcb-0762-42b0-8cd9-7e021923285e')\"\n",
              "            title=\"Convert this dataframe to an interactive table.\"\n",
              "            style=\"display:none;\">\n",
              "\n",
              "  <svg xmlns=\"http://www.w3.org/2000/svg\" height=\"24px\" viewBox=\"0 -960 960 960\">\n",
              "    <path d=\"M120-120v-720h720v720H120Zm60-500h600v-160H180v160Zm220 220h160v-160H400v160Zm0 220h160v-160H400v160ZM180-400h160v-160H180v160Zm440 0h160v-160H620v160ZM180-180h160v-160H180v160Zm440 0h160v-160H620v160Z\"/>\n",
              "  </svg>\n",
              "    </button>\n",
              "\n",
              "  <style>\n",
              "    .colab-df-container {\n",
              "      display:flex;\n",
              "      gap: 12px;\n",
              "    }\n",
              "\n",
              "    .colab-df-convert {\n",
              "      background-color: #E8F0FE;\n",
              "      border: none;\n",
              "      border-radius: 50%;\n",
              "      cursor: pointer;\n",
              "      display: none;\n",
              "      fill: #1967D2;\n",
              "      height: 32px;\n",
              "      padding: 0 0 0 0;\n",
              "      width: 32px;\n",
              "    }\n",
              "\n",
              "    .colab-df-convert:hover {\n",
              "      background-color: #E2EBFA;\n",
              "      box-shadow: 0px 1px 2px rgba(60, 64, 67, 0.3), 0px 1px 3px 1px rgba(60, 64, 67, 0.15);\n",
              "      fill: #174EA6;\n",
              "    }\n",
              "\n",
              "    .colab-df-buttons div {\n",
              "      margin-bottom: 4px;\n",
              "    }\n",
              "\n",
              "    [theme=dark] .colab-df-convert {\n",
              "      background-color: #3B4455;\n",
              "      fill: #D2E3FC;\n",
              "    }\n",
              "\n",
              "    [theme=dark] .colab-df-convert:hover {\n",
              "      background-color: #434B5C;\n",
              "      box-shadow: 0px 1px 3px 1px rgba(0, 0, 0, 0.15);\n",
              "      filter: drop-shadow(0px 1px 2px rgba(0, 0, 0, 0.3));\n",
              "      fill: #FFFFFF;\n",
              "    }\n",
              "  </style>\n",
              "\n",
              "    <script>\n",
              "      const buttonEl =\n",
              "        document.querySelector('#df-5130bbcb-0762-42b0-8cd9-7e021923285e button.colab-df-convert');\n",
              "      buttonEl.style.display =\n",
              "        google.colab.kernel.accessAllowed ? 'block' : 'none';\n",
              "\n",
              "      async function convertToInteractive(key) {\n",
              "        const element = document.querySelector('#df-5130bbcb-0762-42b0-8cd9-7e021923285e');\n",
              "        const dataTable =\n",
              "          await google.colab.kernel.invokeFunction('convertToInteractive',\n",
              "                                                    [key], {});\n",
              "        if (!dataTable) return;\n",
              "\n",
              "        const docLinkHtml = 'Like what you see? Visit the ' +\n",
              "          '<a target=\"_blank\" href=https://colab.research.google.com/notebooks/data_table.ipynb>data table notebook</a>'\n",
              "          + ' to learn more about interactive tables.';\n",
              "        element.innerHTML = '';\n",
              "        dataTable['output_type'] = 'display_data';\n",
              "        await google.colab.output.renderOutput(dataTable, element);\n",
              "        const docLink = document.createElement('div');\n",
              "        docLink.innerHTML = docLinkHtml;\n",
              "        element.appendChild(docLink);\n",
              "      }\n",
              "    </script>\n",
              "  </div>\n",
              "\n",
              "\n",
              "<div id=\"df-39a80ea4-71e9-4d6a-9724-0c0e02b74f26\">\n",
              "  <button class=\"colab-df-quickchart\" onclick=\"quickchart('df-39a80ea4-71e9-4d6a-9724-0c0e02b74f26')\"\n",
              "            title=\"Suggest charts\"\n",
              "            style=\"display:none;\">\n",
              "\n",
              "<svg xmlns=\"http://www.w3.org/2000/svg\" height=\"24px\"viewBox=\"0 0 24 24\"\n",
              "     width=\"24px\">\n",
              "    <g>\n",
              "        <path d=\"M19 3H5c-1.1 0-2 .9-2 2v14c0 1.1.9 2 2 2h14c1.1 0 2-.9 2-2V5c0-1.1-.9-2-2-2zM9 17H7v-7h2v7zm4 0h-2V7h2v10zm4 0h-2v-4h2v4z\"/>\n",
              "    </g>\n",
              "</svg>\n",
              "  </button>\n",
              "\n",
              "<style>\n",
              "  .colab-df-quickchart {\n",
              "      --bg-color: #E8F0FE;\n",
              "      --fill-color: #1967D2;\n",
              "      --hover-bg-color: #E2EBFA;\n",
              "      --hover-fill-color: #174EA6;\n",
              "      --disabled-fill-color: #AAA;\n",
              "      --disabled-bg-color: #DDD;\n",
              "  }\n",
              "\n",
              "  [theme=dark] .colab-df-quickchart {\n",
              "      --bg-color: #3B4455;\n",
              "      --fill-color: #D2E3FC;\n",
              "      --hover-bg-color: #434B5C;\n",
              "      --hover-fill-color: #FFFFFF;\n",
              "      --disabled-bg-color: #3B4455;\n",
              "      --disabled-fill-color: #666;\n",
              "  }\n",
              "\n",
              "  .colab-df-quickchart {\n",
              "    background-color: var(--bg-color);\n",
              "    border: none;\n",
              "    border-radius: 50%;\n",
              "    cursor: pointer;\n",
              "    display: none;\n",
              "    fill: var(--fill-color);\n",
              "    height: 32px;\n",
              "    padding: 0;\n",
              "    width: 32px;\n",
              "  }\n",
              "\n",
              "  .colab-df-quickchart:hover {\n",
              "    background-color: var(--hover-bg-color);\n",
              "    box-shadow: 0 1px 2px rgba(60, 64, 67, 0.3), 0 1px 3px 1px rgba(60, 64, 67, 0.15);\n",
              "    fill: var(--button-hover-fill-color);\n",
              "  }\n",
              "\n",
              "  .colab-df-quickchart-complete:disabled,\n",
              "  .colab-df-quickchart-complete:disabled:hover {\n",
              "    background-color: var(--disabled-bg-color);\n",
              "    fill: var(--disabled-fill-color);\n",
              "    box-shadow: none;\n",
              "  }\n",
              "\n",
              "  .colab-df-spinner {\n",
              "    border: 2px solid var(--fill-color);\n",
              "    border-color: transparent;\n",
              "    border-bottom-color: var(--fill-color);\n",
              "    animation:\n",
              "      spin 1s steps(1) infinite;\n",
              "  }\n",
              "\n",
              "  @keyframes spin {\n",
              "    0% {\n",
              "      border-color: transparent;\n",
              "      border-bottom-color: var(--fill-color);\n",
              "      border-left-color: var(--fill-color);\n",
              "    }\n",
              "    20% {\n",
              "      border-color: transparent;\n",
              "      border-left-color: var(--fill-color);\n",
              "      border-top-color: var(--fill-color);\n",
              "    }\n",
              "    30% {\n",
              "      border-color: transparent;\n",
              "      border-left-color: var(--fill-color);\n",
              "      border-top-color: var(--fill-color);\n",
              "      border-right-color: var(--fill-color);\n",
              "    }\n",
              "    40% {\n",
              "      border-color: transparent;\n",
              "      border-right-color: var(--fill-color);\n",
              "      border-top-color: var(--fill-color);\n",
              "    }\n",
              "    60% {\n",
              "      border-color: transparent;\n",
              "      border-right-color: var(--fill-color);\n",
              "    }\n",
              "    80% {\n",
              "      border-color: transparent;\n",
              "      border-right-color: var(--fill-color);\n",
              "      border-bottom-color: var(--fill-color);\n",
              "    }\n",
              "    90% {\n",
              "      border-color: transparent;\n",
              "      border-bottom-color: var(--fill-color);\n",
              "    }\n",
              "  }\n",
              "</style>\n",
              "\n",
              "  <script>\n",
              "    async function quickchart(key) {\n",
              "      const quickchartButtonEl =\n",
              "        document.querySelector('#' + key + ' button');\n",
              "      quickchartButtonEl.disabled = true;  // To prevent multiple clicks.\n",
              "      quickchartButtonEl.classList.add('colab-df-spinner');\n",
              "      try {\n",
              "        const charts = await google.colab.kernel.invokeFunction(\n",
              "            'suggestCharts', [key], {});\n",
              "      } catch (error) {\n",
              "        console.error('Error during call to suggestCharts:', error);\n",
              "      }\n",
              "      quickchartButtonEl.classList.remove('colab-df-spinner');\n",
              "      quickchartButtonEl.classList.add('colab-df-quickchart-complete');\n",
              "    }\n",
              "    (() => {\n",
              "      let quickchartButtonEl =\n",
              "        document.querySelector('#df-39a80ea4-71e9-4d6a-9724-0c0e02b74f26 button');\n",
              "      quickchartButtonEl.style.display =\n",
              "        google.colab.kernel.accessAllowed ? 'block' : 'none';\n",
              "    })();\n",
              "  </script>\n",
              "</div>\n",
              "\n",
              "    </div>\n",
              "  </div>\n"
            ],
            "application/vnd.google.colaboratory.intrinsic+json": {
              "type": "dataframe"
            }
          },
          "metadata": {},
          "execution_count": 4
        }
      ]
    },
    {
      "cell_type": "code",
      "source": [
        "Weekly_High_Volume_Store = pd.read_csv(\"Montgomery College Data Set (High Volume_Weekly).csv\", header=1)  # Change 1 to the correct row index\n",
        "Weekly_High_Volume_Store = Weekly_High_Volume_Store.loc[:, ~Weekly_High_Volume_Store.columns.str.contains(\"^Unnamed\")]  # Remove unnamed columns\n"
      ],
      "metadata": {
        "id": "qGIwIubX4dI7"
      },
      "execution_count": 5,
      "outputs": []
    },
    {
      "cell_type": "code",
      "source": [
        "grand_total_column = Weekly_High_Volume_Store.iloc[:, -1]\n",
        "\n",
        "Weekly_High_Volume_Store = Weekly_High_Volume_Store.iloc[:, :-1]\n",
        "\n",
        "new_columns = [\"Item ID\", \"Description\", \"Bottles Per Case\", \"Cost Amount (Per Bottle)\"]\n",
        "\n",
        "num_weeks = len(Weekly_High_Volume_Store.columns) - len(new_columns)\n",
        "week_columns = [f\"Week {i+1}\" for i in range(num_weeks)]\n",
        "\n",
        "final_columns = new_columns + week_columns\n",
        "\n",
        "Weekly_High_Volume_Store.columns = final_columns\n",
        "\n",
        "Weekly_High_Volume_Store = pd.concat([Weekly_High_Volume_Store, grand_total_column], axis=1)\n",
        "\n",
        "Weekly_High_Volume_Store.columns = list(Weekly_High_Volume_Store.columns[:-1]) + ['Grand Total']\n",
        "\n",
        "print(Weekly_High_Volume_Store.head())\n",
        "print(Weekly_High_Volume_Store.columns)"
      ],
      "metadata": {
        "id": "5c4DewfTAamF",
        "colab": {
          "base_uri": "https://localhost:8080/"
        },
        "outputId": "c65bacf7-a284-47fc-95dc-564f801f8505"
      },
      "execution_count": 6,
      "outputs": [
        {
          "output_type": "stream",
          "name": "stdout",
          "text": [
            "   Item ID                           Description  Bottles Per Case  \\\n",
            "0    18467                   SCOTTY'S VODKA 50ML                96   \n",
            "1    96741            CORONA EXTRA 4/6 NR - 12OZ                24   \n",
            "2    70417  FIREBALL CINN WHISKY 50ML/10PK LOOSE               120   \n",
            "3   249230       FIREBALL WHISKY 10PK SLV - 50ML               120   \n",
            "4    35211                 SMIRNOFF VODKA - 50ML               120   \n",
            "\n",
            "   Cost Amount (Per Bottle)  Week 1  Week 2  Week 3  Week 4  Week 5  Week 6  \\\n",
            "0                  0.990000      60      93      93      94      89     114   \n",
            "1                  1.831667     162       0       0     144     144     132   \n",
            "2                  1.090000      62     170     170     108     166     141   \n",
            "3                  1.090000     230     100     100     280     210     240   \n",
            "4                  0.990000     142     181     181     154     167     224   \n",
            "\n",
            "   ...  Week 45  Week 46  Week 47  Week 48  Week 49  Week 50  Week 51  \\\n",
            "0  ...      164      170      159      137       99      118      163   \n",
            "1  ...      180      174      216      294      102      114      126   \n",
            "2  ...      152        0        0      147       81        0       71   \n",
            "3  ...      210      140      120      280      150      290        0   \n",
            "4  ...      160      174      113      155      165      219      157   \n",
            "\n",
            "   Week 52  Week 53  Grand Total  \n",
            "0      102       76         7690  \n",
            "1      252      114         7478  \n",
            "2      169        0         7520  \n",
            "3        0        0         7391  \n",
            "4       99       45         7404  \n",
            "\n",
            "[5 rows x 58 columns]\n",
            "Index(['Item ID', 'Description', 'Bottles Per Case',\n",
            "       'Cost Amount (Per Bottle)', 'Week 1', 'Week 2', 'Week 3', 'Week 4',\n",
            "       'Week 5', 'Week 6', 'Week 7', 'Week 8', 'Week 9', 'Week 10', 'Week 11',\n",
            "       'Week 12', 'Week 13', 'Week 14', 'Week 15', 'Week 16', 'Week 17',\n",
            "       'Week 18', 'Week 19', 'Week 20', 'Week 21', 'Week 22', 'Week 23',\n",
            "       'Week 24', 'Week 25', 'Week 26', 'Week 27', 'Week 28', 'Week 29',\n",
            "       'Week 30', 'Week 31', 'Week 32', 'Week 33', 'Week 34', 'Week 35',\n",
            "       'Week 36', 'Week 37', 'Week 38', 'Week 39', 'Week 40', 'Week 41',\n",
            "       'Week 42', 'Week 43', 'Week 44', 'Week 45', 'Week 46', 'Week 47',\n",
            "       'Week 48', 'Week 49', 'Week 50', 'Week 51', 'Week 52', 'Week 53',\n",
            "       'Grand Total'],\n",
            "      dtype='object')\n"
          ]
        }
      ]
    },
    {
      "cell_type": "markdown",
      "source": [
        "Trying to organize the dataset to recognize each week as week 1, week 2 etc. and for all the column headings to be read properly as it wasnt reading the columns Item ID, Description, Bottles Per Case and Cost Amount (Per Bottle)"
      ],
      "metadata": {
        "id": "MK8xqE3C5dir"
      }
    },
    {
      "cell_type": "code",
      "source": [
        "last_column = Weekly_High_Volume_Store.iloc[:, -1]\n",
        "last_column"
      ],
      "metadata": {
        "id": "t2y2FzdEzkun",
        "colab": {
          "base_uri": "https://localhost:8080/",
          "height": 458
        },
        "outputId": "1c5c34ae-ec42-446c-8d14-0d17cdd8d173"
      },
      "execution_count": 7,
      "outputs": [
        {
          "output_type": "execute_result",
          "data": {
            "text/plain": [
              "0      7690\n",
              "1      7478\n",
              "2      7520\n",
              "3      7391\n",
              "4      7404\n",
              "       ... \n",
              "495     394\n",
              "496      29\n",
              "497     382\n",
              "498     399\n",
              "499      29\n",
              "Name: Grand Total, Length: 500, dtype: int64"
            ],
            "text/html": [
              "<div>\n",
              "<style scoped>\n",
              "    .dataframe tbody tr th:only-of-type {\n",
              "        vertical-align: middle;\n",
              "    }\n",
              "\n",
              "    .dataframe tbody tr th {\n",
              "        vertical-align: top;\n",
              "    }\n",
              "\n",
              "    .dataframe thead th {\n",
              "        text-align: right;\n",
              "    }\n",
              "</style>\n",
              "<table border=\"1\" class=\"dataframe\">\n",
              "  <thead>\n",
              "    <tr style=\"text-align: right;\">\n",
              "      <th></th>\n",
              "      <th>Grand Total</th>\n",
              "    </tr>\n",
              "  </thead>\n",
              "  <tbody>\n",
              "    <tr>\n",
              "      <th>0</th>\n",
              "      <td>7690</td>\n",
              "    </tr>\n",
              "    <tr>\n",
              "      <th>1</th>\n",
              "      <td>7478</td>\n",
              "    </tr>\n",
              "    <tr>\n",
              "      <th>2</th>\n",
              "      <td>7520</td>\n",
              "    </tr>\n",
              "    <tr>\n",
              "      <th>3</th>\n",
              "      <td>7391</td>\n",
              "    </tr>\n",
              "    <tr>\n",
              "      <th>4</th>\n",
              "      <td>7404</td>\n",
              "    </tr>\n",
              "    <tr>\n",
              "      <th>...</th>\n",
              "      <td>...</td>\n",
              "    </tr>\n",
              "    <tr>\n",
              "      <th>495</th>\n",
              "      <td>394</td>\n",
              "    </tr>\n",
              "    <tr>\n",
              "      <th>496</th>\n",
              "      <td>29</td>\n",
              "    </tr>\n",
              "    <tr>\n",
              "      <th>497</th>\n",
              "      <td>382</td>\n",
              "    </tr>\n",
              "    <tr>\n",
              "      <th>498</th>\n",
              "      <td>399</td>\n",
              "    </tr>\n",
              "    <tr>\n",
              "      <th>499</th>\n",
              "      <td>29</td>\n",
              "    </tr>\n",
              "  </tbody>\n",
              "</table>\n",
              "<p>500 rows × 1 columns</p>\n",
              "</div><br><label><b>dtype:</b> int64</label>"
            ]
          },
          "metadata": {},
          "execution_count": 7
        }
      ]
    },
    {
      "cell_type": "markdown",
      "source": [
        "The last column in all of these stores are the grand totals in quantity sold for all of the top 500 items so I wanted to get an idea of what are the differing amounts for visualizations to make sure the numbers are at least accurate and similiar to the dataset and didnt misinterpret them.\n"
      ],
      "metadata": {
        "id": "ZlL9_djL0X2q"
      }
    },
    {
      "cell_type": "code",
      "source": [
        "quarterly_mapping = {\n",
        "    'Q1': [f'Week {i}' for i in range(1, 14)],\n",
        "    'Q2': [f'Week {i}' for i in range(14, 27)],\n",
        "    'Q3': [f'Week {i}' for i in range(27, 40)],\n",
        "    'Q4': [f'Week {i}' for i in range(40, 54)]\n",
        "}\n",
        "\n",
        "week_to_quarter = {week: quarter for quarter, weeks in quarterly_mapping.items() for week in weeks}\n",
        "\n",
        "week_columns = [f'Week {i}' for i in range(1, 54)]\n",
        "\n",
        "\n",
        "melted_Weekly_High_Volume_Store = Weekly_High_Volume_Store.melt(\n",
        "    id_vars=[\"Item ID\", \"Description\", \"Bottles Per Case\", \"Cost Amount (Per Bottle)\"],\n",
        "    value_vars=week_columns,\n",
        "    var_name=\"Week\",\n",
        "    value_name=\"Quantity\"\n",
        ")\n",
        "\n",
        "\n",
        "\n",
        "\n"
      ],
      "metadata": {
        "id": "OvAZL7gKOw8L"
      },
      "execution_count": 8,
      "outputs": []
    },
    {
      "cell_type": "markdown",
      "source": [
        "I used ChatGPT for the first part of the naming of the quarterly_mapping in order to categorize all the weeks into 4 different quarters and used it also for the week_to_quarter line. The rest of the lines I melted the High_volume_Store into less columns and variables."
      ],
      "metadata": {
        "id": "SOByPSgS573x"
      }
    },
    {
      "cell_type": "code",
      "source": [
        "Weekly_High_Volume_Store.columns"
      ],
      "metadata": {
        "colab": {
          "base_uri": "https://localhost:8080/"
        },
        "id": "84TGkDPMV4jV",
        "outputId": "7fff3a53-260c-4597-a2a8-feff78ce7c6b"
      },
      "execution_count": 9,
      "outputs": [
        {
          "output_type": "execute_result",
          "data": {
            "text/plain": [
              "Index(['Item ID', 'Description', 'Bottles Per Case',\n",
              "       'Cost Amount (Per Bottle)', 'Week 1', 'Week 2', 'Week 3', 'Week 4',\n",
              "       'Week 5', 'Week 6', 'Week 7', 'Week 8', 'Week 9', 'Week 10', 'Week 11',\n",
              "       'Week 12', 'Week 13', 'Week 14', 'Week 15', 'Week 16', 'Week 17',\n",
              "       'Week 18', 'Week 19', 'Week 20', 'Week 21', 'Week 22', 'Week 23',\n",
              "       'Week 24', 'Week 25', 'Week 26', 'Week 27', 'Week 28', 'Week 29',\n",
              "       'Week 30', 'Week 31', 'Week 32', 'Week 33', 'Week 34', 'Week 35',\n",
              "       'Week 36', 'Week 37', 'Week 38', 'Week 39', 'Week 40', 'Week 41',\n",
              "       'Week 42', 'Week 43', 'Week 44', 'Week 45', 'Week 46', 'Week 47',\n",
              "       'Week 48', 'Week 49', 'Week 50', 'Week 51', 'Week 52', 'Week 53',\n",
              "       'Grand Total'],\n",
              "      dtype='object')"
            ]
          },
          "metadata": {},
          "execution_count": 9
        }
      ]
    },
    {
      "cell_type": "code",
      "source": [
        "def categorize_items(Description):\n",
        "\n",
        "  if 'WHISKEY' in Description :\n",
        "    return 'Whiskey'\n",
        "  elif 'BEER' in Description:\n",
        "    return 'Beer'\n",
        "  elif 'WINE' in Description:\n",
        "    return 'Wine'\n",
        "  elif 'VODKA' in Description:\n",
        "    return 'Vodka'\n",
        "  elif 'TEQUILA' in Description:\n",
        "    return 'Tequila'\n",
        "  elif 'CORONA':\n",
        "    return 'Corona'\n",
        "  else:\n",
        "    return 'Other'"
      ],
      "metadata": {
        "id": "_l_ZdiaRaGjq"
      },
      "execution_count": 10,
      "outputs": []
    },
    {
      "cell_type": "markdown",
      "source": [
        "Creating if, elif, else statements that when the those alcohol types are found in the description to label it as that specific alcohol type"
      ],
      "metadata": {
        "id": "ER7EvSYY7O1p"
      }
    },
    {
      "cell_type": "code",
      "source": [
        "Weekly_High_Volume_Store['Description'] = Weekly_High_Volume_Store['Description'].apply(categorize_items)"
      ],
      "metadata": {
        "id": "lVlhk82xbZtY"
      },
      "execution_count": 11,
      "outputs": []
    },
    {
      "cell_type": "code",
      "source": [
        "melted_sales_data = Weekly_High_Volume_Store.melt(id_vars=['Item ID', 'Description', 'Bottles Per Case'],\n",
        "                                                         value_vars= week_columns,\n",
        "                                                         var_name='Week', value_name='Quantity Total')\n",
        "\n",
        "melted_sales_data['Quarter'] = melted_sales_data['Week'].map(week_to_quarter)\n",
        "\n",
        "\n"
      ],
      "metadata": {
        "id": "cX1OZKMoV1fg"
      },
      "execution_count": 12,
      "outputs": []
    },
    {
      "cell_type": "markdown",
      "source": [
        "melting the sales data for each week into a new column of Quarter that way for visualizations it will map all of the numbers in each week and categorize it by the quarter it corresponds with"
      ],
      "metadata": {
        "id": "CLky9yNU7W0a"
      }
    },
    {
      "cell_type": "code",
      "source": [
        "quarterly_sales = melted_sales_data.groupby(['Description', 'Quarter'])['Quantity Total'].sum().reset_index()\n",
        "\n",
        "plt.figure(figsize=(10, 6))\n",
        "sns.barplot(x='Quarter', y='Quantity Total', data=quarterly_sales, estimator=sum, errorbar=None)\n",
        "plt.title('Total Quantity Sold per Quarter')\n",
        "plt.xlabel('Quarter')\n",
        "plt.ylabel('Quantity')\n",
        "plt.show()"
      ],
      "metadata": {
        "colab": {
          "base_uri": "https://localhost:8080/",
          "height": 564
        },
        "id": "tQAj2OIcZg0D",
        "outputId": "9c0182fb-5716-4877-cf95-85907766f023"
      },
      "execution_count": 13,
      "outputs": [
        {
          "output_type": "display_data",
          "data": {
            "text/plain": [
              "<Figure size 1000x600 with 1 Axes>"
            ],
            "image/png": "[encoded data removed]"
          },
          "metadata": {}
        }
      ]
    },
    {
      "cell_type": "markdown",
      "source": [
        "grouped the melted_sales_data by description, quarter and Quantity total summing it all up. I used this grouping to create a bar chart that details the quantity sold per quarter"
      ],
      "metadata": {
        "id": "kZ8Fk74b7mcR"
      }
    },
    {
      "cell_type": "code",
      "source": [
        "quarterly_sales = melted_sales_data.groupby(['Description', 'Quarter'])['Quantity Total'].sum().reset_index()\n",
        "\n",
        "quarterly_sales[\"Quarter Velocity\"] = quarterly_sales[\"Quantity Total\"]/13.25"
      ],
      "metadata": {
        "id": "qL3M8Q-vg4Jg"
      },
      "execution_count": 14,
      "outputs": []
    },
    {
      "cell_type": "markdown",
      "source": [
        "dividing by 13.25 as this dataset contains 53 weeks as 2024 was a gap year thus dividing by 13.25 is exactly 1/4 thus dividing the entirety of each quarter to its weekly quantity total"
      ],
      "metadata": {
        "id": "G6m-SPd_8gaw"
      }
    },
    {
      "cell_type": "code",
      "source": [
        "quarterly_sales = melted_sales_data.groupby(['Description', 'Quarter'])['Quantity Total'].mean().reset_index()\n",
        "\n",
        "quarterly_sales['Estimated Quarterly Total'] = quarterly_sales['Quantity Total'] * 13\n",
        "\n",
        "plt.figure(figsize=(10, 6))\n",
        "sns.barplot(x='Quarter', y='Estimated Quarterly Total', color = 'black', data=quarterly_sales, errorbar=None)\n",
        "plt.title('Estimated Quarterly Sales by Item Based on Weekly Averages')\n",
        "plt.xlabel('Quarter')\n",
        "plt.ylabel('Sales')\n",
        "plt.show()"
      ],
      "metadata": {
        "id": "2u50WJGxMvHc",
        "outputId": "4094e689-1e45-4e63-d162-464f7f5dbf04",
        "colab": {
          "base_uri": "https://localhost:8080/",
          "height": 564
        }
      },
      "execution_count": 15,
      "outputs": [
        {
          "output_type": "display_data",
          "data": {
            "text/plain": [
              "<Figure size 1000x600 with 1 Axes>"
            ],
            "image/png": "[encoded data removed]"
          },
          "metadata": {}
        }
      ]
    },
    {
      "cell_type": "markdown",
      "source": [
        "This barchart shows the weekly average sold for each item within each quarter"
      ],
      "metadata": {
        "id": "uRqppXCK_aoa"
      }
    },
    {
      "cell_type": "code",
      "source": [
        "fig = px.box(Weekly_High_Volume_Store,\n",
        "            x = \"Description\",\n",
        "             y = \"Grand Total\",\n",
        "             color = \"Description\",\n",
        "             title = \"Total Quantity Sold per Alcohol Type\"\n",
        "             )\n",
        "fig.show()"
      ],
      "metadata": {
        "id": "_OL2zDQd4PqR",
        "outputId": "1a38d687-3e61-475f-e5aa-3ed27aacc1c6",
        "colab": {
          "base_uri": "https://localhost:8080/",
          "height": 542
        }
      },
      "execution_count": 16,
      "outputs": [
        {
          "output_type": "display_data",
          "data": {
            "text/html": [
              "<html>\n",
              "<head><meta charset=\"utf-8\" /></head>\n",
              "<body>\n",
              "    <div>            <script src=\"https://cdnjs.cloudflare.com/ajax/libs/mathjax/2.7.5/MathJax.js?config=TeX-AMS-MML_SVG\"></script><script type=\"text/javascript\">if (window.MathJax && window.MathJax.Hub && window.MathJax.Hub.Config) {window.MathJax.Hub.Config({SVG: {font: \"STIX-Web\"}});}</script>                <script type=\"text/javascript\">window.PlotlyConfig = {MathJaxConfig: 'local'};</script>\n",
              "        <script charset=\"utf-8\" src=\"https://cdn.plot.ly/plotly-2.35.2.min.js\"></script>                <div id=\"0e23b075-181f-4a9c-a239-91afb1554a64\" class=\"plotly-graph-div\" style=\"height:525px; width:100%;\"></div>            <script type=\"text/javascript\">                                    window.PLOTLYENV=window.PLOTLYENV || {};                                    if (document.getElementById(\"0e23b075-181f-4a9c-a239-91afb1554a64\")) {                    Plotly.newPlot(                        \"0e23b075-181f-4a9c-a239-91afb1554a64\",                        [{\"alignmentgroup\":\"True\",\"hovertemplate\":\"Description=%{x}\\u003cbr\\u003eGrand Total=%{y}\\u003cextra\\u003e\\u003c\\u002fextra\\u003e\",\"legendgroup\":\"Vodka\",\"marker\":{\"color\":\"#636efa\"},\"name\":\"Vodka\",\"notched\":false,\"offsetgroup\":\"Vodka\",\"orientation\":\"v\",\"showlegend\":true,\"x\":[\"Vodka\",\"Vodka\",\"Vodka\",\"Vodka\",\"Vodka\",\"Vodka\",\"Vodka\",\"Vodka\",\"Vodka\",\"Vodka\",\"Vodka\",\"Vodka\",\"Vodka\",\"Vodka\",\"Vodka\",\"Vodka\",\"Vodka\",\"Vodka\",\"Vodka\",\"Vodka\",\"Vodka\",\"Vodka\",\"Vodka\",\"Vodka\",\"Vodka\",\"Vodka\",\"Vodka\",\"Vodka\",\"Vodka\",\"Vodka\",\"Vodka\",\"Vodka\",\"Vodka\",\"Vodka\",\"Vodka\",\"Vodka\",\"Vodka\",\"Vodka\",\"Vodka\",\"Vodka\",\"Vodka\",\"Vodka\",\"Vodka\",\"Vodka\",\"Vodka\",\"Vodka\",\"Vodka\",\"Vodka\",\"Vodka\",\"Vodka\",\"Vodka\",\"Vodka\",\"Vodka\",\"Vodka\",\"Vodka\",\"Vodka\",\"Vodka\",\"Vodka\",\"Vodka\",\"Vodka\",\"Vodka\",\"Vodka\",\"Vodka\",\"Vodka\",\"Vodka\",\"Vodka\",\"Vodka\",\"Vodka\",\"Vodka\",\"Vodka\",\"Vodka\",\"Vodka\"],\"x0\":\" \",\"xaxis\":\"x\",\"y\":[7690,7404,6901,5616,4492,3710,3500,3202,3028,3031,2358,2358,2116,1777,1744,1766,1583,1534,1559,1491,1464,1426,1387,1271,1241,1233,1281,1152,1090,1089,1048,1020,968,1014,931,903,983,25,775,861,779,754,825,121,674,51,26,53,619,618,570,548,535,535,541,30,548,27,582,508,458,452,428,461,443,449,26,437,419,488,394,399],\"y0\":\" \",\"yaxis\":\"y\",\"type\":\"box\"},{\"alignmentgroup\":\"True\",\"hovertemplate\":\"Description=%{x}\\u003cbr\\u003eGrand Total=%{y}\\u003cextra\\u003e\\u003c\\u002fextra\\u003e\",\"legendgroup\":\"Corona\",\"marker\":{\"color\":\"#EF553B\"},\"name\":\"Corona\",\"notched\":false,\"offsetgroup\":\"Corona\",\"orientation\":\"v\",\"showlegend\":true,\"x\":[\"Corona\",\"Corona\",\"Corona\",\"Corona\",\"Corona\",\"Corona\",\"Corona\",\"Corona\",\"Corona\",\"Corona\",\"Corona\",\"Corona\",\"Corona\",\"Corona\",\"Corona\",\"Corona\",\"Corona\",\"Corona\",\"Corona\",\"Corona\",\"Corona\",\"Corona\",\"Corona\",\"Corona\",\"Corona\",\"Corona\",\"Corona\",\"Corona\",\"Corona\",\"Corona\",\"Corona\",\"Corona\",\"Corona\",\"Corona\",\"Corona\",\"Corona\",\"Corona\",\"Corona\",\"Corona\",\"Corona\",\"Corona\",\"Corona\",\"Corona\",\"Corona\",\"Corona\",\"Corona\",\"Corona\",\"Corona\",\"Corona\",\"Corona\",\"Corona\",\"Corona\",\"Corona\",\"Corona\",\"Corona\",\"Corona\",\"Corona\",\"Corona\",\"Corona\",\"Corona\",\"Corona\",\"Corona\",\"Corona\",\"Corona\",\"Corona\",\"Corona\",\"Corona\",\"Corona\",\"Corona\",\"Corona\",\"Corona\",\"Corona\",\"Corona\",\"Corona\",\"Corona\",\"Corona\",\"Corona\",\"Corona\",\"Corona\",\"Corona\",\"Corona\",\"Corona\",\"Corona\",\"Corona\",\"Corona\",\"Corona\",\"Corona\",\"Corona\",\"Corona\",\"Corona\",\"Corona\",\"Corona\",\"Corona\",\"Corona\",\"Corona\",\"Corona\",\"Corona\",\"Corona\",\"Corona\",\"Corona\",\"Corona\",\"Corona\",\"Corona\",\"Corona\",\"Corona\",\"Corona\",\"Corona\",\"Corona\",\"Corona\",\"Corona\",\"Corona\",\"Corona\",\"Corona\",\"Corona\",\"Corona\",\"Corona\",\"Corona\",\"Corona\",\"Corona\",\"Corona\",\"Corona\",\"Corona\",\"Corona\",\"Corona\",\"Corona\",\"Corona\",\"Corona\",\"Corona\",\"Corona\",\"Corona\",\"Corona\",\"Corona\",\"Corona\",\"Corona\",\"Corona\",\"Corona\",\"Corona\",\"Corona\",\"Corona\",\"Corona\",\"Corona\",\"Corona\",\"Corona\",\"Corona\",\"Corona\",\"Corona\",\"Corona\",\"Corona\",\"Corona\",\"Corona\",\"Corona\",\"Corona\",\"Corona\",\"Corona\",\"Corona\",\"Corona\",\"Corona\",\"Corona\",\"Corona\",\"Corona\",\"Corona\",\"Corona\",\"Corona\",\"Corona\",\"Corona\",\"Corona\",\"Corona\",\"Corona\",\"Corona\",\"Corona\",\"Corona\",\"Corona\",\"Corona\",\"Corona\",\"Corona\",\"Corona\",\"Corona\",\"Corona\",\"Corona\",\"Corona\",\"Corona\",\"Corona\",\"Corona\",\"Corona\",\"Corona\",\"Corona\",\"Corona\",\"Corona\",\"Corona\",\"Corona\",\"Corona\",\"Corona\",\"Corona\",\"Corona\",\"Corona\",\"Corona\",\"Corona\",\"Corona\",\"Corona\",\"Corona\",\"Corona\",\"Corona\",\"Corona\",\"Corona\",\"Corona\",\"Corona\",\"Corona\",\"Corona\",\"Corona\",\"Corona\",\"Corona\",\"Corona\",\"Corona\",\"Corona\",\"Corona\",\"Corona\",\"Corona\",\"Corona\",\"Corona\",\"Corona\",\"Corona\",\"Corona\",\"Corona\",\"Corona\",\"Corona\",\"Corona\",\"Corona\",\"Corona\",\"Corona\",\"Corona\",\"Corona\",\"Corona\",\"Corona\",\"Corona\",\"Corona\",\"Corona\",\"Corona\",\"Corona\",\"Corona\",\"Corona\",\"Corona\",\"Corona\",\"Corona\",\"Corona\",\"Corona\",\"Corona\",\"Corona\",\"Corona\",\"Corona\",\"Corona\",\"Corona\",\"Corona\",\"Corona\",\"Corona\",\"Corona\",\"Corona\",\"Corona\",\"Corona\",\"Corona\",\"Corona\",\"Corona\",\"Corona\",\"Corona\",\"Corona\",\"Corona\",\"Corona\",\"Corona\",\"Corona\",\"Corona\",\"Corona\",\"Corona\",\"Corona\",\"Corona\",\"Corona\",\"Corona\",\"Corona\",\"Corona\",\"Corona\",\"Corona\",\"Corona\",\"Corona\",\"Corona\",\"Corona\",\"Corona\",\"Corona\",\"Corona\",\"Corona\",\"Corona\",\"Corona\",\"Corona\",\"Corona\",\"Corona\",\"Corona\",\"Corona\",\"Corona\",\"Corona\",\"Corona\",\"Corona\",\"Corona\",\"Corona\",\"Corona\",\"Corona\",\"Corona\",\"Corona\",\"Corona\",\"Corona\",\"Corona\",\"Corona\",\"Corona\",\"Corona\",\"Corona\",\"Corona\",\"Corona\",\"Corona\",\"Corona\",\"Corona\",\"Corona\",\"Corona\",\"Corona\",\"Corona\",\"Corona\",\"Corona\",\"Corona\",\"Corona\",\"Corona\",\"Corona\",\"Corona\",\"Corona\",\"Corona\",\"Corona\",\"Corona\",\"Corona\",\"Corona\",\"Corona\",\"Corona\",\"Corona\",\"Corona\",\"Corona\",\"Corona\",\"Corona\",\"Corona\",\"Corona\",\"Corona\",\"Corona\",\"Corona\",\"Corona\",\"Corona\",\"Corona\",\"Corona\",\"Corona\",\"Corona\",\"Corona\",\"Corona\",\"Corona\",\"Corona\",\"Corona\",\"Corona\",\"Corona\",\"Corona\",\"Corona\",\"Corona\",\"Corona\",\"Corona\",\"Corona\",\"Corona\",\"Corona\",\"Corona\",\"Corona\",\"Corona\",\"Corona\",\"Corona\",\"Corona\",\"Corona\",\"Corona\"],\"x0\":\" \",\"xaxis\":\"x\",\"y\":[7478,7520,7391,6855,6481,5876,5842,5498,5510,5053,5037,4633,4490,4316,4221,4006,3756,3518,3578,3481,3386,3386,3332,3327,3062,3152,3008,2994,2930,2823,2690,2714,2666,2582,2534,2523,2462,2370,2330,2353,2228,2241,2291,2198,2178,2191,2150,2006,1887,1999,1910,1790,1866,1766,1748,1663,1663,1660,1638,1694,1586,1566,1557,1507,1466,1573,1454,1466,1531,1438,1427,1394,1388,1366,1328,1420,1347,1303,1334,1268,1274,26,1268,1345,1223,1233,1208,1208,1293,1184,1170,1151,1167,1226,1127,1130,1154,1115,1088,1123,1142,1068,1106,1016,1042,1020,1030,1063,1024,1114,26,1081,998,1003,991,990,980,959,982,1058,958,914,962,945,938,932,932,896,934,911,899,910,921,918,904,899,878,861,848,848,26,842,842,846,933,836,934,32,854,825,818,870,858,835,805,814,828,806,26,782,814,800,815,799,788,790,779,783,828,26,764,767,755,844,782,741,740,754,28,722,821,722,722,723,740,26,731,715,698,26,687,686,26,685,682,656,690,691,697,662,770,662,26,26,656,669,26,662,650,650,638,26,30,662,631,644,639,650,636,637,637,631,643,713,711,640,614,614,611,638,26,121,602,650,26,610,679,601,587,26,604,666,596,668,576,558,121,54,562,578,27,651,556,548,555,524,555,526,535,17,524,512,518,612,535,518,512,26,611,534,25,497,506,26,562,494,513,523,124,511,510,494,489,501,490,484,477,504,487,502,482,483,493,517,32,574,483,498,502,475,459,477,464,570,28,24,463,26,474,464,459,450,445,458,28,461,472,457,467,457,456,440,455,56,449,537,439,27,434,31,447,24,27,432,434,434,446,437,533,446,429,424,432,27,418,434,422,52,506,500,435,51,417,407,29,410,413,410,432,405,401,410,418,380,388,402,393,477,384,376,386,29,382,29],\"y0\":\" \",\"yaxis\":\"y\",\"type\":\"box\"},{\"alignmentgroup\":\"True\",\"hovertemplate\":\"Description=%{x}\\u003cbr\\u003eGrand Total=%{y}\\u003cextra\\u003e\\u003c\\u002fextra\\u003e\",\"legendgroup\":\"Tequila\",\"marker\":{\"color\":\"#00cc96\"},\"name\":\"Tequila\",\"notched\":false,\"offsetgroup\":\"Tequila\",\"orientation\":\"v\",\"showlegend\":true,\"x\":[\"Tequila\",\"Tequila\",\"Tequila\",\"Tequila\",\"Tequila\",\"Tequila\",\"Tequila\",\"Tequila\",\"Tequila\",\"Tequila\",\"Tequila\",\"Tequila\",\"Tequila\",\"Tequila\",\"Tequila\",\"Tequila\",\"Tequila\",\"Tequila\",\"Tequila\",\"Tequila\",\"Tequila\",\"Tequila\",\"Tequila\",\"Tequila\",\"Tequila\",\"Tequila\",\"Tequila\",\"Tequila\",\"Tequila\",\"Tequila\",\"Tequila\",\"Tequila\",\"Tequila\",\"Tequila\",\"Tequila\"],\"x0\":\" \",\"xaxis\":\"x\",\"y\":[3835,3763,1950,1623,42,1378,1184,1014,874,912,831,809,777,788,725,723,700,712,663,66,596,558,37,547,51,499,467,442,440,431,433,37,33,410,393],\"y0\":\" \",\"yaxis\":\"y\",\"type\":\"box\"},{\"alignmentgroup\":\"True\",\"hovertemplate\":\"Description=%{x}\\u003cbr\\u003eGrand Total=%{y}\\u003cextra\\u003e\\u003c\\u002fextra\\u003e\",\"legendgroup\":\"Whiskey\",\"marker\":{\"color\":\"#ab63fa\"},\"name\":\"Whiskey\",\"notched\":false,\"offsetgroup\":\"Whiskey\",\"orientation\":\"v\",\"showlegend\":true,\"x\":[\"Whiskey\",\"Whiskey\",\"Whiskey\",\"Whiskey\",\"Whiskey\",\"Whiskey\",\"Whiskey\"],\"x0\":\" \",\"xaxis\":\"x\",\"y\":[3191,1417,959,776,649,548,525],\"y0\":\" \",\"yaxis\":\"y\",\"type\":\"box\"},{\"alignmentgroup\":\"True\",\"hovertemplate\":\"Description=%{x}\\u003cbr\\u003eGrand Total=%{y}\\u003cextra\\u003e\\u003c\\u002fextra\\u003e\",\"legendgroup\":\"Beer\",\"marker\":{\"color\":\"#FFA15A\"},\"name\":\"Beer\",\"notched\":false,\"offsetgroup\":\"Beer\",\"orientation\":\"v\",\"showlegend\":true,\"x\":[\"Beer\",\"Beer\",\"Beer\",\"Beer\",\"Beer\",\"Beer\",\"Beer\",\"Beer\",\"Beer\",\"Beer\",\"Beer\",\"Beer\"],\"x0\":\" \",\"xaxis\":\"x\",\"y\":[2321,2137,1040,872,864,818,702,704,662,679,566,524],\"y0\":\" \",\"yaxis\":\"y\",\"type\":\"box\"}],                        {\"template\":{\"data\":{\"histogram2dcontour\":[{\"type\":\"histogram2dcontour\",\"colorbar\":{\"outlinewidth\":0,\"ticks\":\"\"},\"colorscale\":[[0.0,\"#0d0887\"],[0.1111111111111111,\"#46039f\"],[0.2222222222222222,\"#7201a8\"],[0.3333333333333333,\"#9c179e\"],[0.4444444444444444,\"#bd3786\"],[0.5555555555555556,\"#d8576b\"],[0.6666666666666666,\"#ed7953\"],[0.7777777777777778,\"#fb9f3a\"],[0.8888888888888888,\"#fdca26\"],[1.0,\"#f0f921\"]]}],\"choropleth\":[{\"type\":\"choropleth\",\"colorbar\":{\"outlinewidth\":0,\"ticks\":\"\"}}],\"histogram2d\":[{\"type\":\"histogram2d\",\"colorbar\":{\"outlinewidth\":0,\"ticks\":\"\"},\"colorscale\":[[0.0,\"#0d0887\"],[0.1111111111111111,\"#46039f\"],[0.2222222222222222,\"#7201a8\"],[0.3333333333333333,\"#9c179e\"],[0.4444444444444444,\"#bd3786\"],[0.5555555555555556,\"#d8576b\"],[0.6666666666666666,\"#ed7953\"],[0.7777777777777778,\"#fb9f3a\"],[0.8888888888888888,\"#fdca26\"],[1.0,\"#f0f921\"]]}],\"heatmap\":[{\"type\":\"heatmap\",\"colorbar\":{\"outlinewidth\":0,\"ticks\":\"\"},\"colorscale\":[[0.0,\"#0d0887\"],[0.1111111111111111,\"#46039f\"],[0.2222222222222222,\"#7201a8\"],[0.3333333333333333,\"#9c179e\"],[0.4444444444444444,\"#bd3786\"],[0.5555555555555556,\"#d8576b\"],[0.6666666666666666,\"#ed7953\"],[0.7777777777777778,\"#fb9f3a\"],[0.8888888888888888,\"#fdca26\"],[1.0,\"#f0f921\"]]}],\"heatmapgl\":[{\"type\":\"heatmapgl\",\"colorbar\":{\"outlinewidth\":0,\"ticks\":\"\"},\"colorscale\":[[0.0,\"#0d0887\"],[0.1111111111111111,\"#46039f\"],[0.2222222222222222,\"#7201a8\"],[0.3333333333333333,\"#9c179e\"],[0.4444444444444444,\"#bd3786\"],[0.5555555555555556,\"#d8576b\"],[0.6666666666666666,\"#ed7953\"],[0.7777777777777778,\"#fb9f3a\"],[0.8888888888888888,\"#fdca26\"],[1.0,\"#f0f921\"]]}],\"contourcarpet\":[{\"type\":\"contourcarpet\",\"colorbar\":{\"outlinewidth\":0,\"ticks\":\"\"}}],\"contour\":[{\"type\":\"contour\",\"colorbar\":{\"outlinewidth\":0,\"ticks\":\"\"},\"colorscale\":[[0.0,\"#0d0887\"],[0.1111111111111111,\"#46039f\"],[0.2222222222222222,\"#7201a8\"],[0.3333333333333333,\"#9c179e\"],[0.4444444444444444,\"#bd3786\"],[0.5555555555555556,\"#d8576b\"],[0.6666666666666666,\"#ed7953\"],[0.7777777777777778,\"#fb9f3a\"],[0.8888888888888888,\"#fdca26\"],[1.0,\"#f0f921\"]]}],\"surface\":[{\"type\":\"surface\",\"colorbar\":{\"outlinewidth\":0,\"ticks\":\"\"},\"colorscale\":[[0.0,\"#0d0887\"],[0.1111111111111111,\"#46039f\"],[0.2222222222222222,\"#7201a8\"],[0.3333333333333333,\"#9c179e\"],[0.4444444444444444,\"#bd3786\"],[0.5555555555555556,\"#d8576b\"],[0.6666666666666666,\"#ed7953\"],[0.7777777777777778,\"#fb9f3a\"],[0.8888888888888888,\"#fdca26\"],[1.0,\"#f0f921\"]]}],\"mesh3d\":[{\"type\":\"mesh3d\",\"colorbar\":{\"outlinewidth\":0,\"ticks\":\"\"}}],\"scatter\":[{\"fillpattern\":{\"fillmode\":\"overlay\",\"size\":10,\"solidity\":0.2},\"type\":\"scatter\"}],\"parcoords\":[{\"type\":\"parcoords\",\"line\":{\"colorbar\":{\"outlinewidth\":0,\"ticks\":\"\"}}}],\"scatterpolargl\":[{\"type\":\"scatterpolargl\",\"marker\":{\"colorbar\":{\"outlinewidth\":0,\"ticks\":\"\"}}}],\"bar\":[{\"error_x\":{\"color\":\"#2a3f5f\"},\"error_y\":{\"color\":\"#2a3f5f\"},\"marker\":{\"line\":{\"color\":\"#E5ECF6\",\"width\":0.5},\"pattern\":{\"fillmode\":\"overlay\",\"size\":10,\"solidity\":0.2}},\"type\":\"bar\"}],\"scattergeo\":[{\"type\":\"scattergeo\",\"marker\":{\"colorbar\":{\"outlinewidth\":0,\"ticks\":\"\"}}}],\"scatterpolar\":[{\"type\":\"scatterpolar\",\"marker\":{\"colorbar\":{\"outlinewidth\":0,\"ticks\":\"\"}}}],\"histogram\":[{\"marker\":{\"pattern\":{\"fillmode\":\"overlay\",\"size\":10,\"solidity\":0.2}},\"type\":\"histogram\"}],\"scattergl\":[{\"type\":\"scattergl\",\"marker\":{\"colorbar\":{\"outlinewidth\":0,\"ticks\":\"\"}}}],\"scatter3d\":[{\"type\":\"scatter3d\",\"line\":{\"colorbar\":{\"outlinewidth\":0,\"ticks\":\"\"}},\"marker\":{\"colorbar\":{\"outlinewidth\":0,\"ticks\":\"\"}}}],\"scattermapbox\":[{\"type\":\"scattermapbox\",\"marker\":{\"colorbar\":{\"outlinewidth\":0,\"ticks\":\"\"}}}],\"scatterternary\":[{\"type\":\"scatterternary\",\"marker\":{\"colorbar\":{\"outlinewidth\":0,\"ticks\":\"\"}}}],\"scattercarpet\":[{\"type\":\"scattercarpet\",\"marker\":{\"colorbar\":{\"outlinewidth\":0,\"ticks\":\"\"}}}],\"carpet\":[{\"aaxis\":{\"endlinecolor\":\"#2a3f5f\",\"gridcolor\":\"white\",\"linecolor\":\"white\",\"minorgridcolor\":\"white\",\"startlinecolor\":\"#2a3f5f\"},\"baxis\":{\"endlinecolor\":\"#2a3f5f\",\"gridcolor\":\"white\",\"linecolor\":\"white\",\"minorgridcolor\":\"white\",\"startlinecolor\":\"#2a3f5f\"},\"type\":\"carpet\"}],\"table\":[{\"cells\":{\"fill\":{\"color\":\"#EBF0F8\"},\"line\":{\"color\":\"white\"}},\"header\":{\"fill\":{\"color\":\"#C8D4E3\"},\"line\":{\"color\":\"white\"}},\"type\":\"table\"}],\"barpolar\":[{\"marker\":{\"line\":{\"color\":\"#E5ECF6\",\"width\":0.5},\"pattern\":{\"fillmode\":\"overlay\",\"size\":10,\"solidity\":0.2}},\"type\":\"barpolar\"}],\"pie\":[{\"automargin\":true,\"type\":\"pie\"}]},\"layout\":{\"autotypenumbers\":\"strict\",\"colorway\":[\"#636efa\",\"#EF553B\",\"#00cc96\",\"#ab63fa\",\"#FFA15A\",\"#19d3f3\",\"#FF6692\",\"#B6E880\",\"#FF97FF\",\"#FECB52\"],\"font\":{\"color\":\"#2a3f5f\"},\"hovermode\":\"closest\",\"hoverlabel\":{\"align\":\"left\"},\"paper_bgcolor\":\"white\",\"plot_bgcolor\":\"#E5ECF6\",\"polar\":{\"bgcolor\":\"#E5ECF6\",\"angularaxis\":{\"gridcolor\":\"white\",\"linecolor\":\"white\",\"ticks\":\"\"},\"radialaxis\":{\"gridcolor\":\"white\",\"linecolor\":\"white\",\"ticks\":\"\"}},\"ternary\":{\"bgcolor\":\"#E5ECF6\",\"aaxis\":{\"gridcolor\":\"white\",\"linecolor\":\"white\",\"ticks\":\"\"},\"baxis\":{\"gridcolor\":\"white\",\"linecolor\":\"white\",\"ticks\":\"\"},\"caxis\":{\"gridcolor\":\"white\",\"linecolor\":\"white\",\"ticks\":\"\"}},\"coloraxis\":{\"colorbar\":{\"outlinewidth\":0,\"ticks\":\"\"}},\"colorscale\":{\"sequential\":[[0.0,\"#0d0887\"],[0.1111111111111111,\"#46039f\"],[0.2222222222222222,\"#7201a8\"],[0.3333333333333333,\"#9c179e\"],[0.4444444444444444,\"#bd3786\"],[0.5555555555555556,\"#d8576b\"],[0.6666666666666666,\"#ed7953\"],[0.7777777777777778,\"#fb9f3a\"],[0.8888888888888888,\"#fdca26\"],[1.0,\"#f0f921\"]],\"sequentialminus\":[[0.0,\"#0d0887\"],[0.1111111111111111,\"#46039f\"],[0.2222222222222222,\"#7201a8\"],[0.3333333333333333,\"#9c179e\"],[0.4444444444444444,\"#bd3786\"],[0.5555555555555556,\"#d8576b\"],[0.6666666666666666,\"#ed7953\"],[0.7777777777777778,\"#fb9f3a\"],[0.8888888888888888,\"#fdca26\"],[1.0,\"#f0f921\"]],\"diverging\":[[0,\"#8e0152\"],[0.1,\"#c51b7d\"],[0.2,\"#de77ae\"],[0.3,\"#f1b6da\"],[0.4,\"#fde0ef\"],[0.5,\"#f7f7f7\"],[0.6,\"#e6f5d0\"],[0.7,\"#b8e186\"],[0.8,\"#7fbc41\"],[0.9,\"#4d9221\"],[1,\"#276419\"]]},\"xaxis\":{\"gridcolor\":\"white\",\"linecolor\":\"white\",\"ticks\":\"\",\"title\":{\"standoff\":15},\"zerolinecolor\":\"white\",\"automargin\":true,\"zerolinewidth\":2},\"yaxis\":{\"gridcolor\":\"white\",\"linecolor\":\"white\",\"ticks\":\"\",\"title\":{\"standoff\":15},\"zerolinecolor\":\"white\",\"automargin\":true,\"zerolinewidth\":2},\"scene\":{\"xaxis\":{\"backgroundcolor\":\"#E5ECF6\",\"gridcolor\":\"white\",\"linecolor\":\"white\",\"showbackground\":true,\"ticks\":\"\",\"zerolinecolor\":\"white\",\"gridwidth\":2},\"yaxis\":{\"backgroundcolor\":\"#E5ECF6\",\"gridcolor\":\"white\",\"linecolor\":\"white\",\"showbackground\":true,\"ticks\":\"\",\"zerolinecolor\":\"white\",\"gridwidth\":2},\"zaxis\":{\"backgroundcolor\":\"#E5ECF6\",\"gridcolor\":\"white\",\"linecolor\":\"white\",\"showbackground\":true,\"ticks\":\"\",\"zerolinecolor\":\"white\",\"gridwidth\":2}},\"shapedefaults\":{\"line\":{\"color\":\"#2a3f5f\"}},\"annotationdefaults\":{\"arrowcolor\":\"#2a3f5f\",\"arrowhead\":0,\"arrowwidth\":1},\"geo\":{\"bgcolor\":\"white\",\"landcolor\":\"#E5ECF6\",\"subunitcolor\":\"white\",\"showland\":true,\"showlakes\":true,\"lakecolor\":\"white\"},\"title\":{\"x\":0.05},\"mapbox\":{\"style\":\"light\"}}},\"xaxis\":{\"anchor\":\"y\",\"domain\":[0.0,1.0],\"title\":{\"text\":\"Description\"},\"categoryorder\":\"array\",\"categoryarray\":[\"Vodka\",\"Corona\",\"Tequila\",\"Whiskey\",\"Beer\"]},\"yaxis\":{\"anchor\":\"x\",\"domain\":[0.0,1.0],\"title\":{\"text\":\"Grand Total\"}},\"legend\":{\"title\":{\"text\":\"Description\"},\"tracegroupgap\":0},\"title\":{\"text\":\"Total Quantity Sold per Alcohol Type\"},\"boxmode\":\"overlay\"},                        {\"responsive\": true}                    ).then(function(){\n",
              "                            \n",
              "var gd = document.getElementById('0e23b075-181f-4a9c-a239-91afb1554a64');\n",
              "var x = new MutationObserver(function (mutations, observer) {{\n",
              "        var display = window.getComputedStyle(gd).display;\n",
              "        if (!display || display === 'none') {{\n",
              "            console.log([gd, 'removed!']);\n",
              "            Plotly.purge(gd);\n",
              "            observer.disconnect();\n",
              "        }}\n",
              "}});\n",
              "\n",
              "// Listen for the removal of the full notebook cells\n",
              "var notebookContainer = gd.closest('#notebook-container');\n",
              "if (notebookContainer) {{\n",
              "    x.observe(notebookContainer, {childList: true});\n",
              "}}\n",
              "\n",
              "// Listen for the clearing of the current output cell\n",
              "var outputEl = gd.closest('.output');\n",
              "if (outputEl) {{\n",
              "    x.observe(outputEl, {childList: true});\n",
              "}}\n",
              "\n",
              "                        })                };                            </script>        </div>\n",
              "</body>\n",
              "</html>"
            ]
          },
          "metadata": {}
        }
      ]
    },
    {
      "cell_type": "markdown",
      "source": [
        "This boxplot shows the total quantity sold for every alcohol type"
      ],
      "metadata": {
        "id": "OvFVE1aBB8u0"
      }
    },
    {
      "cell_type": "code",
      "source": [
        "def categorize_items(Description):\n",
        "\n",
        "  if 'WHISKEY' in Description :\n",
        "    return 'Whiskey'\n",
        "  elif 'BEER' in Description:\n",
        "    return 'Beer'\n",
        "  elif 'WINE' in Description:\n",
        "    return 'Wine'\n",
        "  elif 'VODKA' in Description:\n",
        "    return 'Vodka'\n",
        "  elif 'TEQUILA' in Description:\n",
        "    return 'Tequila'\n",
        "  elif 'CORONA':\n",
        "    return 'Corona'\n",
        "  else:\n",
        "    return 'Other'"
      ],
      "metadata": {
        "id": "L7W7Ez5_OsxG"
      },
      "execution_count": 17,
      "outputs": []
    },
    {
      "cell_type": "code",
      "source": [
        "quarterly_sales['Description'] = quarterly_sales['Description'].apply(categorize_items)"
      ],
      "metadata": {
        "id": "Pl32AyBbd5cg"
      },
      "execution_count": 18,
      "outputs": []
    },
    {
      "cell_type": "markdown",
      "source": [
        "grouping the if, elif, else function and applying it to the description column so every dataset the x labels can show each alcohol type that was present in the dataset"
      ],
      "metadata": {
        "id": "bG7IxacoBxlW"
      }
    },
    {
      "cell_type": "code",
      "source": [
        "quarterly_sales = melted_sales_data.groupby(['Description', 'Quarter'])['Quantity Total'].mean().reset_index()\n",
        "\n",
        "quarterly_sales[\"Quarter Velocity\"] = quarterly_sales[\"Quantity Total\"]/7"
      ],
      "metadata": {
        "id": "Wj9Yp14HQ2Bq"
      },
      "execution_count": 19,
      "outputs": []
    },
    {
      "cell_type": "markdown",
      "source": [
        "I am creating a new column in Quarter Velocity which is using the quantity total average which does each weekly total and dividing it by 7 to get the daily average sold for every alcohol type"
      ],
      "metadata": {
        "id": "dnGTJhQLCGKP"
      }
    },
    {
      "cell_type": "code",
      "source": [],
      "metadata": {
        "id": "_e1bI5tpF-7E"
      },
      "execution_count": 19,
      "outputs": []
    },
    {
      "cell_type": "markdown",
      "source": [
        "This boxplot is showing the daily average alcohol type sold every week as vodka seems to be the most popular by far"
      ],
      "metadata": {
        "id": "ZcchOjiyDLOb"
      }
    },
    {
      "cell_type": "code",
      "source": [
        "five_week_sales = melted_sales_data.copy()\n",
        "\n",
        "five_week_sales['Week Number'] = five_week_sales['Week'].str.extract('Week (\\d+)').astype(int)\n",
        "\n",
        "five_week_sales['5-Week Group'] = ((five_week_sales['Week Number'] - 1) // 5) + 1\n",
        "\n",
        "grouped_sales = five_week_sales.groupby(['Description', '5-Week Group'])['Quantity Total'].sum().reset_index()\n",
        "\n",
        "grouped_sales.rename(columns={'Quantity Total': '5-Week Velocity'}, inplace=True)\n",
        "\n",
        "fig = px.box(grouped_sales,\n",
        "             x = \"Description\",\n",
        "             y = \"5-Week Velocity\",\n",
        "             color = \"Description\",\n",
        "             title = \"Total quantity sold for every 5 weeks\",\n",
        "             labels = {\"Description\": \"Alcohol Types\", \"Quarter Velocity\": \"Total Quantity Sold\"})\n",
        "fig.show()"
      ],
      "metadata": {
        "id": "3QLlzKK8HZz1",
        "outputId": "1ec772cc-52a6-468c-ab68-ef0452717c9f",
        "colab": {
          "base_uri": "https://localhost:8080/",
          "height": 542
        }
      },
      "execution_count": 20,
      "outputs": [
        {
          "output_type": "display_data",
          "data": {
            "text/html": [
              "<html>\n",
              "<head><meta charset=\"utf-8\" /></head>\n",
              "<body>\n",
              "    <div>            <script src=\"https://cdnjs.cloudflare.com/ajax/libs/mathjax/2.7.5/MathJax.js?config=TeX-AMS-MML_SVG\"></script><script type=\"text/javascript\">if (window.MathJax && window.MathJax.Hub && window.MathJax.Hub.Config) {window.MathJax.Hub.Config({SVG: {font: \"STIX-Web\"}});}</script>                <script type=\"text/javascript\">window.PlotlyConfig = {MathJaxConfig: 'local'};</script>\n",
              "        <script charset=\"utf-8\" src=\"https://cdn.plot.ly/plotly-2.35.2.min.js\"></script>                <div id=\"59cf21d0-7ee2-42ac-94a3-f95d96a6ea86\" class=\"plotly-graph-div\" style=\"height:525px; width:100%;\"></div>            <script type=\"text/javascript\">                                    window.PLOTLYENV=window.PLOTLYENV || {};                                    if (document.getElementById(\"59cf21d0-7ee2-42ac-94a3-f95d96a6ea86\")) {                    Plotly.newPlot(                        \"59cf21d0-7ee2-42ac-94a3-f95d96a6ea86\",                        [{\"alignmentgroup\":\"True\",\"hovertemplate\":\"Alcohol Types=%{x}\\u003cbr\\u003e5-Week Velocity=%{y}\\u003cextra\\u003e\\u003c\\u002fextra\\u003e\",\"legendgroup\":\"Beer\",\"marker\":{\"color\":\"#636efa\"},\"name\":\"Beer\",\"notched\":false,\"offsetgroup\":\"Beer\",\"orientation\":\"v\",\"showlegend\":true,\"x\":[\"Beer\",\"Beer\",\"Beer\",\"Beer\",\"Beer\",\"Beer\",\"Beer\",\"Beer\",\"Beer\",\"Beer\",\"Beer\"],\"x0\":\" \",\"xaxis\":\"x\",\"y\":[922,983,1039,1236,1097,854,990,1506,1093,1016,748],\"y0\":\" \",\"yaxis\":\"y\",\"type\":\"box\"},{\"alignmentgroup\":\"True\",\"hovertemplate\":\"Alcohol Types=%{x}\\u003cbr\\u003e5-Week Velocity=%{y}\\u003cextra\\u003e\\u003c\\u002fextra\\u003e\",\"legendgroup\":\"Corona\",\"marker\":{\"color\":\"#EF553B\"},\"name\":\"Corona\",\"notched\":false,\"offsetgroup\":\"Corona\",\"orientation\":\"v\",\"showlegend\":true,\"x\":[\"Corona\",\"Corona\",\"Corona\",\"Corona\",\"Corona\",\"Corona\",\"Corona\",\"Corona\",\"Corona\",\"Corona\",\"Corona\"],\"x0\":\" \",\"xaxis\":\"x\",\"y\":[28106,30633,33665,35801,42269,40855,36910,37587,38884,39892,24098],\"y0\":\" \",\"yaxis\":\"y\",\"type\":\"box\"},{\"alignmentgroup\":\"True\",\"hovertemplate\":\"Alcohol Types=%{x}\\u003cbr\\u003e5-Week Velocity=%{y}\\u003cextra\\u003e\\u003c\\u002fextra\\u003e\",\"legendgroup\":\"Tequila\",\"marker\":{\"color\":\"#00cc96\"},\"name\":\"Tequila\",\"notched\":false,\"offsetgroup\":\"Tequila\",\"orientation\":\"v\",\"showlegend\":true,\"x\":[\"Tequila\",\"Tequila\",\"Tequila\",\"Tequila\",\"Tequila\",\"Tequila\",\"Tequila\",\"Tequila\",\"Tequila\",\"Tequila\",\"Tequila\"],\"x0\":\" \",\"xaxis\":\"x\",\"y\":[1772,2332,2198,2397,3183,2865,2632,2468,2548,2840,1676],\"y0\":\" \",\"yaxis\":\"y\",\"type\":\"box\"},{\"alignmentgroup\":\"True\",\"hovertemplate\":\"Alcohol Types=%{x}\\u003cbr\\u003e5-Week Velocity=%{y}\\u003cextra\\u003e\\u003c\\u002fextra\\u003e\",\"legendgroup\":\"Vodka\",\"marker\":{\"color\":\"#ab63fa\"},\"name\":\"Vodka\",\"notched\":false,\"offsetgroup\":\"Vodka\",\"orientation\":\"v\",\"showlegend\":true,\"x\":[\"Vodka\",\"Vodka\",\"Vodka\",\"Vodka\",\"Vodka\",\"Vodka\",\"Vodka\",\"Vodka\",\"Vodka\",\"Vodka\",\"Vodka\"],\"x0\":\" \",\"xaxis\":\"x\",\"y\":[7712,8490,8267,9028,9522,9093,9748,10136,10974,10047,4827],\"y0\":\" \",\"yaxis\":\"y\",\"type\":\"box\"},{\"alignmentgroup\":\"True\",\"hovertemplate\":\"Alcohol Types=%{x}\\u003cbr\\u003e5-Week Velocity=%{y}\\u003cextra\\u003e\\u003c\\u002fextra\\u003e\",\"legendgroup\":\"Whiskey\",\"marker\":{\"color\":\"#FFA15A\"},\"name\":\"Whiskey\",\"notched\":false,\"offsetgroup\":\"Whiskey\",\"orientation\":\"v\",\"showlegend\":true,\"x\":[\"Whiskey\",\"Whiskey\",\"Whiskey\",\"Whiskey\",\"Whiskey\",\"Whiskey\",\"Whiskey\",\"Whiskey\",\"Whiskey\",\"Whiskey\",\"Whiskey\"],\"x0\":\" \",\"xaxis\":\"x\",\"y\":[597,634,770,666,840,802,836,655,657,714,400],\"y0\":\" \",\"yaxis\":\"y\",\"type\":\"box\"}],                        {\"template\":{\"data\":{\"histogram2dcontour\":[{\"type\":\"histogram2dcontour\",\"colorbar\":{\"outlinewidth\":0,\"ticks\":\"\"},\"colorscale\":[[0.0,\"#0d0887\"],[0.1111111111111111,\"#46039f\"],[0.2222222222222222,\"#7201a8\"],[0.3333333333333333,\"#9c179e\"],[0.4444444444444444,\"#bd3786\"],[0.5555555555555556,\"#d8576b\"],[0.6666666666666666,\"#ed7953\"],[0.7777777777777778,\"#fb9f3a\"],[0.8888888888888888,\"#fdca26\"],[1.0,\"#f0f921\"]]}],\"choropleth\":[{\"type\":\"choropleth\",\"colorbar\":{\"outlinewidth\":0,\"ticks\":\"\"}}],\"histogram2d\":[{\"type\":\"histogram2d\",\"colorbar\":{\"outlinewidth\":0,\"ticks\":\"\"},\"colorscale\":[[0.0,\"#0d0887\"],[0.1111111111111111,\"#46039f\"],[0.2222222222222222,\"#7201a8\"],[0.3333333333333333,\"#9c179e\"],[0.4444444444444444,\"#bd3786\"],[0.5555555555555556,\"#d8576b\"],[0.6666666666666666,\"#ed7953\"],[0.7777777777777778,\"#fb9f3a\"],[0.8888888888888888,\"#fdca26\"],[1.0,\"#f0f921\"]]}],\"heatmap\":[{\"type\":\"heatmap\",\"colorbar\":{\"outlinewidth\":0,\"ticks\":\"\"},\"colorscale\":[[0.0,\"#0d0887\"],[0.1111111111111111,\"#46039f\"],[0.2222222222222222,\"#7201a8\"],[0.3333333333333333,\"#9c179e\"],[0.4444444444444444,\"#bd3786\"],[0.5555555555555556,\"#d8576b\"],[0.6666666666666666,\"#ed7953\"],[0.7777777777777778,\"#fb9f3a\"],[0.8888888888888888,\"#fdca26\"],[1.0,\"#f0f921\"]]}],\"heatmapgl\":[{\"type\":\"heatmapgl\",\"colorbar\":{\"outlinewidth\":0,\"ticks\":\"\"},\"colorscale\":[[0.0,\"#0d0887\"],[0.1111111111111111,\"#46039f\"],[0.2222222222222222,\"#7201a8\"],[0.3333333333333333,\"#9c179e\"],[0.4444444444444444,\"#bd3786\"],[0.5555555555555556,\"#d8576b\"],[0.6666666666666666,\"#ed7953\"],[0.7777777777777778,\"#fb9f3a\"],[0.8888888888888888,\"#fdca26\"],[1.0,\"#f0f921\"]]}],\"contourcarpet\":[{\"type\":\"contourcarpet\",\"colorbar\":{\"outlinewidth\":0,\"ticks\":\"\"}}],\"contour\":[{\"type\":\"contour\",\"colorbar\":{\"outlinewidth\":0,\"ticks\":\"\"},\"colorscale\":[[0.0,\"#0d0887\"],[0.1111111111111111,\"#46039f\"],[0.2222222222222222,\"#7201a8\"],[0.3333333333333333,\"#9c179e\"],[0.4444444444444444,\"#bd3786\"],[0.5555555555555556,\"#d8576b\"],[0.6666666666666666,\"#ed7953\"],[0.7777777777777778,\"#fb9f3a\"],[0.8888888888888888,\"#fdca26\"],[1.0,\"#f0f921\"]]}],\"surface\":[{\"type\":\"surface\",\"colorbar\":{\"outlinewidth\":0,\"ticks\":\"\"},\"colorscale\":[[0.0,\"#0d0887\"],[0.1111111111111111,\"#46039f\"],[0.2222222222222222,\"#7201a8\"],[0.3333333333333333,\"#9c179e\"],[0.4444444444444444,\"#bd3786\"],[0.5555555555555556,\"#d8576b\"],[0.6666666666666666,\"#ed7953\"],[0.7777777777777778,\"#fb9f3a\"],[0.8888888888888888,\"#fdca26\"],[1.0,\"#f0f921\"]]}],\"mesh3d\":[{\"type\":\"mesh3d\",\"colorbar\":{\"outlinewidth\":0,\"ticks\":\"\"}}],\"scatter\":[{\"fillpattern\":{\"fillmode\":\"overlay\",\"size\":10,\"solidity\":0.2},\"type\":\"scatter\"}],\"parcoords\":[{\"type\":\"parcoords\",\"line\":{\"colorbar\":{\"outlinewidth\":0,\"ticks\":\"\"}}}],\"scatterpolargl\":[{\"type\":\"scatterpolargl\",\"marker\":{\"colorbar\":{\"outlinewidth\":0,\"ticks\":\"\"}}}],\"bar\":[{\"error_x\":{\"color\":\"#2a3f5f\"},\"error_y\":{\"color\":\"#2a3f5f\"},\"marker\":{\"line\":{\"color\":\"#E5ECF6\",\"width\":0.5},\"pattern\":{\"fillmode\":\"overlay\",\"size\":10,\"solidity\":0.2}},\"type\":\"bar\"}],\"scattergeo\":[{\"type\":\"scattergeo\",\"marker\":{\"colorbar\":{\"outlinewidth\":0,\"ticks\":\"\"}}}],\"scatterpolar\":[{\"type\":\"scatterpolar\",\"marker\":{\"colorbar\":{\"outlinewidth\":0,\"ticks\":\"\"}}}],\"histogram\":[{\"marker\":{\"pattern\":{\"fillmode\":\"overlay\",\"size\":10,\"solidity\":0.2}},\"type\":\"histogram\"}],\"scattergl\":[{\"type\":\"scattergl\",\"marker\":{\"colorbar\":{\"outlinewidth\":0,\"ticks\":\"\"}}}],\"scatter3d\":[{\"type\":\"scatter3d\",\"line\":{\"colorbar\":{\"outlinewidth\":0,\"ticks\":\"\"}},\"marker\":{\"colorbar\":{\"outlinewidth\":0,\"ticks\":\"\"}}}],\"scattermapbox\":[{\"type\":\"scattermapbox\",\"marker\":{\"colorbar\":{\"outlinewidth\":0,\"ticks\":\"\"}}}],\"scatterternary\":[{\"type\":\"scatterternary\",\"marker\":{\"colorbar\":{\"outlinewidth\":0,\"ticks\":\"\"}}}],\"scattercarpet\":[{\"type\":\"scattercarpet\",\"marker\":{\"colorbar\":{\"outlinewidth\":0,\"ticks\":\"\"}}}],\"carpet\":[{\"aaxis\":{\"endlinecolor\":\"#2a3f5f\",\"gridcolor\":\"white\",\"linecolor\":\"white\",\"minorgridcolor\":\"white\",\"startlinecolor\":\"#2a3f5f\"},\"baxis\":{\"endlinecolor\":\"#2a3f5f\",\"gridcolor\":\"white\",\"linecolor\":\"white\",\"minorgridcolor\":\"white\",\"startlinecolor\":\"#2a3f5f\"},\"type\":\"carpet\"}],\"table\":[{\"cells\":{\"fill\":{\"color\":\"#EBF0F8\"},\"line\":{\"color\":\"white\"}},\"header\":{\"fill\":{\"color\":\"#C8D4E3\"},\"line\":{\"color\":\"white\"}},\"type\":\"table\"}],\"barpolar\":[{\"marker\":{\"line\":{\"color\":\"#E5ECF6\",\"width\":0.5},\"pattern\":{\"fillmode\":\"overlay\",\"size\":10,\"solidity\":0.2}},\"type\":\"barpolar\"}],\"pie\":[{\"automargin\":true,\"type\":\"pie\"}]},\"layout\":{\"autotypenumbers\":\"strict\",\"colorway\":[\"#636efa\",\"#EF553B\",\"#00cc96\",\"#ab63fa\",\"#FFA15A\",\"#19d3f3\",\"#FF6692\",\"#B6E880\",\"#FF97FF\",\"#FECB52\"],\"font\":{\"color\":\"#2a3f5f\"},\"hovermode\":\"closest\",\"hoverlabel\":{\"align\":\"left\"},\"paper_bgcolor\":\"white\",\"plot_bgcolor\":\"#E5ECF6\",\"polar\":{\"bgcolor\":\"#E5ECF6\",\"angularaxis\":{\"gridcolor\":\"white\",\"linecolor\":\"white\",\"ticks\":\"\"},\"radialaxis\":{\"gridcolor\":\"white\",\"linecolor\":\"white\",\"ticks\":\"\"}},\"ternary\":{\"bgcolor\":\"#E5ECF6\",\"aaxis\":{\"gridcolor\":\"white\",\"linecolor\":\"white\",\"ticks\":\"\"},\"baxis\":{\"gridcolor\":\"white\",\"linecolor\":\"white\",\"ticks\":\"\"},\"caxis\":{\"gridcolor\":\"white\",\"linecolor\":\"white\",\"ticks\":\"\"}},\"coloraxis\":{\"colorbar\":{\"outlinewidth\":0,\"ticks\":\"\"}},\"colorscale\":{\"sequential\":[[0.0,\"#0d0887\"],[0.1111111111111111,\"#46039f\"],[0.2222222222222222,\"#7201a8\"],[0.3333333333333333,\"#9c179e\"],[0.4444444444444444,\"#bd3786\"],[0.5555555555555556,\"#d8576b\"],[0.6666666666666666,\"#ed7953\"],[0.7777777777777778,\"#fb9f3a\"],[0.8888888888888888,\"#fdca26\"],[1.0,\"#f0f921\"]],\"sequentialminus\":[[0.0,\"#0d0887\"],[0.1111111111111111,\"#46039f\"],[0.2222222222222222,\"#7201a8\"],[0.3333333333333333,\"#9c179e\"],[0.4444444444444444,\"#bd3786\"],[0.5555555555555556,\"#d8576b\"],[0.6666666666666666,\"#ed7953\"],[0.7777777777777778,\"#fb9f3a\"],[0.8888888888888888,\"#fdca26\"],[1.0,\"#f0f921\"]],\"diverging\":[[0,\"#8e0152\"],[0.1,\"#c51b7d\"],[0.2,\"#de77ae\"],[0.3,\"#f1b6da\"],[0.4,\"#fde0ef\"],[0.5,\"#f7f7f7\"],[0.6,\"#e6f5d0\"],[0.7,\"#b8e186\"],[0.8,\"#7fbc41\"],[0.9,\"#4d9221\"],[1,\"#276419\"]]},\"xaxis\":{\"gridcolor\":\"white\",\"linecolor\":\"white\",\"ticks\":\"\",\"title\":{\"standoff\":15},\"zerolinecolor\":\"white\",\"automargin\":true,\"zerolinewidth\":2},\"yaxis\":{\"gridcolor\":\"white\",\"linecolor\":\"white\",\"ticks\":\"\",\"title\":{\"standoff\":15},\"zerolinecolor\":\"white\",\"automargin\":true,\"zerolinewidth\":2},\"scene\":{\"xaxis\":{\"backgroundcolor\":\"#E5ECF6\",\"gridcolor\":\"white\",\"linecolor\":\"white\",\"showbackground\":true,\"ticks\":\"\",\"zerolinecolor\":\"white\",\"gridwidth\":2},\"yaxis\":{\"backgroundcolor\":\"#E5ECF6\",\"gridcolor\":\"white\",\"linecolor\":\"white\",\"showbackground\":true,\"ticks\":\"\",\"zerolinecolor\":\"white\",\"gridwidth\":2},\"zaxis\":{\"backgroundcolor\":\"#E5ECF6\",\"gridcolor\":\"white\",\"linecolor\":\"white\",\"showbackground\":true,\"ticks\":\"\",\"zerolinecolor\":\"white\",\"gridwidth\":2}},\"shapedefaults\":{\"line\":{\"color\":\"#2a3f5f\"}},\"annotationdefaults\":{\"arrowcolor\":\"#2a3f5f\",\"arrowhead\":0,\"arrowwidth\":1},\"geo\":{\"bgcolor\":\"white\",\"landcolor\":\"#E5ECF6\",\"subunitcolor\":\"white\",\"showland\":true,\"showlakes\":true,\"lakecolor\":\"white\"},\"title\":{\"x\":0.05},\"mapbox\":{\"style\":\"light\"}}},\"xaxis\":{\"anchor\":\"y\",\"domain\":[0.0,1.0],\"title\":{\"text\":\"Alcohol Types\"},\"categoryorder\":\"array\",\"categoryarray\":[\"Beer\",\"Corona\",\"Tequila\",\"Vodka\",\"Whiskey\"]},\"yaxis\":{\"anchor\":\"x\",\"domain\":[0.0,1.0],\"title\":{\"text\":\"5-Week Velocity\"}},\"legend\":{\"title\":{\"text\":\"Alcohol Types\"},\"tracegroupgap\":0},\"title\":{\"text\":\"Total quantity sold for every 5 weeks\"},\"boxmode\":\"overlay\"},                        {\"responsive\": true}                    ).then(function(){\n",
              "                            \n",
              "var gd = document.getElementById('59cf21d0-7ee2-42ac-94a3-f95d96a6ea86');\n",
              "var x = new MutationObserver(function (mutations, observer) {{\n",
              "        var display = window.getComputedStyle(gd).display;\n",
              "        if (!display || display === 'none') {{\n",
              "            console.log([gd, 'removed!']);\n",
              "            Plotly.purge(gd);\n",
              "            observer.disconnect();\n",
              "        }}\n",
              "}});\n",
              "\n",
              "// Listen for the removal of the full notebook cells\n",
              "var notebookContainer = gd.closest('#notebook-container');\n",
              "if (notebookContainer) {{\n",
              "    x.observe(notebookContainer, {childList: true});\n",
              "}}\n",
              "\n",
              "// Listen for the clearing of the current output cell\n",
              "var outputEl = gd.closest('.output');\n",
              "if (outputEl) {{\n",
              "    x.observe(outputEl, {childList: true});\n",
              "}}\n",
              "\n",
              "                        })                };                            </script>        </div>\n",
              "</body>\n",
              "</html>"
            ]
          },
          "metadata": {}
        }
      ]
    },
    {
      "cell_type": "markdown",
      "source": [
        "ABS calculates there daily average over three 5 week totals that is calculated. I wanted to see the daily averages and then compare it with the means of those periods."
      ],
      "metadata": {
        "id": "3rYQd6cDDdK2"
      }
    },
    {
      "cell_type": "code",
      "source": [
        "ten_week_sales = melted_sales_data.copy()\n",
        "\n",
        "ten_week_sales['Week Number'] = ten_week_sales['Week'].str.extract('Week (\\d+)').astype(int)\n",
        "\n",
        "ten_week_sales['10-Week Group'] = ((ten_week_sales['Week Number'] - 1) // 10) + 1\n",
        "\n",
        "grouped_sales = ten_week_sales.groupby(['Description', '10-Week Group'])['Quantity Total'].sum().reset_index()\n",
        "\n",
        "grouped_sales.rename(columns={'Quantity Total': '10-Week Velocity'}, inplace=True)\n",
        "\n",
        "fig = px.box(grouped_sales,\n",
        "             x = \"Description\",\n",
        "             y = \"10-Week Velocity\",\n",
        "             color = \"Description\",\n",
        "             title = \"Total quantity sold for every 10 weeks\",\n",
        "             labels = {\"Description\": \"Alcohol Types\", \"Quarter Velocity\": \"Total Quantity Sold\"})\n",
        "fig.show()"
      ],
      "metadata": {
        "id": "quVnfBalEH8R",
        "outputId": "34bd165a-b4b7-478c-8ebf-1902b700293f",
        "colab": {
          "base_uri": "https://localhost:8080/",
          "height": 542
        }
      },
      "execution_count": 21,
      "outputs": [
        {
          "output_type": "display_data",
          "data": {
            "text/html": [
              "<html>\n",
              "<head><meta charset=\"utf-8\" /></head>\n",
              "<body>\n",
              "    <div>            <script src=\"https://cdnjs.cloudflare.com/ajax/libs/mathjax/2.7.5/MathJax.js?config=TeX-AMS-MML_SVG\"></script><script type=\"text/javascript\">if (window.MathJax && window.MathJax.Hub && window.MathJax.Hub.Config) {window.MathJax.Hub.Config({SVG: {font: \"STIX-Web\"}});}</script>                <script type=\"text/javascript\">window.PlotlyConfig = {MathJaxConfig: 'local'};</script>\n",
              "        <script charset=\"utf-8\" src=\"https://cdn.plot.ly/plotly-2.35.2.min.js\"></script>                <div id=\"a2b7f558-458a-4453-903d-99dad11e613c\" class=\"plotly-graph-div\" style=\"height:525px; width:100%;\"></div>            <script type=\"text/javascript\">                                    window.PLOTLYENV=window.PLOTLYENV || {};                                    if (document.getElementById(\"a2b7f558-458a-4453-903d-99dad11e613c\")) {                    Plotly.newPlot(                        \"a2b7f558-458a-4453-903d-99dad11e613c\",                        [{\"alignmentgroup\":\"True\",\"hovertemplate\":\"Alcohol Types=%{x}\\u003cbr\\u003e10-Week Velocity=%{y}\\u003cextra\\u003e\\u003c\\u002fextra\\u003e\",\"legendgroup\":\"Beer\",\"marker\":{\"color\":\"#636efa\"},\"name\":\"Beer\",\"notched\":false,\"offsetgroup\":\"Beer\",\"orientation\":\"v\",\"showlegend\":true,\"x\":[\"Beer\",\"Beer\",\"Beer\",\"Beer\",\"Beer\",\"Beer\"],\"x0\":\" \",\"xaxis\":\"x\",\"y\":[1905,2275,1951,2496,2109,748],\"y0\":\" \",\"yaxis\":\"y\",\"type\":\"box\"},{\"alignmentgroup\":\"True\",\"hovertemplate\":\"Alcohol Types=%{x}\\u003cbr\\u003e10-Week Velocity=%{y}\\u003cextra\\u003e\\u003c\\u002fextra\\u003e\",\"legendgroup\":\"Corona\",\"marker\":{\"color\":\"#EF553B\"},\"name\":\"Corona\",\"notched\":false,\"offsetgroup\":\"Corona\",\"orientation\":\"v\",\"showlegend\":true,\"x\":[\"Corona\",\"Corona\",\"Corona\",\"Corona\",\"Corona\",\"Corona\"],\"x0\":\" \",\"xaxis\":\"x\",\"y\":[58739,69466,83124,74497,78776,24098],\"y0\":\" \",\"yaxis\":\"y\",\"type\":\"box\"},{\"alignmentgroup\":\"True\",\"hovertemplate\":\"Alcohol Types=%{x}\\u003cbr\\u003e10-Week Velocity=%{y}\\u003cextra\\u003e\\u003c\\u002fextra\\u003e\",\"legendgroup\":\"Tequila\",\"marker\":{\"color\":\"#00cc96\"},\"name\":\"Tequila\",\"notched\":false,\"offsetgroup\":\"Tequila\",\"orientation\":\"v\",\"showlegend\":true,\"x\":[\"Tequila\",\"Tequila\",\"Tequila\",\"Tequila\",\"Tequila\",\"Tequila\"],\"x0\":\" \",\"xaxis\":\"x\",\"y\":[4104,4595,6048,5100,5388,1676],\"y0\":\" \",\"yaxis\":\"y\",\"type\":\"box\"},{\"alignmentgroup\":\"True\",\"hovertemplate\":\"Alcohol Types=%{x}\\u003cbr\\u003e10-Week Velocity=%{y}\\u003cextra\\u003e\\u003c\\u002fextra\\u003e\",\"legendgroup\":\"Vodka\",\"marker\":{\"color\":\"#ab63fa\"},\"name\":\"Vodka\",\"notched\":false,\"offsetgroup\":\"Vodka\",\"orientation\":\"v\",\"showlegend\":true,\"x\":[\"Vodka\",\"Vodka\",\"Vodka\",\"Vodka\",\"Vodka\",\"Vodka\"],\"x0\":\" \",\"xaxis\":\"x\",\"y\":[16202,17295,18615,19884,21021,4827],\"y0\":\" \",\"yaxis\":\"y\",\"type\":\"box\"},{\"alignmentgroup\":\"True\",\"hovertemplate\":\"Alcohol Types=%{x}\\u003cbr\\u003e10-Week Velocity=%{y}\\u003cextra\\u003e\\u003c\\u002fextra\\u003e\",\"legendgroup\":\"Whiskey\",\"marker\":{\"color\":\"#FFA15A\"},\"name\":\"Whiskey\",\"notched\":false,\"offsetgroup\":\"Whiskey\",\"orientation\":\"v\",\"showlegend\":true,\"x\":[\"Whiskey\",\"Whiskey\",\"Whiskey\",\"Whiskey\",\"Whiskey\",\"Whiskey\"],\"x0\":\" \",\"xaxis\":\"x\",\"y\":[1231,1436,1642,1491,1371,400],\"y0\":\" \",\"yaxis\":\"y\",\"type\":\"box\"}],                        {\"template\":{\"data\":{\"histogram2dcontour\":[{\"type\":\"histogram2dcontour\",\"colorbar\":{\"outlinewidth\":0,\"ticks\":\"\"},\"colorscale\":[[0.0,\"#0d0887\"],[0.1111111111111111,\"#46039f\"],[0.2222222222222222,\"#7201a8\"],[0.3333333333333333,\"#9c179e\"],[0.4444444444444444,\"#bd3786\"],[0.5555555555555556,\"#d8576b\"],[0.6666666666666666,\"#ed7953\"],[0.7777777777777778,\"#fb9f3a\"],[0.8888888888888888,\"#fdca26\"],[1.0,\"#f0f921\"]]}],\"choropleth\":[{\"type\":\"choropleth\",\"colorbar\":{\"outlinewidth\":0,\"ticks\":\"\"}}],\"histogram2d\":[{\"type\":\"histogram2d\",\"colorbar\":{\"outlinewidth\":0,\"ticks\":\"\"},\"colorscale\":[[0.0,\"#0d0887\"],[0.1111111111111111,\"#46039f\"],[0.2222222222222222,\"#7201a8\"],[0.3333333333333333,\"#9c179e\"],[0.4444444444444444,\"#bd3786\"],[0.5555555555555556,\"#d8576b\"],[0.6666666666666666,\"#ed7953\"],[0.7777777777777778,\"#fb9f3a\"],[0.8888888888888888,\"#fdca26\"],[1.0,\"#f0f921\"]]}],\"heatmap\":[{\"type\":\"heatmap\",\"colorbar\":{\"outlinewidth\":0,\"ticks\":\"\"},\"colorscale\":[[0.0,\"#0d0887\"],[0.1111111111111111,\"#46039f\"],[0.2222222222222222,\"#7201a8\"],[0.3333333333333333,\"#9c179e\"],[0.4444444444444444,\"#bd3786\"],[0.5555555555555556,\"#d8576b\"],[0.6666666666666666,\"#ed7953\"],[0.7777777777777778,\"#fb9f3a\"],[0.8888888888888888,\"#fdca26\"],[1.0,\"#f0f921\"]]}],\"heatmapgl\":[{\"type\":\"heatmapgl\",\"colorbar\":{\"outlinewidth\":0,\"ticks\":\"\"},\"colorscale\":[[0.0,\"#0d0887\"],[0.1111111111111111,\"#46039f\"],[0.2222222222222222,\"#7201a8\"],[0.3333333333333333,\"#9c179e\"],[0.4444444444444444,\"#bd3786\"],[0.5555555555555556,\"#d8576b\"],[0.6666666666666666,\"#ed7953\"],[0.7777777777777778,\"#fb9f3a\"],[0.8888888888888888,\"#fdca26\"],[1.0,\"#f0f921\"]]}],\"contourcarpet\":[{\"type\":\"contourcarpet\",\"colorbar\":{\"outlinewidth\":0,\"ticks\":\"\"}}],\"contour\":[{\"type\":\"contour\",\"colorbar\":{\"outlinewidth\":0,\"ticks\":\"\"},\"colorscale\":[[0.0,\"#0d0887\"],[0.1111111111111111,\"#46039f\"],[0.2222222222222222,\"#7201a8\"],[0.3333333333333333,\"#9c179e\"],[0.4444444444444444,\"#bd3786\"],[0.5555555555555556,\"#d8576b\"],[0.6666666666666666,\"#ed7953\"],[0.7777777777777778,\"#fb9f3a\"],[0.8888888888888888,\"#fdca26\"],[1.0,\"#f0f921\"]]}],\"surface\":[{\"type\":\"surface\",\"colorbar\":{\"outlinewidth\":0,\"ticks\":\"\"},\"colorscale\":[[0.0,\"#0d0887\"],[0.1111111111111111,\"#46039f\"],[0.2222222222222222,\"#7201a8\"],[0.3333333333333333,\"#9c179e\"],[0.4444444444444444,\"#bd3786\"],[0.5555555555555556,\"#d8576b\"],[0.6666666666666666,\"#ed7953\"],[0.7777777777777778,\"#fb9f3a\"],[0.8888888888888888,\"#fdca26\"],[1.0,\"#f0f921\"]]}],\"mesh3d\":[{\"type\":\"mesh3d\",\"colorbar\":{\"outlinewidth\":0,\"ticks\":\"\"}}],\"scatter\":[{\"fillpattern\":{\"fillmode\":\"overlay\",\"size\":10,\"solidity\":0.2},\"type\":\"scatter\"}],\"parcoords\":[{\"type\":\"parcoords\",\"line\":{\"colorbar\":{\"outlinewidth\":0,\"ticks\":\"\"}}}],\"scatterpolargl\":[{\"type\":\"scatterpolargl\",\"marker\":{\"colorbar\":{\"outlinewidth\":0,\"ticks\":\"\"}}}],\"bar\":[{\"error_x\":{\"color\":\"#2a3f5f\"},\"error_y\":{\"color\":\"#2a3f5f\"},\"marker\":{\"line\":{\"color\":\"#E5ECF6\",\"width\":0.5},\"pattern\":{\"fillmode\":\"overlay\",\"size\":10,\"solidity\":0.2}},\"type\":\"bar\"}],\"scattergeo\":[{\"type\":\"scattergeo\",\"marker\":{\"colorbar\":{\"outlinewidth\":0,\"ticks\":\"\"}}}],\"scatterpolar\":[{\"type\":\"scatterpolar\",\"marker\":{\"colorbar\":{\"outlinewidth\":0,\"ticks\":\"\"}}}],\"histogram\":[{\"marker\":{\"pattern\":{\"fillmode\":\"overlay\",\"size\":10,\"solidity\":0.2}},\"type\":\"histogram\"}],\"scattergl\":[{\"type\":\"scattergl\",\"marker\":{\"colorbar\":{\"outlinewidth\":0,\"ticks\":\"\"}}}],\"scatter3d\":[{\"type\":\"scatter3d\",\"line\":{\"colorbar\":{\"outlinewidth\":0,\"ticks\":\"\"}},\"marker\":{\"colorbar\":{\"outlinewidth\":0,\"ticks\":\"\"}}}],\"scattermapbox\":[{\"type\":\"scattermapbox\",\"marker\":{\"colorbar\":{\"outlinewidth\":0,\"ticks\":\"\"}}}],\"scatterternary\":[{\"type\":\"scatterternary\",\"marker\":{\"colorbar\":{\"outlinewidth\":0,\"ticks\":\"\"}}}],\"scattercarpet\":[{\"type\":\"scattercarpet\",\"marker\":{\"colorbar\":{\"outlinewidth\":0,\"ticks\":\"\"}}}],\"carpet\":[{\"aaxis\":{\"endlinecolor\":\"#2a3f5f\",\"gridcolor\":\"white\",\"linecolor\":\"white\",\"minorgridcolor\":\"white\",\"startlinecolor\":\"#2a3f5f\"},\"baxis\":{\"endlinecolor\":\"#2a3f5f\",\"gridcolor\":\"white\",\"linecolor\":\"white\",\"minorgridcolor\":\"white\",\"startlinecolor\":\"#2a3f5f\"},\"type\":\"carpet\"}],\"table\":[{\"cells\":{\"fill\":{\"color\":\"#EBF0F8\"},\"line\":{\"color\":\"white\"}},\"header\":{\"fill\":{\"color\":\"#C8D4E3\"},\"line\":{\"color\":\"white\"}},\"type\":\"table\"}],\"barpolar\":[{\"marker\":{\"line\":{\"color\":\"#E5ECF6\",\"width\":0.5},\"pattern\":{\"fillmode\":\"overlay\",\"size\":10,\"solidity\":0.2}},\"type\":\"barpolar\"}],\"pie\":[{\"automargin\":true,\"type\":\"pie\"}]},\"layout\":{\"autotypenumbers\":\"strict\",\"colorway\":[\"#636efa\",\"#EF553B\",\"#00cc96\",\"#ab63fa\",\"#FFA15A\",\"#19d3f3\",\"#FF6692\",\"#B6E880\",\"#FF97FF\",\"#FECB52\"],\"font\":{\"color\":\"#2a3f5f\"},\"hovermode\":\"closest\",\"hoverlabel\":{\"align\":\"left\"},\"paper_bgcolor\":\"white\",\"plot_bgcolor\":\"#E5ECF6\",\"polar\":{\"bgcolor\":\"#E5ECF6\",\"angularaxis\":{\"gridcolor\":\"white\",\"linecolor\":\"white\",\"ticks\":\"\"},\"radialaxis\":{\"gridcolor\":\"white\",\"linecolor\":\"white\",\"ticks\":\"\"}},\"ternary\":{\"bgcolor\":\"#E5ECF6\",\"aaxis\":{\"gridcolor\":\"white\",\"linecolor\":\"white\",\"ticks\":\"\"},\"baxis\":{\"gridcolor\":\"white\",\"linecolor\":\"white\",\"ticks\":\"\"},\"caxis\":{\"gridcolor\":\"white\",\"linecolor\":\"white\",\"ticks\":\"\"}},\"coloraxis\":{\"colorbar\":{\"outlinewidth\":0,\"ticks\":\"\"}},\"colorscale\":{\"sequential\":[[0.0,\"#0d0887\"],[0.1111111111111111,\"#46039f\"],[0.2222222222222222,\"#7201a8\"],[0.3333333333333333,\"#9c179e\"],[0.4444444444444444,\"#bd3786\"],[0.5555555555555556,\"#d8576b\"],[0.6666666666666666,\"#ed7953\"],[0.7777777777777778,\"#fb9f3a\"],[0.8888888888888888,\"#fdca26\"],[1.0,\"#f0f921\"]],\"sequentialminus\":[[0.0,\"#0d0887\"],[0.1111111111111111,\"#46039f\"],[0.2222222222222222,\"#7201a8\"],[0.3333333333333333,\"#9c179e\"],[0.4444444444444444,\"#bd3786\"],[0.5555555555555556,\"#d8576b\"],[0.6666666666666666,\"#ed7953\"],[0.7777777777777778,\"#fb9f3a\"],[0.8888888888888888,\"#fdca26\"],[1.0,\"#f0f921\"]],\"diverging\":[[0,\"#8e0152\"],[0.1,\"#c51b7d\"],[0.2,\"#de77ae\"],[0.3,\"#f1b6da\"],[0.4,\"#fde0ef\"],[0.5,\"#f7f7f7\"],[0.6,\"#e6f5d0\"],[0.7,\"#b8e186\"],[0.8,\"#7fbc41\"],[0.9,\"#4d9221\"],[1,\"#276419\"]]},\"xaxis\":{\"gridcolor\":\"white\",\"linecolor\":\"white\",\"ticks\":\"\",\"title\":{\"standoff\":15},\"zerolinecolor\":\"white\",\"automargin\":true,\"zerolinewidth\":2},\"yaxis\":{\"gridcolor\":\"white\",\"linecolor\":\"white\",\"ticks\":\"\",\"title\":{\"standoff\":15},\"zerolinecolor\":\"white\",\"automargin\":true,\"zerolinewidth\":2},\"scene\":{\"xaxis\":{\"backgroundcolor\":\"#E5ECF6\",\"gridcolor\":\"white\",\"linecolor\":\"white\",\"showbackground\":true,\"ticks\":\"\",\"zerolinecolor\":\"white\",\"gridwidth\":2},\"yaxis\":{\"backgroundcolor\":\"#E5ECF6\",\"gridcolor\":\"white\",\"linecolor\":\"white\",\"showbackground\":true,\"ticks\":\"\",\"zerolinecolor\":\"white\",\"gridwidth\":2},\"zaxis\":{\"backgroundcolor\":\"#E5ECF6\",\"gridcolor\":\"white\",\"linecolor\":\"white\",\"showbackground\":true,\"ticks\":\"\",\"zerolinecolor\":\"white\",\"gridwidth\":2}},\"shapedefaults\":{\"line\":{\"color\":\"#2a3f5f\"}},\"annotationdefaults\":{\"arrowcolor\":\"#2a3f5f\",\"arrowhead\":0,\"arrowwidth\":1},\"geo\":{\"bgcolor\":\"white\",\"landcolor\":\"#E5ECF6\",\"subunitcolor\":\"white\",\"showland\":true,\"showlakes\":true,\"lakecolor\":\"white\"},\"title\":{\"x\":0.05},\"mapbox\":{\"style\":\"light\"}}},\"xaxis\":{\"anchor\":\"y\",\"domain\":[0.0,1.0],\"title\":{\"text\":\"Alcohol Types\"},\"categoryorder\":\"array\",\"categoryarray\":[\"Beer\",\"Corona\",\"Tequila\",\"Vodka\",\"Whiskey\"]},\"yaxis\":{\"anchor\":\"x\",\"domain\":[0.0,1.0],\"title\":{\"text\":\"10-Week Velocity\"}},\"legend\":{\"title\":{\"text\":\"Alcohol Types\"},\"tracegroupgap\":0},\"title\":{\"text\":\"Total quantity sold for every 10 weeks\"},\"boxmode\":\"overlay\"},                        {\"responsive\": true}                    ).then(function(){\n",
              "                            \n",
              "var gd = document.getElementById('a2b7f558-458a-4453-903d-99dad11e613c');\n",
              "var x = new MutationObserver(function (mutations, observer) {{\n",
              "        var display = window.getComputedStyle(gd).display;\n",
              "        if (!display || display === 'none') {{\n",
              "            console.log([gd, 'removed!']);\n",
              "            Plotly.purge(gd);\n",
              "            observer.disconnect();\n",
              "        }}\n",
              "}});\n",
              "\n",
              "// Listen for the removal of the full notebook cells\n",
              "var notebookContainer = gd.closest('#notebook-container');\n",
              "if (notebookContainer) {{\n",
              "    x.observe(notebookContainer, {childList: true});\n",
              "}}\n",
              "\n",
              "// Listen for the clearing of the current output cell\n",
              "var outputEl = gd.closest('.output');\n",
              "if (outputEl) {{\n",
              "    x.observe(outputEl, {childList: true});\n",
              "}}\n",
              "\n",
              "                        })                };                            </script>        </div>\n",
              "</body>\n",
              "</html>"
            ]
          },
          "metadata": {}
        }
      ]
    },
    {
      "cell_type": "markdown",
      "source": [
        "This is the 10 week total for all of the alcohol types represented in a boxplot"
      ],
      "metadata": {
        "id": "_89rouwiEMP1"
      }
    },
    {
      "cell_type": "code",
      "source": [
        "fifteen_week_sales = melted_sales_data.copy()\n",
        "\n",
        "fifteen_week_sales['Week Number'] = fifteen_week_sales['Week'].str.extract('Week (\\d+)').astype(int)\n",
        "\n",
        "fifteen_week_sales['15-Week Group'] = ((fifteen_week_sales['Week Number'] - 1) // 15) + 1\n",
        "\n",
        "grouped_sales = fifteen_week_sales.groupby(['Description', '15-Week Group'])['Quantity Total'].sum().reset_index()\n",
        "\n",
        "grouped_sales.rename(columns={'Quantity Total': '15-Week Velocity'}, inplace=True)\n",
        "\n",
        "fig = px.box(grouped_sales,\n",
        "             x = \"Description\",\n",
        "             y = \"15-Week Velocity\",\n",
        "             color = \"Description\",\n",
        "             title = \"Total quantity sold for every 15 weeks\",\n",
        "             labels = {\"Description\": \"Alcohol Types\", \"Quarter Velocity\": \"Total Quantity Sold\"}\n",
        "             )\n",
        "fig.show()"
      ],
      "metadata": {
        "id": "7Tsi_KFUEhRo",
        "outputId": "4f03acef-4470-4dbd-ceb6-97d565087c4f",
        "colab": {
          "base_uri": "https://localhost:8080/",
          "height": 542
        }
      },
      "execution_count": 22,
      "outputs": [
        {
          "output_type": "display_data",
          "data": {
            "text/html": [
              "<html>\n",
              "<head><meta charset=\"utf-8\" /></head>\n",
              "<body>\n",
              "    <div>            <script src=\"https://cdnjs.cloudflare.com/ajax/libs/mathjax/2.7.5/MathJax.js?config=TeX-AMS-MML_SVG\"></script><script type=\"text/javascript\">if (window.MathJax && window.MathJax.Hub && window.MathJax.Hub.Config) {window.MathJax.Hub.Config({SVG: {font: \"STIX-Web\"}});}</script>                <script type=\"text/javascript\">window.PlotlyConfig = {MathJaxConfig: 'local'};</script>\n",
              "        <script charset=\"utf-8\" src=\"https://cdn.plot.ly/plotly-2.35.2.min.js\"></script>                <div id=\"9b1bcaa1-3cc7-49ff-85ae-3c6fe385fe54\" class=\"plotly-graph-div\" style=\"height:525px; width:100%;\"></div>            <script type=\"text/javascript\">                                    window.PLOTLYENV=window.PLOTLYENV || {};                                    if (document.getElementById(\"9b1bcaa1-3cc7-49ff-85ae-3c6fe385fe54\")) {                    Plotly.newPlot(                        \"9b1bcaa1-3cc7-49ff-85ae-3c6fe385fe54\",                        [{\"alignmentgroup\":\"True\",\"hovertemplate\":\"Alcohol Types=%{x}\\u003cbr\\u003e15-Week Velocity=%{y}\\u003cextra\\u003e\\u003c\\u002fextra\\u003e\",\"legendgroup\":\"Beer\",\"marker\":{\"color\":\"#636efa\"},\"name\":\"Beer\",\"notched\":false,\"offsetgroup\":\"Beer\",\"orientation\":\"v\",\"showlegend\":true,\"x\":[\"Beer\",\"Beer\",\"Beer\",\"Beer\"],\"x0\":\" \",\"xaxis\":\"x\",\"y\":[2944,3187,3589,1764],\"y0\":\" \",\"yaxis\":\"y\",\"type\":\"box\"},{\"alignmentgroup\":\"True\",\"hovertemplate\":\"Alcohol Types=%{x}\\u003cbr\\u003e15-Week Velocity=%{y}\\u003cextra\\u003e\\u003c\\u002fextra\\u003e\",\"legendgroup\":\"Corona\",\"marker\":{\"color\":\"#EF553B\"},\"name\":\"Corona\",\"notched\":false,\"offsetgroup\":\"Corona\",\"orientation\":\"v\",\"showlegend\":true,\"x\":[\"Corona\",\"Corona\",\"Corona\",\"Corona\"],\"x0\":\" \",\"xaxis\":\"x\",\"y\":[92404,118925,113381,63990],\"y0\":\" \",\"yaxis\":\"y\",\"type\":\"box\"},{\"alignmentgroup\":\"True\",\"hovertemplate\":\"Alcohol Types=%{x}\\u003cbr\\u003e15-Week Velocity=%{y}\\u003cextra\\u003e\\u003c\\u002fextra\\u003e\",\"legendgroup\":\"Tequila\",\"marker\":{\"color\":\"#00cc96\"},\"name\":\"Tequila\",\"notched\":false,\"offsetgroup\":\"Tequila\",\"orientation\":\"v\",\"showlegend\":true,\"x\":[\"Tequila\",\"Tequila\",\"Tequila\",\"Tequila\"],\"x0\":\" \",\"xaxis\":\"x\",\"y\":[6302,8445,7648,4516],\"y0\":\" \",\"yaxis\":\"y\",\"type\":\"box\"},{\"alignmentgroup\":\"True\",\"hovertemplate\":\"Alcohol Types=%{x}\\u003cbr\\u003e15-Week Velocity=%{y}\\u003cextra\\u003e\\u003c\\u002fextra\\u003e\",\"legendgroup\":\"Vodka\",\"marker\":{\"color\":\"#ab63fa\"},\"name\":\"Vodka\",\"notched\":false,\"offsetgroup\":\"Vodka\",\"orientation\":\"v\",\"showlegend\":true,\"x\":[\"Vodka\",\"Vodka\",\"Vodka\",\"Vodka\"],\"x0\":\" \",\"xaxis\":\"x\",\"y\":[24469,27643,30858,14874],\"y0\":\" \",\"yaxis\":\"y\",\"type\":\"box\"},{\"alignmentgroup\":\"True\",\"hovertemplate\":\"Alcohol Types=%{x}\\u003cbr\\u003e15-Week Velocity=%{y}\\u003cextra\\u003e\\u003c\\u002fextra\\u003e\",\"legendgroup\":\"Whiskey\",\"marker\":{\"color\":\"#FFA15A\"},\"name\":\"Whiskey\",\"notched\":false,\"offsetgroup\":\"Whiskey\",\"orientation\":\"v\",\"showlegend\":true,\"x\":[\"Whiskey\",\"Whiskey\",\"Whiskey\",\"Whiskey\"],\"x0\":\" \",\"xaxis\":\"x\",\"y\":[2001,2308,2148,1114],\"y0\":\" \",\"yaxis\":\"y\",\"type\":\"box\"}],                        {\"template\":{\"data\":{\"histogram2dcontour\":[{\"type\":\"histogram2dcontour\",\"colorbar\":{\"outlinewidth\":0,\"ticks\":\"\"},\"colorscale\":[[0.0,\"#0d0887\"],[0.1111111111111111,\"#46039f\"],[0.2222222222222222,\"#7201a8\"],[0.3333333333333333,\"#9c179e\"],[0.4444444444444444,\"#bd3786\"],[0.5555555555555556,\"#d8576b\"],[0.6666666666666666,\"#ed7953\"],[0.7777777777777778,\"#fb9f3a\"],[0.8888888888888888,\"#fdca26\"],[1.0,\"#f0f921\"]]}],\"choropleth\":[{\"type\":\"choropleth\",\"colorbar\":{\"outlinewidth\":0,\"ticks\":\"\"}}],\"histogram2d\":[{\"type\":\"histogram2d\",\"colorbar\":{\"outlinewidth\":0,\"ticks\":\"\"},\"colorscale\":[[0.0,\"#0d0887\"],[0.1111111111111111,\"#46039f\"],[0.2222222222222222,\"#7201a8\"],[0.3333333333333333,\"#9c179e\"],[0.4444444444444444,\"#bd3786\"],[0.5555555555555556,\"#d8576b\"],[0.6666666666666666,\"#ed7953\"],[0.7777777777777778,\"#fb9f3a\"],[0.8888888888888888,\"#fdca26\"],[1.0,\"#f0f921\"]]}],\"heatmap\":[{\"type\":\"heatmap\",\"colorbar\":{\"outlinewidth\":0,\"ticks\":\"\"},\"colorscale\":[[0.0,\"#0d0887\"],[0.1111111111111111,\"#46039f\"],[0.2222222222222222,\"#7201a8\"],[0.3333333333333333,\"#9c179e\"],[0.4444444444444444,\"#bd3786\"],[0.5555555555555556,\"#d8576b\"],[0.6666666666666666,\"#ed7953\"],[0.7777777777777778,\"#fb9f3a\"],[0.8888888888888888,\"#fdca26\"],[1.0,\"#f0f921\"]]}],\"heatmapgl\":[{\"type\":\"heatmapgl\",\"colorbar\":{\"outlinewidth\":0,\"ticks\":\"\"},\"colorscale\":[[0.0,\"#0d0887\"],[0.1111111111111111,\"#46039f\"],[0.2222222222222222,\"#7201a8\"],[0.3333333333333333,\"#9c179e\"],[0.4444444444444444,\"#bd3786\"],[0.5555555555555556,\"#d8576b\"],[0.6666666666666666,\"#ed7953\"],[0.7777777777777778,\"#fb9f3a\"],[0.8888888888888888,\"#fdca26\"],[1.0,\"#f0f921\"]]}],\"contourcarpet\":[{\"type\":\"contourcarpet\",\"colorbar\":{\"outlinewidth\":0,\"ticks\":\"\"}}],\"contour\":[{\"type\":\"contour\",\"colorbar\":{\"outlinewidth\":0,\"ticks\":\"\"},\"colorscale\":[[0.0,\"#0d0887\"],[0.1111111111111111,\"#46039f\"],[0.2222222222222222,\"#7201a8\"],[0.3333333333333333,\"#9c179e\"],[0.4444444444444444,\"#bd3786\"],[0.5555555555555556,\"#d8576b\"],[0.6666666666666666,\"#ed7953\"],[0.7777777777777778,\"#fb9f3a\"],[0.8888888888888888,\"#fdca26\"],[1.0,\"#f0f921\"]]}],\"surface\":[{\"type\":\"surface\",\"colorbar\":{\"outlinewidth\":0,\"ticks\":\"\"},\"colorscale\":[[0.0,\"#0d0887\"],[0.1111111111111111,\"#46039f\"],[0.2222222222222222,\"#7201a8\"],[0.3333333333333333,\"#9c179e\"],[0.4444444444444444,\"#bd3786\"],[0.5555555555555556,\"#d8576b\"],[0.6666666666666666,\"#ed7953\"],[0.7777777777777778,\"#fb9f3a\"],[0.8888888888888888,\"#fdca26\"],[1.0,\"#f0f921\"]]}],\"mesh3d\":[{\"type\":\"mesh3d\",\"colorbar\":{\"outlinewidth\":0,\"ticks\":\"\"}}],\"scatter\":[{\"fillpattern\":{\"fillmode\":\"overlay\",\"size\":10,\"solidity\":0.2},\"type\":\"scatter\"}],\"parcoords\":[{\"type\":\"parcoords\",\"line\":{\"colorbar\":{\"outlinewidth\":0,\"ticks\":\"\"}}}],\"scatterpolargl\":[{\"type\":\"scatterpolargl\",\"marker\":{\"colorbar\":{\"outlinewidth\":0,\"ticks\":\"\"}}}],\"bar\":[{\"error_x\":{\"color\":\"#2a3f5f\"},\"error_y\":{\"color\":\"#2a3f5f\"},\"marker\":{\"line\":{\"color\":\"#E5ECF6\",\"width\":0.5},\"pattern\":{\"fillmode\":\"overlay\",\"size\":10,\"solidity\":0.2}},\"type\":\"bar\"}],\"scattergeo\":[{\"type\":\"scattergeo\",\"marker\":{\"colorbar\":{\"outlinewidth\":0,\"ticks\":\"\"}}}],\"scatterpolar\":[{\"type\":\"scatterpolar\",\"marker\":{\"colorbar\":{\"outlinewidth\":0,\"ticks\":\"\"}}}],\"histogram\":[{\"marker\":{\"pattern\":{\"fillmode\":\"overlay\",\"size\":10,\"solidity\":0.2}},\"type\":\"histogram\"}],\"scattergl\":[{\"type\":\"scattergl\",\"marker\":{\"colorbar\":{\"outlinewidth\":0,\"ticks\":\"\"}}}],\"scatter3d\":[{\"type\":\"scatter3d\",\"line\":{\"colorbar\":{\"outlinewidth\":0,\"ticks\":\"\"}},\"marker\":{\"colorbar\":{\"outlinewidth\":0,\"ticks\":\"\"}}}],\"scattermapbox\":[{\"type\":\"scattermapbox\",\"marker\":{\"colorbar\":{\"outlinewidth\":0,\"ticks\":\"\"}}}],\"scatterternary\":[{\"type\":\"scatterternary\",\"marker\":{\"colorbar\":{\"outlinewidth\":0,\"ticks\":\"\"}}}],\"scattercarpet\":[{\"type\":\"scattercarpet\",\"marker\":{\"colorbar\":{\"outlinewidth\":0,\"ticks\":\"\"}}}],\"carpet\":[{\"aaxis\":{\"endlinecolor\":\"#2a3f5f\",\"gridcolor\":\"white\",\"linecolor\":\"white\",\"minorgridcolor\":\"white\",\"startlinecolor\":\"#2a3f5f\"},\"baxis\":{\"endlinecolor\":\"#2a3f5f\",\"gridcolor\":\"white\",\"linecolor\":\"white\",\"minorgridcolor\":\"white\",\"startlinecolor\":\"#2a3f5f\"},\"type\":\"carpet\"}],\"table\":[{\"cells\":{\"fill\":{\"color\":\"#EBF0F8\"},\"line\":{\"color\":\"white\"}},\"header\":{\"fill\":{\"color\":\"#C8D4E3\"},\"line\":{\"color\":\"white\"}},\"type\":\"table\"}],\"barpolar\":[{\"marker\":{\"line\":{\"color\":\"#E5ECF6\",\"width\":0.5},\"pattern\":{\"fillmode\":\"overlay\",\"size\":10,\"solidity\":0.2}},\"type\":\"barpolar\"}],\"pie\":[{\"automargin\":true,\"type\":\"pie\"}]},\"layout\":{\"autotypenumbers\":\"strict\",\"colorway\":[\"#636efa\",\"#EF553B\",\"#00cc96\",\"#ab63fa\",\"#FFA15A\",\"#19d3f3\",\"#FF6692\",\"#B6E880\",\"#FF97FF\",\"#FECB52\"],\"font\":{\"color\":\"#2a3f5f\"},\"hovermode\":\"closest\",\"hoverlabel\":{\"align\":\"left\"},\"paper_bgcolor\":\"white\",\"plot_bgcolor\":\"#E5ECF6\",\"polar\":{\"bgcolor\":\"#E5ECF6\",\"angularaxis\":{\"gridcolor\":\"white\",\"linecolor\":\"white\",\"ticks\":\"\"},\"radialaxis\":{\"gridcolor\":\"white\",\"linecolor\":\"white\",\"ticks\":\"\"}},\"ternary\":{\"bgcolor\":\"#E5ECF6\",\"aaxis\":{\"gridcolor\":\"white\",\"linecolor\":\"white\",\"ticks\":\"\"},\"baxis\":{\"gridcolor\":\"white\",\"linecolor\":\"white\",\"ticks\":\"\"},\"caxis\":{\"gridcolor\":\"white\",\"linecolor\":\"white\",\"ticks\":\"\"}},\"coloraxis\":{\"colorbar\":{\"outlinewidth\":0,\"ticks\":\"\"}},\"colorscale\":{\"sequential\":[[0.0,\"#0d0887\"],[0.1111111111111111,\"#46039f\"],[0.2222222222222222,\"#7201a8\"],[0.3333333333333333,\"#9c179e\"],[0.4444444444444444,\"#bd3786\"],[0.5555555555555556,\"#d8576b\"],[0.6666666666666666,\"#ed7953\"],[0.7777777777777778,\"#fb9f3a\"],[0.8888888888888888,\"#fdca26\"],[1.0,\"#f0f921\"]],\"sequentialminus\":[[0.0,\"#0d0887\"],[0.1111111111111111,\"#46039f\"],[0.2222222222222222,\"#7201a8\"],[0.3333333333333333,\"#9c179e\"],[0.4444444444444444,\"#bd3786\"],[0.5555555555555556,\"#d8576b\"],[0.6666666666666666,\"#ed7953\"],[0.7777777777777778,\"#fb9f3a\"],[0.8888888888888888,\"#fdca26\"],[1.0,\"#f0f921\"]],\"diverging\":[[0,\"#8e0152\"],[0.1,\"#c51b7d\"],[0.2,\"#de77ae\"],[0.3,\"#f1b6da\"],[0.4,\"#fde0ef\"],[0.5,\"#f7f7f7\"],[0.6,\"#e6f5d0\"],[0.7,\"#b8e186\"],[0.8,\"#7fbc41\"],[0.9,\"#4d9221\"],[1,\"#276419\"]]},\"xaxis\":{\"gridcolor\":\"white\",\"linecolor\":\"white\",\"ticks\":\"\",\"title\":{\"standoff\":15},\"zerolinecolor\":\"white\",\"automargin\":true,\"zerolinewidth\":2},\"yaxis\":{\"gridcolor\":\"white\",\"linecolor\":\"white\",\"ticks\":\"\",\"title\":{\"standoff\":15},\"zerolinecolor\":\"white\",\"automargin\":true,\"zerolinewidth\":2},\"scene\":{\"xaxis\":{\"backgroundcolor\":\"#E5ECF6\",\"gridcolor\":\"white\",\"linecolor\":\"white\",\"showbackground\":true,\"ticks\":\"\",\"zerolinecolor\":\"white\",\"gridwidth\":2},\"yaxis\":{\"backgroundcolor\":\"#E5ECF6\",\"gridcolor\":\"white\",\"linecolor\":\"white\",\"showbackground\":true,\"ticks\":\"\",\"zerolinecolor\":\"white\",\"gridwidth\":2},\"zaxis\":{\"backgroundcolor\":\"#E5ECF6\",\"gridcolor\":\"white\",\"linecolor\":\"white\",\"showbackground\":true,\"ticks\":\"\",\"zerolinecolor\":\"white\",\"gridwidth\":2}},\"shapedefaults\":{\"line\":{\"color\":\"#2a3f5f\"}},\"annotationdefaults\":{\"arrowcolor\":\"#2a3f5f\",\"arrowhead\":0,\"arrowwidth\":1},\"geo\":{\"bgcolor\":\"white\",\"landcolor\":\"#E5ECF6\",\"subunitcolor\":\"white\",\"showland\":true,\"showlakes\":true,\"lakecolor\":\"white\"},\"title\":{\"x\":0.05},\"mapbox\":{\"style\":\"light\"}}},\"xaxis\":{\"anchor\":\"y\",\"domain\":[0.0,1.0],\"title\":{\"text\":\"Alcohol Types\"},\"categoryorder\":\"array\",\"categoryarray\":[\"Beer\",\"Corona\",\"Tequila\",\"Vodka\",\"Whiskey\"]},\"yaxis\":{\"anchor\":\"x\",\"domain\":[0.0,1.0],\"title\":{\"text\":\"15-Week Velocity\"}},\"legend\":{\"title\":{\"text\":\"Alcohol Types\"},\"tracegroupgap\":0},\"title\":{\"text\":\"Total quantity sold for every 15 weeks\"},\"boxmode\":\"overlay\"},                        {\"responsive\": true}                    ).then(function(){\n",
              "                            \n",
              "var gd = document.getElementById('9b1bcaa1-3cc7-49ff-85ae-3c6fe385fe54');\n",
              "var x = new MutationObserver(function (mutations, observer) {{\n",
              "        var display = window.getComputedStyle(gd).display;\n",
              "        if (!display || display === 'none') {{\n",
              "            console.log([gd, 'removed!']);\n",
              "            Plotly.purge(gd);\n",
              "            observer.disconnect();\n",
              "        }}\n",
              "}});\n",
              "\n",
              "// Listen for the removal of the full notebook cells\n",
              "var notebookContainer = gd.closest('#notebook-container');\n",
              "if (notebookContainer) {{\n",
              "    x.observe(notebookContainer, {childList: true});\n",
              "}}\n",
              "\n",
              "// Listen for the clearing of the current output cell\n",
              "var outputEl = gd.closest('.output');\n",
              "if (outputEl) {{\n",
              "    x.observe(outputEl, {childList: true});\n",
              "}}\n",
              "\n",
              "                        })                };                            </script>        </div>\n",
              "</body>\n",
              "</html>"
            ]
          },
          "metadata": {}
        }
      ]
    },
    {
      "cell_type": "markdown",
      "source": [
        "This boxplot is showing the total quantity sold for every alcohol type over 15 weeks"
      ],
      "metadata": {
        "id": "eYTHXq2tFKga"
      }
    },
    {
      "cell_type": "code",
      "source": [
        "fifty_two_week_sales = melted_sales_data.copy()\n",
        "\n",
        "fifty_two_week_sales['Week Number'] = fifty_two_week_sales['Week'].str.extract('Week (\\d+)').astype(int)\n",
        "fifty_two_week_sales['15-Week Group'] = ((fifty_two_week_sales['Week Number'] - 1) // 52) + 1\n",
        "\n",
        "grouped_sales = fifty_two_week_sales.groupby(['Description', '15-Week Group'])['Quantity Total'].sum().reset_index()\n",
        "\n",
        "grouped_sales.rename(columns={'Quantity Total': '52-week Velocity'}, inplace=True)\n",
        "\n",
        "fig = px.box(grouped_sales,\n",
        "             x = \"Description\",\n",
        "             y = \"52-week Velocity\",\n",
        "             color = \"Description\",\n",
        "             title = \"Total Units Sold Annually per Alcohol Type\",\n",
        "             labels = {\"Description\": \"Alcohol Types\", \"Quarter Velocity\": \"Total Quantity Sold\"})\n",
        "fig.show()"
      ],
      "metadata": {
        "id": "iS0RTXNf6sfb",
        "outputId": "e7b9c0a8-c093-4dab-d919-c958027b5489",
        "colab": {
          "base_uri": "https://localhost:8080/",
          "height": 542
        }
      },
      "execution_count": 23,
      "outputs": [
        {
          "output_type": "display_data",
          "data": {
            "text/html": [
              "<html>\n",
              "<head><meta charset=\"utf-8\" /></head>\n",
              "<body>\n",
              "    <div>            <script src=\"https://cdnjs.cloudflare.com/ajax/libs/mathjax/2.7.5/MathJax.js?config=TeX-AMS-MML_SVG\"></script><script type=\"text/javascript\">if (window.MathJax && window.MathJax.Hub && window.MathJax.Hub.Config) {window.MathJax.Hub.Config({SVG: {font: \"STIX-Web\"}});}</script>                <script type=\"text/javascript\">window.PlotlyConfig = {MathJaxConfig: 'local'};</script>\n",
              "        <script charset=\"utf-8\" src=\"https://cdn.plot.ly/plotly-2.35.2.min.js\"></script>                <div id=\"9604c714-f8c3-43f6-a8ba-ec4739327b24\" class=\"plotly-graph-div\" style=\"height:525px; width:100%;\"></div>            <script type=\"text/javascript\">                                    window.PLOTLYENV=window.PLOTLYENV || {};                                    if (document.getElementById(\"9604c714-f8c3-43f6-a8ba-ec4739327b24\")) {                    Plotly.newPlot(                        \"9604c714-f8c3-43f6-a8ba-ec4739327b24\",                        [{\"alignmentgroup\":\"True\",\"hovertemplate\":\"Alcohol Types=%{x}\\u003cbr\\u003e52-week Velocity=%{y}\\u003cextra\\u003e\\u003c\\u002fextra\\u003e\",\"legendgroup\":\"Beer\",\"marker\":{\"color\":\"#636efa\"},\"name\":\"Beer\",\"notched\":false,\"offsetgroup\":\"Beer\",\"orientation\":\"v\",\"showlegend\":true,\"x\":[\"Beer\",\"Beer\"],\"x0\":\" \",\"xaxis\":\"x\",\"y\":[11291,193],\"y0\":\" \",\"yaxis\":\"y\",\"type\":\"box\"},{\"alignmentgroup\":\"True\",\"hovertemplate\":\"Alcohol Types=%{x}\\u003cbr\\u003e52-week Velocity=%{y}\\u003cextra\\u003e\\u003c\\u002fextra\\u003e\",\"legendgroup\":\"Corona\",\"marker\":{\"color\":\"#EF553B\"},\"name\":\"Corona\",\"notched\":false,\"offsetgroup\":\"Corona\",\"orientation\":\"v\",\"showlegend\":true,\"x\":[\"Corona\",\"Corona\"],\"x0\":\" \",\"xaxis\":\"x\",\"y\":[383736,4964],\"y0\":\" \",\"yaxis\":\"y\",\"type\":\"box\"},{\"alignmentgroup\":\"True\",\"hovertemplate\":\"Alcohol Types=%{x}\\u003cbr\\u003e52-week Velocity=%{y}\\u003cextra\\u003e\\u003c\\u002fextra\\u003e\",\"legendgroup\":\"Tequila\",\"marker\":{\"color\":\"#00cc96\"},\"name\":\"Tequila\",\"notched\":false,\"offsetgroup\":\"Tequila\",\"orientation\":\"v\",\"showlegend\":true,\"x\":[\"Tequila\",\"Tequila\"],\"x0\":\" \",\"xaxis\":\"x\",\"y\":[26488,423],\"y0\":\" \",\"yaxis\":\"y\",\"type\":\"box\"},{\"alignmentgroup\":\"True\",\"hovertemplate\":\"Alcohol Types=%{x}\\u003cbr\\u003e52-week Velocity=%{y}\\u003cextra\\u003e\\u003c\\u002fextra\\u003e\",\"legendgroup\":\"Vodka\",\"marker\":{\"color\":\"#ab63fa\"},\"name\":\"Vodka\",\"notched\":false,\"offsetgroup\":\"Vodka\",\"orientation\":\"v\",\"showlegend\":true,\"x\":[\"Vodka\",\"Vodka\"],\"x0\":\" \",\"xaxis\":\"x\",\"y\":[96939,905],\"y0\":\" \",\"yaxis\":\"y\",\"type\":\"box\"},{\"alignmentgroup\":\"True\",\"hovertemplate\":\"Alcohol Types=%{x}\\u003cbr\\u003e52-week Velocity=%{y}\\u003cextra\\u003e\\u003c\\u002fextra\\u003e\",\"legendgroup\":\"Whiskey\",\"marker\":{\"color\":\"#FFA15A\"},\"name\":\"Whiskey\",\"notched\":false,\"offsetgroup\":\"Whiskey\",\"orientation\":\"v\",\"showlegend\":true,\"x\":[\"Whiskey\",\"Whiskey\"],\"x0\":\" \",\"xaxis\":\"x\",\"y\":[7500,71],\"y0\":\" \",\"yaxis\":\"y\",\"type\":\"box\"}],                        {\"template\":{\"data\":{\"histogram2dcontour\":[{\"type\":\"histogram2dcontour\",\"colorbar\":{\"outlinewidth\":0,\"ticks\":\"\"},\"colorscale\":[[0.0,\"#0d0887\"],[0.1111111111111111,\"#46039f\"],[0.2222222222222222,\"#7201a8\"],[0.3333333333333333,\"#9c179e\"],[0.4444444444444444,\"#bd3786\"],[0.5555555555555556,\"#d8576b\"],[0.6666666666666666,\"#ed7953\"],[0.7777777777777778,\"#fb9f3a\"],[0.8888888888888888,\"#fdca26\"],[1.0,\"#f0f921\"]]}],\"choropleth\":[{\"type\":\"choropleth\",\"colorbar\":{\"outlinewidth\":0,\"ticks\":\"\"}}],\"histogram2d\":[{\"type\":\"histogram2d\",\"colorbar\":{\"outlinewidth\":0,\"ticks\":\"\"},\"colorscale\":[[0.0,\"#0d0887\"],[0.1111111111111111,\"#46039f\"],[0.2222222222222222,\"#7201a8\"],[0.3333333333333333,\"#9c179e\"],[0.4444444444444444,\"#bd3786\"],[0.5555555555555556,\"#d8576b\"],[0.6666666666666666,\"#ed7953\"],[0.7777777777777778,\"#fb9f3a\"],[0.8888888888888888,\"#fdca26\"],[1.0,\"#f0f921\"]]}],\"heatmap\":[{\"type\":\"heatmap\",\"colorbar\":{\"outlinewidth\":0,\"ticks\":\"\"},\"colorscale\":[[0.0,\"#0d0887\"],[0.1111111111111111,\"#46039f\"],[0.2222222222222222,\"#7201a8\"],[0.3333333333333333,\"#9c179e\"],[0.4444444444444444,\"#bd3786\"],[0.5555555555555556,\"#d8576b\"],[0.6666666666666666,\"#ed7953\"],[0.7777777777777778,\"#fb9f3a\"],[0.8888888888888888,\"#fdca26\"],[1.0,\"#f0f921\"]]}],\"heatmapgl\":[{\"type\":\"heatmapgl\",\"colorbar\":{\"outlinewidth\":0,\"ticks\":\"\"},\"colorscale\":[[0.0,\"#0d0887\"],[0.1111111111111111,\"#46039f\"],[0.2222222222222222,\"#7201a8\"],[0.3333333333333333,\"#9c179e\"],[0.4444444444444444,\"#bd3786\"],[0.5555555555555556,\"#d8576b\"],[0.6666666666666666,\"#ed7953\"],[0.7777777777777778,\"#fb9f3a\"],[0.8888888888888888,\"#fdca26\"],[1.0,\"#f0f921\"]]}],\"contourcarpet\":[{\"type\":\"contourcarpet\",\"colorbar\":{\"outlinewidth\":0,\"ticks\":\"\"}}],\"contour\":[{\"type\":\"contour\",\"colorbar\":{\"outlinewidth\":0,\"ticks\":\"\"},\"colorscale\":[[0.0,\"#0d0887\"],[0.1111111111111111,\"#46039f\"],[0.2222222222222222,\"#7201a8\"],[0.3333333333333333,\"#9c179e\"],[0.4444444444444444,\"#bd3786\"],[0.5555555555555556,\"#d8576b\"],[0.6666666666666666,\"#ed7953\"],[0.7777777777777778,\"#fb9f3a\"],[0.8888888888888888,\"#fdca26\"],[1.0,\"#f0f921\"]]}],\"surface\":[{\"type\":\"surface\",\"colorbar\":{\"outlinewidth\":0,\"ticks\":\"\"},\"colorscale\":[[0.0,\"#0d0887\"],[0.1111111111111111,\"#46039f\"],[0.2222222222222222,\"#7201a8\"],[0.3333333333333333,\"#9c179e\"],[0.4444444444444444,\"#bd3786\"],[0.5555555555555556,\"#d8576b\"],[0.6666666666666666,\"#ed7953\"],[0.7777777777777778,\"#fb9f3a\"],[0.8888888888888888,\"#fdca26\"],[1.0,\"#f0f921\"]]}],\"mesh3d\":[{\"type\":\"mesh3d\",\"colorbar\":{\"outlinewidth\":0,\"ticks\":\"\"}}],\"scatter\":[{\"fillpattern\":{\"fillmode\":\"overlay\",\"size\":10,\"solidity\":0.2},\"type\":\"scatter\"}],\"parcoords\":[{\"type\":\"parcoords\",\"line\":{\"colorbar\":{\"outlinewidth\":0,\"ticks\":\"\"}}}],\"scatterpolargl\":[{\"type\":\"scatterpolargl\",\"marker\":{\"colorbar\":{\"outlinewidth\":0,\"ticks\":\"\"}}}],\"bar\":[{\"error_x\":{\"color\":\"#2a3f5f\"},\"error_y\":{\"color\":\"#2a3f5f\"},\"marker\":{\"line\":{\"color\":\"#E5ECF6\",\"width\":0.5},\"pattern\":{\"fillmode\":\"overlay\",\"size\":10,\"solidity\":0.2}},\"type\":\"bar\"}],\"scattergeo\":[{\"type\":\"scattergeo\",\"marker\":{\"colorbar\":{\"outlinewidth\":0,\"ticks\":\"\"}}}],\"scatterpolar\":[{\"type\":\"scatterpolar\",\"marker\":{\"colorbar\":{\"outlinewidth\":0,\"ticks\":\"\"}}}],\"histogram\":[{\"marker\":{\"pattern\":{\"fillmode\":\"overlay\",\"size\":10,\"solidity\":0.2}},\"type\":\"histogram\"}],\"scattergl\":[{\"type\":\"scattergl\",\"marker\":{\"colorbar\":{\"outlinewidth\":0,\"ticks\":\"\"}}}],\"scatter3d\":[{\"type\":\"scatter3d\",\"line\":{\"colorbar\":{\"outlinewidth\":0,\"ticks\":\"\"}},\"marker\":{\"colorbar\":{\"outlinewidth\":0,\"ticks\":\"\"}}}],\"scattermapbox\":[{\"type\":\"scattermapbox\",\"marker\":{\"colorbar\":{\"outlinewidth\":0,\"ticks\":\"\"}}}],\"scatterternary\":[{\"type\":\"scatterternary\",\"marker\":{\"colorbar\":{\"outlinewidth\":0,\"ticks\":\"\"}}}],\"scattercarpet\":[{\"type\":\"scattercarpet\",\"marker\":{\"colorbar\":{\"outlinewidth\":0,\"ticks\":\"\"}}}],\"carpet\":[{\"aaxis\":{\"endlinecolor\":\"#2a3f5f\",\"gridcolor\":\"white\",\"linecolor\":\"white\",\"minorgridcolor\":\"white\",\"startlinecolor\":\"#2a3f5f\"},\"baxis\":{\"endlinecolor\":\"#2a3f5f\",\"gridcolor\":\"white\",\"linecolor\":\"white\",\"minorgridcolor\":\"white\",\"startlinecolor\":\"#2a3f5f\"},\"type\":\"carpet\"}],\"table\":[{\"cells\":{\"fill\":{\"color\":\"#EBF0F8\"},\"line\":{\"color\":\"white\"}},\"header\":{\"fill\":{\"color\":\"#C8D4E3\"},\"line\":{\"color\":\"white\"}},\"type\":\"table\"}],\"barpolar\":[{\"marker\":{\"line\":{\"color\":\"#E5ECF6\",\"width\":0.5},\"pattern\":{\"fillmode\":\"overlay\",\"size\":10,\"solidity\":0.2}},\"type\":\"barpolar\"}],\"pie\":[{\"automargin\":true,\"type\":\"pie\"}]},\"layout\":{\"autotypenumbers\":\"strict\",\"colorway\":[\"#636efa\",\"#EF553B\",\"#00cc96\",\"#ab63fa\",\"#FFA15A\",\"#19d3f3\",\"#FF6692\",\"#B6E880\",\"#FF97FF\",\"#FECB52\"],\"font\":{\"color\":\"#2a3f5f\"},\"hovermode\":\"closest\",\"hoverlabel\":{\"align\":\"left\"},\"paper_bgcolor\":\"white\",\"plot_bgcolor\":\"#E5ECF6\",\"polar\":{\"bgcolor\":\"#E5ECF6\",\"angularaxis\":{\"gridcolor\":\"white\",\"linecolor\":\"white\",\"ticks\":\"\"},\"radialaxis\":{\"gridcolor\":\"white\",\"linecolor\":\"white\",\"ticks\":\"\"}},\"ternary\":{\"bgcolor\":\"#E5ECF6\",\"aaxis\":{\"gridcolor\":\"white\",\"linecolor\":\"white\",\"ticks\":\"\"},\"baxis\":{\"gridcolor\":\"white\",\"linecolor\":\"white\",\"ticks\":\"\"},\"caxis\":{\"gridcolor\":\"white\",\"linecolor\":\"white\",\"ticks\":\"\"}},\"coloraxis\":{\"colorbar\":{\"outlinewidth\":0,\"ticks\":\"\"}},\"colorscale\":{\"sequential\":[[0.0,\"#0d0887\"],[0.1111111111111111,\"#46039f\"],[0.2222222222222222,\"#7201a8\"],[0.3333333333333333,\"#9c179e\"],[0.4444444444444444,\"#bd3786\"],[0.5555555555555556,\"#d8576b\"],[0.6666666666666666,\"#ed7953\"],[0.7777777777777778,\"#fb9f3a\"],[0.8888888888888888,\"#fdca26\"],[1.0,\"#f0f921\"]],\"sequentialminus\":[[0.0,\"#0d0887\"],[0.1111111111111111,\"#46039f\"],[0.2222222222222222,\"#7201a8\"],[0.3333333333333333,\"#9c179e\"],[0.4444444444444444,\"#bd3786\"],[0.5555555555555556,\"#d8576b\"],[0.6666666666666666,\"#ed7953\"],[0.7777777777777778,\"#fb9f3a\"],[0.8888888888888888,\"#fdca26\"],[1.0,\"#f0f921\"]],\"diverging\":[[0,\"#8e0152\"],[0.1,\"#c51b7d\"],[0.2,\"#de77ae\"],[0.3,\"#f1b6da\"],[0.4,\"#fde0ef\"],[0.5,\"#f7f7f7\"],[0.6,\"#e6f5d0\"],[0.7,\"#b8e186\"],[0.8,\"#7fbc41\"],[0.9,\"#4d9221\"],[1,\"#276419\"]]},\"xaxis\":{\"gridcolor\":\"white\",\"linecolor\":\"white\",\"ticks\":\"\",\"title\":{\"standoff\":15},\"zerolinecolor\":\"white\",\"automargin\":true,\"zerolinewidth\":2},\"yaxis\":{\"gridcolor\":\"white\",\"linecolor\":\"white\",\"ticks\":\"\",\"title\":{\"standoff\":15},\"zerolinecolor\":\"white\",\"automargin\":true,\"zerolinewidth\":2},\"scene\":{\"xaxis\":{\"backgroundcolor\":\"#E5ECF6\",\"gridcolor\":\"white\",\"linecolor\":\"white\",\"showbackground\":true,\"ticks\":\"\",\"zerolinecolor\":\"white\",\"gridwidth\":2},\"yaxis\":{\"backgroundcolor\":\"#E5ECF6\",\"gridcolor\":\"white\",\"linecolor\":\"white\",\"showbackground\":true,\"ticks\":\"\",\"zerolinecolor\":\"white\",\"gridwidth\":2},\"zaxis\":{\"backgroundcolor\":\"#E5ECF6\",\"gridcolor\":\"white\",\"linecolor\":\"white\",\"showbackground\":true,\"ticks\":\"\",\"zerolinecolor\":\"white\",\"gridwidth\":2}},\"shapedefaults\":{\"line\":{\"color\":\"#2a3f5f\"}},\"annotationdefaults\":{\"arrowcolor\":\"#2a3f5f\",\"arrowhead\":0,\"arrowwidth\":1},\"geo\":{\"bgcolor\":\"white\",\"landcolor\":\"#E5ECF6\",\"subunitcolor\":\"white\",\"showland\":true,\"showlakes\":true,\"lakecolor\":\"white\"},\"title\":{\"x\":0.05},\"mapbox\":{\"style\":\"light\"}}},\"xaxis\":{\"anchor\":\"y\",\"domain\":[0.0,1.0],\"title\":{\"text\":\"Alcohol Types\"},\"categoryorder\":\"array\",\"categoryarray\":[\"Beer\",\"Corona\",\"Tequila\",\"Vodka\",\"Whiskey\"]},\"yaxis\":{\"anchor\":\"x\",\"domain\":[0.0,1.0],\"title\":{\"text\":\"52-week Velocity\"}},\"legend\":{\"title\":{\"text\":\"Alcohol Types\"},\"tracegroupgap\":0},\"title\":{\"text\":\"Total Units Sold Annually per Alcohol Type\"},\"boxmode\":\"overlay\"},                        {\"responsive\": true}                    ).then(function(){\n",
              "                            \n",
              "var gd = document.getElementById('9604c714-f8c3-43f6-a8ba-ec4739327b24');\n",
              "var x = new MutationObserver(function (mutations, observer) {{\n",
              "        var display = window.getComputedStyle(gd).display;\n",
              "        if (!display || display === 'none') {{\n",
              "            console.log([gd, 'removed!']);\n",
              "            Plotly.purge(gd);\n",
              "            observer.disconnect();\n",
              "        }}\n",
              "}});\n",
              "\n",
              "// Listen for the removal of the full notebook cells\n",
              "var notebookContainer = gd.closest('#notebook-container');\n",
              "if (notebookContainer) {{\n",
              "    x.observe(notebookContainer, {childList: true});\n",
              "}}\n",
              "\n",
              "// Listen for the clearing of the current output cell\n",
              "var outputEl = gd.closest('.output');\n",
              "if (outputEl) {{\n",
              "    x.observe(outputEl, {childList: true});\n",
              "}}\n",
              "\n",
              "                        })                };                            </script>        </div>\n",
              "</body>\n",
              "</html>"
            ]
          },
          "metadata": {}
        }
      ]
    },
    {
      "cell_type": "code",
      "source": [
        "five_week_sales = melted_sales_data.copy()\n",
        "\n",
        "five_week_sales['Week Number'] = five_week_sales['Week'].str.extract('Week (\\d+)').astype(int)\n",
        "\n",
        "five_week_sales['5-Week Group'] = ((five_week_sales['Week Number'] - 1) // 5) + 1\n",
        "\n",
        "grouped_sales = five_week_sales.groupby(['Description', '5-Week Group'])['Quantity Total'].mean().reset_index()\n",
        "\n",
        "grouped_sales.rename(columns={'Quantity Total': '5-Week Velocity'}, inplace=True)\n",
        "\n",
        "fig = px.box(grouped_sales,\n",
        "             x = \"Description\",\n",
        "             y = \"5-Week Velocity\",\n",
        "             color = \"Description\",\n",
        "             title = \"mean alcohol amount sold for every 5 weeks\"\n",
        "             )\n",
        "fig.show()\n",
        "std_dev_df = grouped_sales.groupby('Description')['5-Week Velocity'].std().reset_index()\n",
        "print(std_dev_df)\n",
        "\n"
      ],
      "metadata": {
        "id": "oauZ_49AIb91",
        "outputId": "d8eaff4b-fa2f-457f-92bf-d6c1e66fc32e",
        "colab": {
          "base_uri": "https://localhost:8080/",
          "height": 649
        }
      },
      "execution_count": 24,
      "outputs": [
        {
          "output_type": "display_data",
          "data": {
            "text/html": [
              "<html>\n",
              "<head><meta charset=\"utf-8\" /></head>\n",
              "<body>\n",
              "    <div>            <script src=\"https://cdnjs.cloudflare.com/ajax/libs/mathjax/2.7.5/MathJax.js?config=TeX-AMS-MML_SVG\"></script><script type=\"text/javascript\">if (window.MathJax && window.MathJax.Hub && window.MathJax.Hub.Config) {window.MathJax.Hub.Config({SVG: {font: \"STIX-Web\"}});}</script>                <script type=\"text/javascript\">window.PlotlyConfig = {MathJaxConfig: 'local'};</script>\n",
              "        <script charset=\"utf-8\" src=\"https://cdn.plot.ly/plotly-2.35.2.min.js\"></script>                <div id=\"45605aaa-8ab3-415f-bbb7-a3a51a659233\" class=\"plotly-graph-div\" style=\"height:525px; width:100%;\"></div>            <script type=\"text/javascript\">                                    window.PLOTLYENV=window.PLOTLYENV || {};                                    if (document.getElementById(\"45605aaa-8ab3-415f-bbb7-a3a51a659233\")) {                    Plotly.newPlot(                        \"45605aaa-8ab3-415f-bbb7-a3a51a659233\",                        [{\"alignmentgroup\":\"True\",\"hovertemplate\":\"Description=%{x}\\u003cbr\\u003e5-Week Velocity=%{y}\\u003cextra\\u003e\\u003c\\u002fextra\\u003e\",\"legendgroup\":\"Beer\",\"marker\":{\"color\":\"#636efa\"},\"name\":\"Beer\",\"notched\":false,\"offsetgroup\":\"Beer\",\"orientation\":\"v\",\"showlegend\":true,\"x\":[\"Beer\",\"Beer\",\"Beer\",\"Beer\",\"Beer\",\"Beer\",\"Beer\",\"Beer\",\"Beer\",\"Beer\",\"Beer\"],\"x0\":\" \",\"xaxis\":\"x\",\"y\":[15.366666666666667,16.383333333333333,17.316666666666666,20.6,18.283333333333335,14.233333333333333,16.5,25.1,18.216666666666665,16.933333333333334,20.77777777777778],\"y0\":\" \",\"yaxis\":\"y\",\"type\":\"box\"},{\"alignmentgroup\":\"True\",\"hovertemplate\":\"Description=%{x}\\u003cbr\\u003e5-Week Velocity=%{y}\\u003cextra\\u003e\\u003c\\u002fextra\\u003e\",\"legendgroup\":\"Corona\",\"marker\":{\"color\":\"#EF553B\"},\"name\":\"Corona\",\"notched\":false,\"offsetgroup\":\"Corona\",\"orientation\":\"v\",\"showlegend\":true,\"x\":[\"Corona\",\"Corona\",\"Corona\",\"Corona\",\"Corona\",\"Corona\",\"Corona\",\"Corona\",\"Corona\",\"Corona\",\"Corona\"],\"x0\":\" \",\"xaxis\":\"x\",\"y\":[15.02994652406417,16.381283422459894,18.002673796791445,19.144919786096256,22.603743315508023,21.8475935828877,19.737967914438503,20.1,20.793582887700534,21.332620320855614,21.4777183600713],\"y0\":\" \",\"yaxis\":\"y\",\"type\":\"box\"},{\"alignmentgroup\":\"True\",\"hovertemplate\":\"Description=%{x}\\u003cbr\\u003e5-Week Velocity=%{y}\\u003cextra\\u003e\\u003c\\u002fextra\\u003e\",\"legendgroup\":\"Tequila\",\"marker\":{\"color\":\"#00cc96\"},\"name\":\"Tequila\",\"notched\":false,\"offsetgroup\":\"Tequila\",\"orientation\":\"v\",\"showlegend\":true,\"x\":[\"Tequila\",\"Tequila\",\"Tequila\",\"Tequila\",\"Tequila\",\"Tequila\",\"Tequila\",\"Tequila\",\"Tequila\",\"Tequila\",\"Tequila\"],\"x0\":\" \",\"xaxis\":\"x\",\"y\":[10.125714285714286,13.325714285714286,12.56,13.697142857142858,18.18857142857143,16.37142857142857,15.04,14.102857142857143,14.56,16.228571428571428,15.961904761904762],\"y0\":\" \",\"yaxis\":\"y\",\"type\":\"box\"},{\"alignmentgroup\":\"True\",\"hovertemplate\":\"Description=%{x}\\u003cbr\\u003e5-Week Velocity=%{y}\\u003cextra\\u003e\\u003c\\u002fextra\\u003e\",\"legendgroup\":\"Vodka\",\"marker\":{\"color\":\"#ab63fa\"},\"name\":\"Vodka\",\"notched\":false,\"offsetgroup\":\"Vodka\",\"orientation\":\"v\",\"showlegend\":true,\"x\":[\"Vodka\",\"Vodka\",\"Vodka\",\"Vodka\",\"Vodka\",\"Vodka\",\"Vodka\",\"Vodka\",\"Vodka\",\"Vodka\",\"Vodka\"],\"x0\":\" \",\"xaxis\":\"x\",\"y\":[21.42222222222222,23.583333333333332,22.96388888888889,25.07777777777778,26.45,25.258333333333333,27.07777777777778,28.155555555555555,30.483333333333334,27.908333333333335,22.34722222222222],\"y0\":\" \",\"yaxis\":\"y\",\"type\":\"box\"},{\"alignmentgroup\":\"True\",\"hovertemplate\":\"Description=%{x}\\u003cbr\\u003e5-Week Velocity=%{y}\\u003cextra\\u003e\\u003c\\u002fextra\\u003e\",\"legendgroup\":\"Whiskey\",\"marker\":{\"color\":\"#FFA15A\"},\"name\":\"Whiskey\",\"notched\":false,\"offsetgroup\":\"Whiskey\",\"orientation\":\"v\",\"showlegend\":true,\"x\":[\"Whiskey\",\"Whiskey\",\"Whiskey\",\"Whiskey\",\"Whiskey\",\"Whiskey\",\"Whiskey\",\"Whiskey\",\"Whiskey\",\"Whiskey\",\"Whiskey\"],\"x0\":\" \",\"xaxis\":\"x\",\"y\":[17.057142857142857,18.114285714285714,22.0,19.02857142857143,24.0,22.914285714285715,23.885714285714286,18.714285714285715,18.771428571428572,20.4,19.047619047619047],\"y0\":\" \",\"yaxis\":\"y\",\"type\":\"box\"}],                        {\"template\":{\"data\":{\"histogram2dcontour\":[{\"type\":\"histogram2dcontour\",\"colorbar\":{\"outlinewidth\":0,\"ticks\":\"\"},\"colorscale\":[[0.0,\"#0d0887\"],[0.1111111111111111,\"#46039f\"],[0.2222222222222222,\"#7201a8\"],[0.3333333333333333,\"#9c179e\"],[0.4444444444444444,\"#bd3786\"],[0.5555555555555556,\"#d8576b\"],[0.6666666666666666,\"#ed7953\"],[0.7777777777777778,\"#fb9f3a\"],[0.8888888888888888,\"#fdca26\"],[1.0,\"#f0f921\"]]}],\"choropleth\":[{\"type\":\"choropleth\",\"colorbar\":{\"outlinewidth\":0,\"ticks\":\"\"}}],\"histogram2d\":[{\"type\":\"histogram2d\",\"colorbar\":{\"outlinewidth\":0,\"ticks\":\"\"},\"colorscale\":[[0.0,\"#0d0887\"],[0.1111111111111111,\"#46039f\"],[0.2222222222222222,\"#7201a8\"],[0.3333333333333333,\"#9c179e\"],[0.4444444444444444,\"#bd3786\"],[0.5555555555555556,\"#d8576b\"],[0.6666666666666666,\"#ed7953\"],[0.7777777777777778,\"#fb9f3a\"],[0.8888888888888888,\"#fdca26\"],[1.0,\"#f0f921\"]]}],\"heatmap\":[{\"type\":\"heatmap\",\"colorbar\":{\"outlinewidth\":0,\"ticks\":\"\"},\"colorscale\":[[0.0,\"#0d0887\"],[0.1111111111111111,\"#46039f\"],[0.2222222222222222,\"#7201a8\"],[0.3333333333333333,\"#9c179e\"],[0.4444444444444444,\"#bd3786\"],[0.5555555555555556,\"#d8576b\"],[0.6666666666666666,\"#ed7953\"],[0.7777777777777778,\"#fb9f3a\"],[0.8888888888888888,\"#fdca26\"],[1.0,\"#f0f921\"]]}],\"heatmapgl\":[{\"type\":\"heatmapgl\",\"colorbar\":{\"outlinewidth\":0,\"ticks\":\"\"},\"colorscale\":[[0.0,\"#0d0887\"],[0.1111111111111111,\"#46039f\"],[0.2222222222222222,\"#7201a8\"],[0.3333333333333333,\"#9c179e\"],[0.4444444444444444,\"#bd3786\"],[0.5555555555555556,\"#d8576b\"],[0.6666666666666666,\"#ed7953\"],[0.7777777777777778,\"#fb9f3a\"],[0.8888888888888888,\"#fdca26\"],[1.0,\"#f0f921\"]]}],\"contourcarpet\":[{\"type\":\"contourcarpet\",\"colorbar\":{\"outlinewidth\":0,\"ticks\":\"\"}}],\"contour\":[{\"type\":\"contour\",\"colorbar\":{\"outlinewidth\":0,\"ticks\":\"\"},\"colorscale\":[[0.0,\"#0d0887\"],[0.1111111111111111,\"#46039f\"],[0.2222222222222222,\"#7201a8\"],[0.3333333333333333,\"#9c179e\"],[0.4444444444444444,\"#bd3786\"],[0.5555555555555556,\"#d8576b\"],[0.6666666666666666,\"#ed7953\"],[0.7777777777777778,\"#fb9f3a\"],[0.8888888888888888,\"#fdca26\"],[1.0,\"#f0f921\"]]}],\"surface\":[{\"type\":\"surface\",\"colorbar\":{\"outlinewidth\":0,\"ticks\":\"\"},\"colorscale\":[[0.0,\"#0d0887\"],[0.1111111111111111,\"#46039f\"],[0.2222222222222222,\"#7201a8\"],[0.3333333333333333,\"#9c179e\"],[0.4444444444444444,\"#bd3786\"],[0.5555555555555556,\"#d8576b\"],[0.6666666666666666,\"#ed7953\"],[0.7777777777777778,\"#fb9f3a\"],[0.8888888888888888,\"#fdca26\"],[1.0,\"#f0f921\"]]}],\"mesh3d\":[{\"type\":\"mesh3d\",\"colorbar\":{\"outlinewidth\":0,\"ticks\":\"\"}}],\"scatter\":[{\"fillpattern\":{\"fillmode\":\"overlay\",\"size\":10,\"solidity\":0.2},\"type\":\"scatter\"}],\"parcoords\":[{\"type\":\"parcoords\",\"line\":{\"colorbar\":{\"outlinewidth\":0,\"ticks\":\"\"}}}],\"scatterpolargl\":[{\"type\":\"scatterpolargl\",\"marker\":{\"colorbar\":{\"outlinewidth\":0,\"ticks\":\"\"}}}],\"bar\":[{\"error_x\":{\"color\":\"#2a3f5f\"},\"error_y\":{\"color\":\"#2a3f5f\"},\"marker\":{\"line\":{\"color\":\"#E5ECF6\",\"width\":0.5},\"pattern\":{\"fillmode\":\"overlay\",\"size\":10,\"solidity\":0.2}},\"type\":\"bar\"}],\"scattergeo\":[{\"type\":\"scattergeo\",\"marker\":{\"colorbar\":{\"outlinewidth\":0,\"ticks\":\"\"}}}],\"scatterpolar\":[{\"type\":\"scatterpolar\",\"marker\":{\"colorbar\":{\"outlinewidth\":0,\"ticks\":\"\"}}}],\"histogram\":[{\"marker\":{\"pattern\":{\"fillmode\":\"overlay\",\"size\":10,\"solidity\":0.2}},\"type\":\"histogram\"}],\"scattergl\":[{\"type\":\"scattergl\",\"marker\":{\"colorbar\":{\"outlinewidth\":0,\"ticks\":\"\"}}}],\"scatter3d\":[{\"type\":\"scatter3d\",\"line\":{\"colorbar\":{\"outlinewidth\":0,\"ticks\":\"\"}},\"marker\":{\"colorbar\":{\"outlinewidth\":0,\"ticks\":\"\"}}}],\"scattermapbox\":[{\"type\":\"scattermapbox\",\"marker\":{\"colorbar\":{\"outlinewidth\":0,\"ticks\":\"\"}}}],\"scatterternary\":[{\"type\":\"scatterternary\",\"marker\":{\"colorbar\":{\"outlinewidth\":0,\"ticks\":\"\"}}}],\"scattercarpet\":[{\"type\":\"scattercarpet\",\"marker\":{\"colorbar\":{\"outlinewidth\":0,\"ticks\":\"\"}}}],\"carpet\":[{\"aaxis\":{\"endlinecolor\":\"#2a3f5f\",\"gridcolor\":\"white\",\"linecolor\":\"white\",\"minorgridcolor\":\"white\",\"startlinecolor\":\"#2a3f5f\"},\"baxis\":{\"endlinecolor\":\"#2a3f5f\",\"gridcolor\":\"white\",\"linecolor\":\"white\",\"minorgridcolor\":\"white\",\"startlinecolor\":\"#2a3f5f\"},\"type\":\"carpet\"}],\"table\":[{\"cells\":{\"fill\":{\"color\":\"#EBF0F8\"},\"line\":{\"color\":\"white\"}},\"header\":{\"fill\":{\"color\":\"#C8D4E3\"},\"line\":{\"color\":\"white\"}},\"type\":\"table\"}],\"barpolar\":[{\"marker\":{\"line\":{\"color\":\"#E5ECF6\",\"width\":0.5},\"pattern\":{\"fillmode\":\"overlay\",\"size\":10,\"solidity\":0.2}},\"type\":\"barpolar\"}],\"pie\":[{\"automargin\":true,\"type\":\"pie\"}]},\"layout\":{\"autotypenumbers\":\"strict\",\"colorway\":[\"#636efa\",\"#EF553B\",\"#00cc96\",\"#ab63fa\",\"#FFA15A\",\"#19d3f3\",\"#FF6692\",\"#B6E880\",\"#FF97FF\",\"#FECB52\"],\"font\":{\"color\":\"#2a3f5f\"},\"hovermode\":\"closest\",\"hoverlabel\":{\"align\":\"left\"},\"paper_bgcolor\":\"white\",\"plot_bgcolor\":\"#E5ECF6\",\"polar\":{\"bgcolor\":\"#E5ECF6\",\"angularaxis\":{\"gridcolor\":\"white\",\"linecolor\":\"white\",\"ticks\":\"\"},\"radialaxis\":{\"gridcolor\":\"white\",\"linecolor\":\"white\",\"ticks\":\"\"}},\"ternary\":{\"bgcolor\":\"#E5ECF6\",\"aaxis\":{\"gridcolor\":\"white\",\"linecolor\":\"white\",\"ticks\":\"\"},\"baxis\":{\"gridcolor\":\"white\",\"linecolor\":\"white\",\"ticks\":\"\"},\"caxis\":{\"gridcolor\":\"white\",\"linecolor\":\"white\",\"ticks\":\"\"}},\"coloraxis\":{\"colorbar\":{\"outlinewidth\":0,\"ticks\":\"\"}},\"colorscale\":{\"sequential\":[[0.0,\"#0d0887\"],[0.1111111111111111,\"#46039f\"],[0.2222222222222222,\"#7201a8\"],[0.3333333333333333,\"#9c179e\"],[0.4444444444444444,\"#bd3786\"],[0.5555555555555556,\"#d8576b\"],[0.6666666666666666,\"#ed7953\"],[0.7777777777777778,\"#fb9f3a\"],[0.8888888888888888,\"#fdca26\"],[1.0,\"#f0f921\"]],\"sequentialminus\":[[0.0,\"#0d0887\"],[0.1111111111111111,\"#46039f\"],[0.2222222222222222,\"#7201a8\"],[0.3333333333333333,\"#9c179e\"],[0.4444444444444444,\"#bd3786\"],[0.5555555555555556,\"#d8576b\"],[0.6666666666666666,\"#ed7953\"],[0.7777777777777778,\"#fb9f3a\"],[0.8888888888888888,\"#fdca26\"],[1.0,\"#f0f921\"]],\"diverging\":[[0,\"#8e0152\"],[0.1,\"#c51b7d\"],[0.2,\"#de77ae\"],[0.3,\"#f1b6da\"],[0.4,\"#fde0ef\"],[0.5,\"#f7f7f7\"],[0.6,\"#e6f5d0\"],[0.7,\"#b8e186\"],[0.8,\"#7fbc41\"],[0.9,\"#4d9221\"],[1,\"#276419\"]]},\"xaxis\":{\"gridcolor\":\"white\",\"linecolor\":\"white\",\"ticks\":\"\",\"title\":{\"standoff\":15},\"zerolinecolor\":\"white\",\"automargin\":true,\"zerolinewidth\":2},\"yaxis\":{\"gridcolor\":\"white\",\"linecolor\":\"white\",\"ticks\":\"\",\"title\":{\"standoff\":15},\"zerolinecolor\":\"white\",\"automargin\":true,\"zerolinewidth\":2},\"scene\":{\"xaxis\":{\"backgroundcolor\":\"#E5ECF6\",\"gridcolor\":\"white\",\"linecolor\":\"white\",\"showbackground\":true,\"ticks\":\"\",\"zerolinecolor\":\"white\",\"gridwidth\":2},\"yaxis\":{\"backgroundcolor\":\"#E5ECF6\",\"gridcolor\":\"white\",\"linecolor\":\"white\",\"showbackground\":true,\"ticks\":\"\",\"zerolinecolor\":\"white\",\"gridwidth\":2},\"zaxis\":{\"backgroundcolor\":\"#E5ECF6\",\"gridcolor\":\"white\",\"linecolor\":\"white\",\"showbackground\":true,\"ticks\":\"\",\"zerolinecolor\":\"white\",\"gridwidth\":2}},\"shapedefaults\":{\"line\":{\"color\":\"#2a3f5f\"}},\"annotationdefaults\":{\"arrowcolor\":\"#2a3f5f\",\"arrowhead\":0,\"arrowwidth\":1},\"geo\":{\"bgcolor\":\"white\",\"landcolor\":\"#E5ECF6\",\"subunitcolor\":\"white\",\"showland\":true,\"showlakes\":true,\"lakecolor\":\"white\"},\"title\":{\"x\":0.05},\"mapbox\":{\"style\":\"light\"}}},\"xaxis\":{\"anchor\":\"y\",\"domain\":[0.0,1.0],\"title\":{\"text\":\"Description\"},\"categoryorder\":\"array\",\"categoryarray\":[\"Beer\",\"Corona\",\"Tequila\",\"Vodka\",\"Whiskey\"]},\"yaxis\":{\"anchor\":\"x\",\"domain\":[0.0,1.0],\"title\":{\"text\":\"5-Week Velocity\"}},\"legend\":{\"title\":{\"text\":\"Description\"},\"tracegroupgap\":0},\"title\":{\"text\":\"mean alcohol amount sold for every 5 weeks\"},\"boxmode\":\"overlay\"},                        {\"responsive\": true}                    ).then(function(){\n",
              "                            \n",
              "var gd = document.getElementById('45605aaa-8ab3-415f-bbb7-a3a51a659233');\n",
              "var x = new MutationObserver(function (mutations, observer) {{\n",
              "        var display = window.getComputedStyle(gd).display;\n",
              "        if (!display || display === 'none') {{\n",
              "            console.log([gd, 'removed!']);\n",
              "            Plotly.purge(gd);\n",
              "            observer.disconnect();\n",
              "        }}\n",
              "}});\n",
              "\n",
              "// Listen for the removal of the full notebook cells\n",
              "var notebookContainer = gd.closest('#notebook-container');\n",
              "if (notebookContainer) {{\n",
              "    x.observe(notebookContainer, {childList: true});\n",
              "}}\n",
              "\n",
              "// Listen for the clearing of the current output cell\n",
              "var outputEl = gd.closest('.output');\n",
              "if (outputEl) {{\n",
              "    x.observe(outputEl, {childList: true});\n",
              "}}\n",
              "\n",
              "                        })                };                            </script>        </div>\n",
              "</body>\n",
              "</html>"
            ]
          },
          "metadata": {}
        },
        {
          "output_type": "stream",
          "name": "stdout",
          "text": [
            "  Description  5-Week Velocity\n",
            "0        Beer         3.038711\n",
            "1      Corona         2.371365\n",
            "2     Tequila         2.180998\n",
            "3       Vodka         2.792548\n",
            "4     Whiskey         2.440796\n"
          ]
        }
      ]
    },
    {
      "cell_type": "code",
      "source": [
        "ten_week_sales = melted_sales_data.copy()\n",
        "\n",
        "ten_week_sales['Week Number'] = ten_week_sales['Week'].str.extract('Week (\\d+)').astype(int)\n",
        "\n",
        "ten_week_sales['10-Week Group'] = ((ten_week_sales['Week Number'] - 1) // 10) + 1\n",
        "\n",
        "grouped_sales = ten_week_sales.groupby(['Description', '10-Week Group'])['Quantity Total'].mean().reset_index()\n",
        "\n",
        "grouped_sales.rename(columns={'Quantity Total': '10-Week Velocity'}, inplace=True)\n",
        "\n",
        "fig = px.box(grouped_sales,\n",
        "             x = \"Description\",\n",
        "             y = \"10-Week Velocity\",\n",
        "             color = \"Description\",\n",
        "             title = \"mean alcohol amount sold for every 10 weeks\"\n",
        "             )\n",
        "fig.show()\n",
        "std_dev_df = grouped_sales.groupby('Description')['10-Week Velocity'].std().reset_index()\n",
        "print(std_dev_df)"
      ],
      "metadata": {
        "id": "PWlvhfMjFsVK",
        "outputId": "d4af93ae-b4a0-4e9b-db58-13e270bbce22",
        "colab": {
          "base_uri": "https://localhost:8080/",
          "height": 649
        }
      },
      "execution_count": 25,
      "outputs": [
        {
          "output_type": "display_data",
          "data": {
            "text/html": [
              "<html>\n",
              "<head><meta charset=\"utf-8\" /></head>\n",
              "<body>\n",
              "    <div>            <script src=\"https://cdnjs.cloudflare.com/ajax/libs/mathjax/2.7.5/MathJax.js?config=TeX-AMS-MML_SVG\"></script><script type=\"text/javascript\">if (window.MathJax && window.MathJax.Hub && window.MathJax.Hub.Config) {window.MathJax.Hub.Config({SVG: {font: \"STIX-Web\"}});}</script>                <script type=\"text/javascript\">window.PlotlyConfig = {MathJaxConfig: 'local'};</script>\n",
              "        <script charset=\"utf-8\" src=\"https://cdn.plot.ly/plotly-2.35.2.min.js\"></script>                <div id=\"ac140db3-6aa7-4335-8f93-e6e5fff2983f\" class=\"plotly-graph-div\" style=\"height:525px; width:100%;\"></div>            <script type=\"text/javascript\">                                    window.PLOTLYENV=window.PLOTLYENV || {};                                    if (document.getElementById(\"ac140db3-6aa7-4335-8f93-e6e5fff2983f\")) {                    Plotly.newPlot(                        \"ac140db3-6aa7-4335-8f93-e6e5fff2983f\",                        [{\"alignmentgroup\":\"True\",\"hovertemplate\":\"Description=%{x}\\u003cbr\\u003e10-Week Velocity=%{y}\\u003cextra\\u003e\\u003c\\u002fextra\\u003e\",\"legendgroup\":\"Beer\",\"marker\":{\"color\":\"#636efa\"},\"name\":\"Beer\",\"notched\":false,\"offsetgroup\":\"Beer\",\"orientation\":\"v\",\"showlegend\":true,\"x\":[\"Beer\",\"Beer\",\"Beer\",\"Beer\",\"Beer\",\"Beer\"],\"x0\":\" \",\"xaxis\":\"x\",\"y\":[15.875,18.958333333333332,16.258333333333333,20.8,17.575,20.77777777777778],\"y0\":\" \",\"yaxis\":\"y\",\"type\":\"box\"},{\"alignmentgroup\":\"True\",\"hovertemplate\":\"Description=%{x}\\u003cbr\\u003e10-Week Velocity=%{y}\\u003cextra\\u003e\\u003c\\u002fextra\\u003e\",\"legendgroup\":\"Corona\",\"marker\":{\"color\":\"#EF553B\"},\"name\":\"Corona\",\"notched\":false,\"offsetgroup\":\"Corona\",\"orientation\":\"v\",\"showlegend\":true,\"x\":[\"Corona\",\"Corona\",\"Corona\",\"Corona\",\"Corona\",\"Corona\"],\"x0\":\" \",\"xaxis\":\"x\",\"y\":[15.705614973262032,18.57379679144385,22.22566844919786,19.91898395721925,21.063101604278074,21.4777183600713],\"y0\":\" \",\"yaxis\":\"y\",\"type\":\"box\"},{\"alignmentgroup\":\"True\",\"hovertemplate\":\"Description=%{x}\\u003cbr\\u003e10-Week Velocity=%{y}\\u003cextra\\u003e\\u003c\\u002fextra\\u003e\",\"legendgroup\":\"Tequila\",\"marker\":{\"color\":\"#00cc96\"},\"name\":\"Tequila\",\"notched\":false,\"offsetgroup\":\"Tequila\",\"orientation\":\"v\",\"showlegend\":true,\"x\":[\"Tequila\",\"Tequila\",\"Tequila\",\"Tequila\",\"Tequila\",\"Tequila\"],\"x0\":\" \",\"xaxis\":\"x\",\"y\":[11.725714285714286,13.128571428571428,17.28,14.571428571428571,15.394285714285715,15.961904761904762],\"y0\":\" \",\"yaxis\":\"y\",\"type\":\"box\"},{\"alignmentgroup\":\"True\",\"hovertemplate\":\"Description=%{x}\\u003cbr\\u003e10-Week Velocity=%{y}\\u003cextra\\u003e\\u003c\\u002fextra\\u003e\",\"legendgroup\":\"Vodka\",\"marker\":{\"color\":\"#ab63fa\"},\"name\":\"Vodka\",\"notched\":false,\"offsetgroup\":\"Vodka\",\"orientation\":\"v\",\"showlegend\":true,\"x\":[\"Vodka\",\"Vodka\",\"Vodka\",\"Vodka\",\"Vodka\",\"Vodka\"],\"x0\":\" \",\"xaxis\":\"x\",\"y\":[22.502777777777776,24.020833333333332,25.854166666666668,27.616666666666667,29.195833333333333,22.34722222222222],\"y0\":\" \",\"yaxis\":\"y\",\"type\":\"box\"},{\"alignmentgroup\":\"True\",\"hovertemplate\":\"Description=%{x}\\u003cbr\\u003e10-Week Velocity=%{y}\\u003cextra\\u003e\\u003c\\u002fextra\\u003e\",\"legendgroup\":\"Whiskey\",\"marker\":{\"color\":\"#FFA15A\"},\"name\":\"Whiskey\",\"notched\":false,\"offsetgroup\":\"Whiskey\",\"orientation\":\"v\",\"showlegend\":true,\"x\":[\"Whiskey\",\"Whiskey\",\"Whiskey\",\"Whiskey\",\"Whiskey\",\"Whiskey\"],\"x0\":\" \",\"xaxis\":\"x\",\"y\":[17.585714285714285,20.514285714285716,23.457142857142856,21.3,19.585714285714285,19.047619047619047],\"y0\":\" \",\"yaxis\":\"y\",\"type\":\"box\"}],                        {\"template\":{\"data\":{\"histogram2dcontour\":[{\"type\":\"histogram2dcontour\",\"colorbar\":{\"outlinewidth\":0,\"ticks\":\"\"},\"colorscale\":[[0.0,\"#0d0887\"],[0.1111111111111111,\"#46039f\"],[0.2222222222222222,\"#7201a8\"],[0.3333333333333333,\"#9c179e\"],[0.4444444444444444,\"#bd3786\"],[0.5555555555555556,\"#d8576b\"],[0.6666666666666666,\"#ed7953\"],[0.7777777777777778,\"#fb9f3a\"],[0.8888888888888888,\"#fdca26\"],[1.0,\"#f0f921\"]]}],\"choropleth\":[{\"type\":\"choropleth\",\"colorbar\":{\"outlinewidth\":0,\"ticks\":\"\"}}],\"histogram2d\":[{\"type\":\"histogram2d\",\"colorbar\":{\"outlinewidth\":0,\"ticks\":\"\"},\"colorscale\":[[0.0,\"#0d0887\"],[0.1111111111111111,\"#46039f\"],[0.2222222222222222,\"#7201a8\"],[0.3333333333333333,\"#9c179e\"],[0.4444444444444444,\"#bd3786\"],[0.5555555555555556,\"#d8576b\"],[0.6666666666666666,\"#ed7953\"],[0.7777777777777778,\"#fb9f3a\"],[0.8888888888888888,\"#fdca26\"],[1.0,\"#f0f921\"]]}],\"heatmap\":[{\"type\":\"heatmap\",\"colorbar\":{\"outlinewidth\":0,\"ticks\":\"\"},\"colorscale\":[[0.0,\"#0d0887\"],[0.1111111111111111,\"#46039f\"],[0.2222222222222222,\"#7201a8\"],[0.3333333333333333,\"#9c179e\"],[0.4444444444444444,\"#bd3786\"],[0.5555555555555556,\"#d8576b\"],[0.6666666666666666,\"#ed7953\"],[0.7777777777777778,\"#fb9f3a\"],[0.8888888888888888,\"#fdca26\"],[1.0,\"#f0f921\"]]}],\"heatmapgl\":[{\"type\":\"heatmapgl\",\"colorbar\":{\"outlinewidth\":0,\"ticks\":\"\"},\"colorscale\":[[0.0,\"#0d0887\"],[0.1111111111111111,\"#46039f\"],[0.2222222222222222,\"#7201a8\"],[0.3333333333333333,\"#9c179e\"],[0.4444444444444444,\"#bd3786\"],[0.5555555555555556,\"#d8576b\"],[0.6666666666666666,\"#ed7953\"],[0.7777777777777778,\"#fb9f3a\"],[0.8888888888888888,\"#fdca26\"],[1.0,\"#f0f921\"]]}],\"contourcarpet\":[{\"type\":\"contourcarpet\",\"colorbar\":{\"outlinewidth\":0,\"ticks\":\"\"}}],\"contour\":[{\"type\":\"contour\",\"colorbar\":{\"outlinewidth\":0,\"ticks\":\"\"},\"colorscale\":[[0.0,\"#0d0887\"],[0.1111111111111111,\"#46039f\"],[0.2222222222222222,\"#7201a8\"],[0.3333333333333333,\"#9c179e\"],[0.4444444444444444,\"#bd3786\"],[0.5555555555555556,\"#d8576b\"],[0.6666666666666666,\"#ed7953\"],[0.7777777777777778,\"#fb9f3a\"],[0.8888888888888888,\"#fdca26\"],[1.0,\"#f0f921\"]]}],\"surface\":[{\"type\":\"surface\",\"colorbar\":{\"outlinewidth\":0,\"ticks\":\"\"},\"colorscale\":[[0.0,\"#0d0887\"],[0.1111111111111111,\"#46039f\"],[0.2222222222222222,\"#7201a8\"],[0.3333333333333333,\"#9c179e\"],[0.4444444444444444,\"#bd3786\"],[0.5555555555555556,\"#d8576b\"],[0.6666666666666666,\"#ed7953\"],[0.7777777777777778,\"#fb9f3a\"],[0.8888888888888888,\"#fdca26\"],[1.0,\"#f0f921\"]]}],\"mesh3d\":[{\"type\":\"mesh3d\",\"colorbar\":{\"outlinewidth\":0,\"ticks\":\"\"}}],\"scatter\":[{\"fillpattern\":{\"fillmode\":\"overlay\",\"size\":10,\"solidity\":0.2},\"type\":\"scatter\"}],\"parcoords\":[{\"type\":\"parcoords\",\"line\":{\"colorbar\":{\"outlinewidth\":0,\"ticks\":\"\"}}}],\"scatterpolargl\":[{\"type\":\"scatterpolargl\",\"marker\":{\"colorbar\":{\"outlinewidth\":0,\"ticks\":\"\"}}}],\"bar\":[{\"error_x\":{\"color\":\"#2a3f5f\"},\"error_y\":{\"color\":\"#2a3f5f\"},\"marker\":{\"line\":{\"color\":\"#E5ECF6\",\"width\":0.5},\"pattern\":{\"fillmode\":\"overlay\",\"size\":10,\"solidity\":0.2}},\"type\":\"bar\"}],\"scattergeo\":[{\"type\":\"scattergeo\",\"marker\":{\"colorbar\":{\"outlinewidth\":0,\"ticks\":\"\"}}}],\"scatterpolar\":[{\"type\":\"scatterpolar\",\"marker\":{\"colorbar\":{\"outlinewidth\":0,\"ticks\":\"\"}}}],\"histogram\":[{\"marker\":{\"pattern\":{\"fillmode\":\"overlay\",\"size\":10,\"solidity\":0.2}},\"type\":\"histogram\"}],\"scattergl\":[{\"type\":\"scattergl\",\"marker\":{\"colorbar\":{\"outlinewidth\":0,\"ticks\":\"\"}}}],\"scatter3d\":[{\"type\":\"scatter3d\",\"line\":{\"colorbar\":{\"outlinewidth\":0,\"ticks\":\"\"}},\"marker\":{\"colorbar\":{\"outlinewidth\":0,\"ticks\":\"\"}}}],\"scattermapbox\":[{\"type\":\"scattermapbox\",\"marker\":{\"colorbar\":{\"outlinewidth\":0,\"ticks\":\"\"}}}],\"scatterternary\":[{\"type\":\"scatterternary\",\"marker\":{\"colorbar\":{\"outlinewidth\":0,\"ticks\":\"\"}}}],\"scattercarpet\":[{\"type\":\"scattercarpet\",\"marker\":{\"colorbar\":{\"outlinewidth\":0,\"ticks\":\"\"}}}],\"carpet\":[{\"aaxis\":{\"endlinecolor\":\"#2a3f5f\",\"gridcolor\":\"white\",\"linecolor\":\"white\",\"minorgridcolor\":\"white\",\"startlinecolor\":\"#2a3f5f\"},\"baxis\":{\"endlinecolor\":\"#2a3f5f\",\"gridcolor\":\"white\",\"linecolor\":\"white\",\"minorgridcolor\":\"white\",\"startlinecolor\":\"#2a3f5f\"},\"type\":\"carpet\"}],\"table\":[{\"cells\":{\"fill\":{\"color\":\"#EBF0F8\"},\"line\":{\"color\":\"white\"}},\"header\":{\"fill\":{\"color\":\"#C8D4E3\"},\"line\":{\"color\":\"white\"}},\"type\":\"table\"}],\"barpolar\":[{\"marker\":{\"line\":{\"color\":\"#E5ECF6\",\"width\":0.5},\"pattern\":{\"fillmode\":\"overlay\",\"size\":10,\"solidity\":0.2}},\"type\":\"barpolar\"}],\"pie\":[{\"automargin\":true,\"type\":\"pie\"}]},\"layout\":{\"autotypenumbers\":\"strict\",\"colorway\":[\"#636efa\",\"#EF553B\",\"#00cc96\",\"#ab63fa\",\"#FFA15A\",\"#19d3f3\",\"#FF6692\",\"#B6E880\",\"#FF97FF\",\"#FECB52\"],\"font\":{\"color\":\"#2a3f5f\"},\"hovermode\":\"closest\",\"hoverlabel\":{\"align\":\"left\"},\"paper_bgcolor\":\"white\",\"plot_bgcolor\":\"#E5ECF6\",\"polar\":{\"bgcolor\":\"#E5ECF6\",\"angularaxis\":{\"gridcolor\":\"white\",\"linecolor\":\"white\",\"ticks\":\"\"},\"radialaxis\":{\"gridcolor\":\"white\",\"linecolor\":\"white\",\"ticks\":\"\"}},\"ternary\":{\"bgcolor\":\"#E5ECF6\",\"aaxis\":{\"gridcolor\":\"white\",\"linecolor\":\"white\",\"ticks\":\"\"},\"baxis\":{\"gridcolor\":\"white\",\"linecolor\":\"white\",\"ticks\":\"\"},\"caxis\":{\"gridcolor\":\"white\",\"linecolor\":\"white\",\"ticks\":\"\"}},\"coloraxis\":{\"colorbar\":{\"outlinewidth\":0,\"ticks\":\"\"}},\"colorscale\":{\"sequential\":[[0.0,\"#0d0887\"],[0.1111111111111111,\"#46039f\"],[0.2222222222222222,\"#7201a8\"],[0.3333333333333333,\"#9c179e\"],[0.4444444444444444,\"#bd3786\"],[0.5555555555555556,\"#d8576b\"],[0.6666666666666666,\"#ed7953\"],[0.7777777777777778,\"#fb9f3a\"],[0.8888888888888888,\"#fdca26\"],[1.0,\"#f0f921\"]],\"sequentialminus\":[[0.0,\"#0d0887\"],[0.1111111111111111,\"#46039f\"],[0.2222222222222222,\"#7201a8\"],[0.3333333333333333,\"#9c179e\"],[0.4444444444444444,\"#bd3786\"],[0.5555555555555556,\"#d8576b\"],[0.6666666666666666,\"#ed7953\"],[0.7777777777777778,\"#fb9f3a\"],[0.8888888888888888,\"#fdca26\"],[1.0,\"#f0f921\"]],\"diverging\":[[0,\"#8e0152\"],[0.1,\"#c51b7d\"],[0.2,\"#de77ae\"],[0.3,\"#f1b6da\"],[0.4,\"#fde0ef\"],[0.5,\"#f7f7f7\"],[0.6,\"#e6f5d0\"],[0.7,\"#b8e186\"],[0.8,\"#7fbc41\"],[0.9,\"#4d9221\"],[1,\"#276419\"]]},\"xaxis\":{\"gridcolor\":\"white\",\"linecolor\":\"white\",\"ticks\":\"\",\"title\":{\"standoff\":15},\"zerolinecolor\":\"white\",\"automargin\":true,\"zerolinewidth\":2},\"yaxis\":{\"gridcolor\":\"white\",\"linecolor\":\"white\",\"ticks\":\"\",\"title\":{\"standoff\":15},\"zerolinecolor\":\"white\",\"automargin\":true,\"zerolinewidth\":2},\"scene\":{\"xaxis\":{\"backgroundcolor\":\"#E5ECF6\",\"gridcolor\":\"white\",\"linecolor\":\"white\",\"showbackground\":true,\"ticks\":\"\",\"zerolinecolor\":\"white\",\"gridwidth\":2},\"yaxis\":{\"backgroundcolor\":\"#E5ECF6\",\"gridcolor\":\"white\",\"linecolor\":\"white\",\"showbackground\":true,\"ticks\":\"\",\"zerolinecolor\":\"white\",\"gridwidth\":2},\"zaxis\":{\"backgroundcolor\":\"#E5ECF6\",\"gridcolor\":\"white\",\"linecolor\":\"white\",\"showbackground\":true,\"ticks\":\"\",\"zerolinecolor\":\"white\",\"gridwidth\":2}},\"shapedefaults\":{\"line\":{\"color\":\"#2a3f5f\"}},\"annotationdefaults\":{\"arrowcolor\":\"#2a3f5f\",\"arrowhead\":0,\"arrowwidth\":1},\"geo\":{\"bgcolor\":\"white\",\"landcolor\":\"#E5ECF6\",\"subunitcolor\":\"white\",\"showland\":true,\"showlakes\":true,\"lakecolor\":\"white\"},\"title\":{\"x\":0.05},\"mapbox\":{\"style\":\"light\"}}},\"xaxis\":{\"anchor\":\"y\",\"domain\":[0.0,1.0],\"title\":{\"text\":\"Description\"},\"categoryorder\":\"array\",\"categoryarray\":[\"Beer\",\"Corona\",\"Tequila\",\"Vodka\",\"Whiskey\"]},\"yaxis\":{\"anchor\":\"x\",\"domain\":[0.0,1.0],\"title\":{\"text\":\"10-Week Velocity\"}},\"legend\":{\"title\":{\"text\":\"Description\"},\"tracegroupgap\":0},\"title\":{\"text\":\"mean alcohol amount sold for every 10 weeks\"},\"boxmode\":\"overlay\"},                        {\"responsive\": true}                    ).then(function(){\n",
              "                            \n",
              "var gd = document.getElementById('ac140db3-6aa7-4335-8f93-e6e5fff2983f');\n",
              "var x = new MutationObserver(function (mutations, observer) {{\n",
              "        var display = window.getComputedStyle(gd).display;\n",
              "        if (!display || display === 'none') {{\n",
              "            console.log([gd, 'removed!']);\n",
              "            Plotly.purge(gd);\n",
              "            observer.disconnect();\n",
              "        }}\n",
              "}});\n",
              "\n",
              "// Listen for the removal of the full notebook cells\n",
              "var notebookContainer = gd.closest('#notebook-container');\n",
              "if (notebookContainer) {{\n",
              "    x.observe(notebookContainer, {childList: true});\n",
              "}}\n",
              "\n",
              "// Listen for the clearing of the current output cell\n",
              "var outputEl = gd.closest('.output');\n",
              "if (outputEl) {{\n",
              "    x.observe(outputEl, {childList: true});\n",
              "}}\n",
              "\n",
              "                        })                };                            </script>        </div>\n",
              "</body>\n",
              "</html>"
            ]
          },
          "metadata": {}
        },
        {
          "output_type": "stream",
          "name": "stdout",
          "text": [
            "  Description  10-Week Velocity\n",
            "0        Beer          2.161690\n",
            "1      Corona          2.390449\n",
            "2     Tequila          2.002995\n",
            "3       Vodka          2.793553\n",
            "4     Whiskey          2.022054\n"
          ]
        }
      ]
    },
    {
      "cell_type": "markdown",
      "source": [
        "Utilized a boxplot for the average quantity sold for every alcohol type over a 5 week period"
      ],
      "metadata": {
        "id": "vnsHEiQXFtlB"
      }
    },
    {
      "cell_type": "code",
      "source": [
        "fifteen_week_sales = melted_sales_data.copy()\n",
        "\n",
        "fifteen_week_sales['Week Number'] = fifteen_week_sales['Week'].str.extract('Week (\\d+)').astype(int)\n",
        "\n",
        "fifteen_week_sales['15-Week Group'] = ((fifteen_week_sales['Week Number'] - 1) // 15) + 1\n",
        "\n",
        "grouped_sales = fifteen_week_sales.groupby(['Description', '15-Week Group'])['Quantity Total'].mean().reset_index()\n",
        "\n",
        "grouped_sales.rename(columns={'Quantity Total': '15-Week Velocity'}, inplace=True)\n",
        "\n",
        "fig = px.box(grouped_sales,\n",
        "             x = \"Description\",\n",
        "             y = \"15-Week Velocity\",\n",
        "             color = \"Description\",\n",
        "             title = \"mean alcohol amount sold for every 15 weeks\"\n",
        "             )\n",
        "fig.show()\n",
        "\n",
        "std_dev_df = grouped_sales.groupby('Description')['15-Week Velocity'].std().reset_index()\n",
        "print(std_dev_df)"
      ],
      "metadata": {
        "id": "VLlD8VRuGPvo",
        "outputId": "43dc7e1a-e65f-4488-9209-5880d16ea726",
        "colab": {
          "base_uri": "https://localhost:8080/",
          "height": 649
        }
      },
      "execution_count": 26,
      "outputs": [
        {
          "output_type": "display_data",
          "data": {
            "text/html": [
              "<html>\n",
              "<head><meta charset=\"utf-8\" /></head>\n",
              "<body>\n",
              "    <div>            <script src=\"https://cdnjs.cloudflare.com/ajax/libs/mathjax/2.7.5/MathJax.js?config=TeX-AMS-MML_SVG\"></script><script type=\"text/javascript\">if (window.MathJax && window.MathJax.Hub && window.MathJax.Hub.Config) {window.MathJax.Hub.Config({SVG: {font: \"STIX-Web\"}});}</script>                <script type=\"text/javascript\">window.PlotlyConfig = {MathJaxConfig: 'local'};</script>\n",
              "        <script charset=\"utf-8\" src=\"https://cdn.plot.ly/plotly-2.35.2.min.js\"></script>                <div id=\"9ef255b8-414b-4901-91bd-a368629ca0a5\" class=\"plotly-graph-div\" style=\"height:525px; width:100%;\"></div>            <script type=\"text/javascript\">                                    window.PLOTLYENV=window.PLOTLYENV || {};                                    if (document.getElementById(\"9ef255b8-414b-4901-91bd-a368629ca0a5\")) {                    Plotly.newPlot(                        \"9ef255b8-414b-4901-91bd-a368629ca0a5\",                        [{\"alignmentgroup\":\"True\",\"hovertemplate\":\"Description=%{x}\\u003cbr\\u003e15-Week Velocity=%{y}\\u003cextra\\u003e\\u003c\\u002fextra\\u003e\",\"legendgroup\":\"Beer\",\"marker\":{\"color\":\"#636efa\"},\"name\":\"Beer\",\"notched\":false,\"offsetgroup\":\"Beer\",\"orientation\":\"v\",\"showlegend\":true,\"x\":[\"Beer\",\"Beer\",\"Beer\",\"Beer\"],\"x0\":\" \",\"xaxis\":\"x\",\"y\":[16.355555555555554,17.705555555555556,19.93888888888889,18.375],\"y0\":\" \",\"yaxis\":\"y\",\"type\":\"box\"},{\"alignmentgroup\":\"True\",\"hovertemplate\":\"Description=%{x}\\u003cbr\\u003e15-Week Velocity=%{y}\\u003cextra\\u003e\\u003c\\u002fextra\\u003e\",\"legendgroup\":\"Corona\",\"marker\":{\"color\":\"#EF553B\"},\"name\":\"Corona\",\"notched\":false,\"offsetgroup\":\"Corona\",\"orientation\":\"v\",\"showlegend\":true,\"x\":[\"Corona\",\"Corona\",\"Corona\",\"Corona\"],\"x0\":\" \",\"xaxis\":\"x\",\"y\":[16.471301247771837,21.198752228163993,20.210516934046346,21.387032085561497],\"y0\":\" \",\"yaxis\":\"y\",\"type\":\"box\"},{\"alignmentgroup\":\"True\",\"hovertemplate\":\"Description=%{x}\\u003cbr\\u003e15-Week Velocity=%{y}\\u003cextra\\u003e\\u003c\\u002fextra\\u003e\",\"legendgroup\":\"Tequila\",\"marker\":{\"color\":\"#00cc96\"},\"name\":\"Tequila\",\"notched\":false,\"offsetgroup\":\"Tequila\",\"orientation\":\"v\",\"showlegend\":true,\"x\":[\"Tequila\",\"Tequila\",\"Tequila\",\"Tequila\"],\"x0\":\" \",\"xaxis\":\"x\",\"y\":[12.003809523809524,16.085714285714285,14.567619047619047,16.12857142857143],\"y0\":\" \",\"yaxis\":\"y\",\"type\":\"box\"},{\"alignmentgroup\":\"True\",\"hovertemplate\":\"Description=%{x}\\u003cbr\\u003e15-Week Velocity=%{y}\\u003cextra\\u003e\\u003c\\u002fextra\\u003e\",\"legendgroup\":\"Vodka\",\"marker\":{\"color\":\"#ab63fa\"},\"name\":\"Vodka\",\"notched\":false,\"offsetgroup\":\"Vodka\",\"orientation\":\"v\",\"showlegend\":true,\"x\":[\"Vodka\",\"Vodka\",\"Vodka\",\"Vodka\"],\"x0\":\" \",\"xaxis\":\"x\",\"y\":[22.65648148148148,25.59537037037037,28.572222222222223,25.822916666666668],\"y0\":\" \",\"yaxis\":\"y\",\"type\":\"box\"},{\"alignmentgroup\":\"True\",\"hovertemplate\":\"Description=%{x}\\u003cbr\\u003e15-Week Velocity=%{y}\\u003cextra\\u003e\\u003c\\u002fextra\\u003e\",\"legendgroup\":\"Whiskey\",\"marker\":{\"color\":\"#FFA15A\"},\"name\":\"Whiskey\",\"notched\":false,\"offsetgroup\":\"Whiskey\",\"orientation\":\"v\",\"showlegend\":true,\"x\":[\"Whiskey\",\"Whiskey\",\"Whiskey\",\"Whiskey\"],\"x0\":\" \",\"xaxis\":\"x\",\"y\":[19.057142857142857,21.98095238095238,20.457142857142856,19.892857142857142],\"y0\":\" \",\"yaxis\":\"y\",\"type\":\"box\"}],                        {\"template\":{\"data\":{\"histogram2dcontour\":[{\"type\":\"histogram2dcontour\",\"colorbar\":{\"outlinewidth\":0,\"ticks\":\"\"},\"colorscale\":[[0.0,\"#0d0887\"],[0.1111111111111111,\"#46039f\"],[0.2222222222222222,\"#7201a8\"],[0.3333333333333333,\"#9c179e\"],[0.4444444444444444,\"#bd3786\"],[0.5555555555555556,\"#d8576b\"],[0.6666666666666666,\"#ed7953\"],[0.7777777777777778,\"#fb9f3a\"],[0.8888888888888888,\"#fdca26\"],[1.0,\"#f0f921\"]]}],\"choropleth\":[{\"type\":\"choropleth\",\"colorbar\":{\"outlinewidth\":0,\"ticks\":\"\"}}],\"histogram2d\":[{\"type\":\"histogram2d\",\"colorbar\":{\"outlinewidth\":0,\"ticks\":\"\"},\"colorscale\":[[0.0,\"#0d0887\"],[0.1111111111111111,\"#46039f\"],[0.2222222222222222,\"#7201a8\"],[0.3333333333333333,\"#9c179e\"],[0.4444444444444444,\"#bd3786\"],[0.5555555555555556,\"#d8576b\"],[0.6666666666666666,\"#ed7953\"],[0.7777777777777778,\"#fb9f3a\"],[0.8888888888888888,\"#fdca26\"],[1.0,\"#f0f921\"]]}],\"heatmap\":[{\"type\":\"heatmap\",\"colorbar\":{\"outlinewidth\":0,\"ticks\":\"\"},\"colorscale\":[[0.0,\"#0d0887\"],[0.1111111111111111,\"#46039f\"],[0.2222222222222222,\"#7201a8\"],[0.3333333333333333,\"#9c179e\"],[0.4444444444444444,\"#bd3786\"],[0.5555555555555556,\"#d8576b\"],[0.6666666666666666,\"#ed7953\"],[0.7777777777777778,\"#fb9f3a\"],[0.8888888888888888,\"#fdca26\"],[1.0,\"#f0f921\"]]}],\"heatmapgl\":[{\"type\":\"heatmapgl\",\"colorbar\":{\"outlinewidth\":0,\"ticks\":\"\"},\"colorscale\":[[0.0,\"#0d0887\"],[0.1111111111111111,\"#46039f\"],[0.2222222222222222,\"#7201a8\"],[0.3333333333333333,\"#9c179e\"],[0.4444444444444444,\"#bd3786\"],[0.5555555555555556,\"#d8576b\"],[0.6666666666666666,\"#ed7953\"],[0.7777777777777778,\"#fb9f3a\"],[0.8888888888888888,\"#fdca26\"],[1.0,\"#f0f921\"]]}],\"contourcarpet\":[{\"type\":\"contourcarpet\",\"colorbar\":{\"outlinewidth\":0,\"ticks\":\"\"}}],\"contour\":[{\"type\":\"contour\",\"colorbar\":{\"outlinewidth\":0,\"ticks\":\"\"},\"colorscale\":[[0.0,\"#0d0887\"],[0.1111111111111111,\"#46039f\"],[0.2222222222222222,\"#7201a8\"],[0.3333333333333333,\"#9c179e\"],[0.4444444444444444,\"#bd3786\"],[0.5555555555555556,\"#d8576b\"],[0.6666666666666666,\"#ed7953\"],[0.7777777777777778,\"#fb9f3a\"],[0.8888888888888888,\"#fdca26\"],[1.0,\"#f0f921\"]]}],\"surface\":[{\"type\":\"surface\",\"colorbar\":{\"outlinewidth\":0,\"ticks\":\"\"},\"colorscale\":[[0.0,\"#0d0887\"],[0.1111111111111111,\"#46039f\"],[0.2222222222222222,\"#7201a8\"],[0.3333333333333333,\"#9c179e\"],[0.4444444444444444,\"#bd3786\"],[0.5555555555555556,\"#d8576b\"],[0.6666666666666666,\"#ed7953\"],[0.7777777777777778,\"#fb9f3a\"],[0.8888888888888888,\"#fdca26\"],[1.0,\"#f0f921\"]]}],\"mesh3d\":[{\"type\":\"mesh3d\",\"colorbar\":{\"outlinewidth\":0,\"ticks\":\"\"}}],\"scatter\":[{\"fillpattern\":{\"fillmode\":\"overlay\",\"size\":10,\"solidity\":0.2},\"type\":\"scatter\"}],\"parcoords\":[{\"type\":\"parcoords\",\"line\":{\"colorbar\":{\"outlinewidth\":0,\"ticks\":\"\"}}}],\"scatterpolargl\":[{\"type\":\"scatterpolargl\",\"marker\":{\"colorbar\":{\"outlinewidth\":0,\"ticks\":\"\"}}}],\"bar\":[{\"error_x\":{\"color\":\"#2a3f5f\"},\"error_y\":{\"color\":\"#2a3f5f\"},\"marker\":{\"line\":{\"color\":\"#E5ECF6\",\"width\":0.5},\"pattern\":{\"fillmode\":\"overlay\",\"size\":10,\"solidity\":0.2}},\"type\":\"bar\"}],\"scattergeo\":[{\"type\":\"scattergeo\",\"marker\":{\"colorbar\":{\"outlinewidth\":0,\"ticks\":\"\"}}}],\"scatterpolar\":[{\"type\":\"scatterpolar\",\"marker\":{\"colorbar\":{\"outlinewidth\":0,\"ticks\":\"\"}}}],\"histogram\":[{\"marker\":{\"pattern\":{\"fillmode\":\"overlay\",\"size\":10,\"solidity\":0.2}},\"type\":\"histogram\"}],\"scattergl\":[{\"type\":\"scattergl\",\"marker\":{\"colorbar\":{\"outlinewidth\":0,\"ticks\":\"\"}}}],\"scatter3d\":[{\"type\":\"scatter3d\",\"line\":{\"colorbar\":{\"outlinewidth\":0,\"ticks\":\"\"}},\"marker\":{\"colorbar\":{\"outlinewidth\":0,\"ticks\":\"\"}}}],\"scattermapbox\":[{\"type\":\"scattermapbox\",\"marker\":{\"colorbar\":{\"outlinewidth\":0,\"ticks\":\"\"}}}],\"scatterternary\":[{\"type\":\"scatterternary\",\"marker\":{\"colorbar\":{\"outlinewidth\":0,\"ticks\":\"\"}}}],\"scattercarpet\":[{\"type\":\"scattercarpet\",\"marker\":{\"colorbar\":{\"outlinewidth\":0,\"ticks\":\"\"}}}],\"carpet\":[{\"aaxis\":{\"endlinecolor\":\"#2a3f5f\",\"gridcolor\":\"white\",\"linecolor\":\"white\",\"minorgridcolor\":\"white\",\"startlinecolor\":\"#2a3f5f\"},\"baxis\":{\"endlinecolor\":\"#2a3f5f\",\"gridcolor\":\"white\",\"linecolor\":\"white\",\"minorgridcolor\":\"white\",\"startlinecolor\":\"#2a3f5f\"},\"type\":\"carpet\"}],\"table\":[{\"cells\":{\"fill\":{\"color\":\"#EBF0F8\"},\"line\":{\"color\":\"white\"}},\"header\":{\"fill\":{\"color\":\"#C8D4E3\"},\"line\":{\"color\":\"white\"}},\"type\":\"table\"}],\"barpolar\":[{\"marker\":{\"line\":{\"color\":\"#E5ECF6\",\"width\":0.5},\"pattern\":{\"fillmode\":\"overlay\",\"size\":10,\"solidity\":0.2}},\"type\":\"barpolar\"}],\"pie\":[{\"automargin\":true,\"type\":\"pie\"}]},\"layout\":{\"autotypenumbers\":\"strict\",\"colorway\":[\"#636efa\",\"#EF553B\",\"#00cc96\",\"#ab63fa\",\"#FFA15A\",\"#19d3f3\",\"#FF6692\",\"#B6E880\",\"#FF97FF\",\"#FECB52\"],\"font\":{\"color\":\"#2a3f5f\"},\"hovermode\":\"closest\",\"hoverlabel\":{\"align\":\"left\"},\"paper_bgcolor\":\"white\",\"plot_bgcolor\":\"#E5ECF6\",\"polar\":{\"bgcolor\":\"#E5ECF6\",\"angularaxis\":{\"gridcolor\":\"white\",\"linecolor\":\"white\",\"ticks\":\"\"},\"radialaxis\":{\"gridcolor\":\"white\",\"linecolor\":\"white\",\"ticks\":\"\"}},\"ternary\":{\"bgcolor\":\"#E5ECF6\",\"aaxis\":{\"gridcolor\":\"white\",\"linecolor\":\"white\",\"ticks\":\"\"},\"baxis\":{\"gridcolor\":\"white\",\"linecolor\":\"white\",\"ticks\":\"\"},\"caxis\":{\"gridcolor\":\"white\",\"linecolor\":\"white\",\"ticks\":\"\"}},\"coloraxis\":{\"colorbar\":{\"outlinewidth\":0,\"ticks\":\"\"}},\"colorscale\":{\"sequential\":[[0.0,\"#0d0887\"],[0.1111111111111111,\"#46039f\"],[0.2222222222222222,\"#7201a8\"],[0.3333333333333333,\"#9c179e\"],[0.4444444444444444,\"#bd3786\"],[0.5555555555555556,\"#d8576b\"],[0.6666666666666666,\"#ed7953\"],[0.7777777777777778,\"#fb9f3a\"],[0.8888888888888888,\"#fdca26\"],[1.0,\"#f0f921\"]],\"sequentialminus\":[[0.0,\"#0d0887\"],[0.1111111111111111,\"#46039f\"],[0.2222222222222222,\"#7201a8\"],[0.3333333333333333,\"#9c179e\"],[0.4444444444444444,\"#bd3786\"],[0.5555555555555556,\"#d8576b\"],[0.6666666666666666,\"#ed7953\"],[0.7777777777777778,\"#fb9f3a\"],[0.8888888888888888,\"#fdca26\"],[1.0,\"#f0f921\"]],\"diverging\":[[0,\"#8e0152\"],[0.1,\"#c51b7d\"],[0.2,\"#de77ae\"],[0.3,\"#f1b6da\"],[0.4,\"#fde0ef\"],[0.5,\"#f7f7f7\"],[0.6,\"#e6f5d0\"],[0.7,\"#b8e186\"],[0.8,\"#7fbc41\"],[0.9,\"#4d9221\"],[1,\"#276419\"]]},\"xaxis\":{\"gridcolor\":\"white\",\"linecolor\":\"white\",\"ticks\":\"\",\"title\":{\"standoff\":15},\"zerolinecolor\":\"white\",\"automargin\":true,\"zerolinewidth\":2},\"yaxis\":{\"gridcolor\":\"white\",\"linecolor\":\"white\",\"ticks\":\"\",\"title\":{\"standoff\":15},\"zerolinecolor\":\"white\",\"automargin\":true,\"zerolinewidth\":2},\"scene\":{\"xaxis\":{\"backgroundcolor\":\"#E5ECF6\",\"gridcolor\":\"white\",\"linecolor\":\"white\",\"showbackground\":true,\"ticks\":\"\",\"zerolinecolor\":\"white\",\"gridwidth\":2},\"yaxis\":{\"backgroundcolor\":\"#E5ECF6\",\"gridcolor\":\"white\",\"linecolor\":\"white\",\"showbackground\":true,\"ticks\":\"\",\"zerolinecolor\":\"white\",\"gridwidth\":2},\"zaxis\":{\"backgroundcolor\":\"#E5ECF6\",\"gridcolor\":\"white\",\"linecolor\":\"white\",\"showbackground\":true,\"ticks\":\"\",\"zerolinecolor\":\"white\",\"gridwidth\":2}},\"shapedefaults\":{\"line\":{\"color\":\"#2a3f5f\"}},\"annotationdefaults\":{\"arrowcolor\":\"#2a3f5f\",\"arrowhead\":0,\"arrowwidth\":1},\"geo\":{\"bgcolor\":\"white\",\"landcolor\":\"#E5ECF6\",\"subunitcolor\":\"white\",\"showland\":true,\"showlakes\":true,\"lakecolor\":\"white\"},\"title\":{\"x\":0.05},\"mapbox\":{\"style\":\"light\"}}},\"xaxis\":{\"anchor\":\"y\",\"domain\":[0.0,1.0],\"title\":{\"text\":\"Description\"},\"categoryorder\":\"array\",\"categoryarray\":[\"Beer\",\"Corona\",\"Tequila\",\"Vodka\",\"Whiskey\"]},\"yaxis\":{\"anchor\":\"x\",\"domain\":[0.0,1.0],\"title\":{\"text\":\"15-Week Velocity\"}},\"legend\":{\"title\":{\"text\":\"Description\"},\"tracegroupgap\":0},\"title\":{\"text\":\"mean alcohol amount sold for every 15 weeks\"},\"boxmode\":\"overlay\"},                        {\"responsive\": true}                    ).then(function(){\n",
              "                            \n",
              "var gd = document.getElementById('9ef255b8-414b-4901-91bd-a368629ca0a5');\n",
              "var x = new MutationObserver(function (mutations, observer) {{\n",
              "        var display = window.getComputedStyle(gd).display;\n",
              "        if (!display || display === 'none') {{\n",
              "            console.log([gd, 'removed!']);\n",
              "            Plotly.purge(gd);\n",
              "            observer.disconnect();\n",
              "        }}\n",
              "}});\n",
              "\n",
              "// Listen for the removal of the full notebook cells\n",
              "var notebookContainer = gd.closest('#notebook-container');\n",
              "if (notebookContainer) {{\n",
              "    x.observe(notebookContainer, {childList: true});\n",
              "}}\n",
              "\n",
              "// Listen for the clearing of the current output cell\n",
              "var outputEl = gd.closest('.output');\n",
              "if (outputEl) {{\n",
              "    x.observe(outputEl, {childList: true});\n",
              "}}\n",
              "\n",
              "                        })                };                            </script>        </div>\n",
              "</body>\n",
              "</html>"
            ]
          },
          "metadata": {}
        },
        {
          "output_type": "stream",
          "name": "stdout",
          "text": [
            "  Description  15-Week Velocity\n",
            "0        Beer          1.489480\n",
            "1      Corona          2.289308\n",
            "2     Tequila          1.936314\n",
            "3       Vodka          2.417497\n",
            "4     Whiskey          1.231789\n"
          ]
        }
      ]
    },
    {
      "cell_type": "code",
      "source": [
        "fig = px.box(quarterly_sales,\n",
        "            x = \"Description\",\n",
        "             y = \"Quarter Velocity\",\n",
        "             color = \"Description\",\n",
        "             title = \"Average Quantity Sold per Alcohol Type for everyday\",\n",
        "             labels = {\"Description\": \"Alcohol Types\", \"Quarter Velocity\": \"Average Quantity Sold\"})\n",
        "fig.show()"
      ],
      "metadata": {
        "id": "M4hB-EtksPfd",
        "outputId": "94026aaf-c3dd-4b58-8ce5-5804b82b5b67",
        "colab": {
          "base_uri": "https://localhost:8080/",
          "height": 542
        }
      },
      "execution_count": 27,
      "outputs": [
        {
          "output_type": "display_data",
          "data": {
            "text/html": [
              "<html>\n",
              "<head><meta charset=\"utf-8\" /></head>\n",
              "<body>\n",
              "    <div>            <script src=\"https://cdnjs.cloudflare.com/ajax/libs/mathjax/2.7.5/MathJax.js?config=TeX-AMS-MML_SVG\"></script><script type=\"text/javascript\">if (window.MathJax && window.MathJax.Hub && window.MathJax.Hub.Config) {window.MathJax.Hub.Config({SVG: {font: \"STIX-Web\"}});}</script>                <script type=\"text/javascript\">window.PlotlyConfig = {MathJaxConfig: 'local'};</script>\n",
              "        <script charset=\"utf-8\" src=\"https://cdn.plot.ly/plotly-2.35.2.min.js\"></script>                <div id=\"f93f7977-c15c-4810-bf29-9e6178518a6b\" class=\"plotly-graph-div\" style=\"height:525px; width:100%;\"></div>            <script type=\"text/javascript\">                                    window.PLOTLYENV=window.PLOTLYENV || {};                                    if (document.getElementById(\"f93f7977-c15c-4810-bf29-9e6178518a6b\")) {                    Plotly.newPlot(                        \"f93f7977-c15c-4810-bf29-9e6178518a6b\",                        [{\"alignmentgroup\":\"True\",\"hovertemplate\":\"Alcohol Types=%{x}\\u003cbr\\u003eAverage Quantity Sold=%{y}\\u003cextra\\u003e\\u003c\\u002fextra\\u003e\",\"legendgroup\":\"Beer\",\"marker\":{\"color\":\"#636efa\"},\"name\":\"Beer\",\"notched\":false,\"offsetgroup\":\"Beer\",\"orientation\":\"v\",\"showlegend\":true,\"x\":[\"Beer\",\"Beer\",\"Beer\",\"Beer\"],\"x0\":\" \",\"xaxis\":\"x\",\"y\":[2.3434065934065935,2.7344322344322345,2.54029304029304,2.691326530612245],\"y0\":\" \",\"yaxis\":\"y\",\"type\":\"box\"},{\"alignmentgroup\":\"True\",\"hovertemplate\":\"Alcohol Types=%{x}\\u003cbr\\u003eAverage Quantity Sold=%{y}\\u003cextra\\u003e\\u003c\\u002fextra\\u003e\",\"legendgroup\":\"Corona\",\"marker\":{\"color\":\"#EF553B\"},\"name\":\"Corona\",\"notched\":false,\"offsetgroup\":\"Corona\",\"orientation\":\"v\",\"showlegend\":true,\"x\":[\"Corona\",\"Corona\",\"Corona\",\"Corona\"],\"x0\":\" \",\"xaxis\":\"x\",\"y\":[2.324704707057648,2.9157607098783567,2.940794499618029,3.008266943140893],\"y0\":\" \",\"yaxis\":\"y\",\"type\":\"box\"},{\"alignmentgroup\":\"True\",\"hovertemplate\":\"Alcohol Types=%{x}\\u003cbr\\u003eAverage Quantity Sold=%{y}\\u003cextra\\u003e\\u003c\\u002fextra\\u003e\",\"legendgroup\":\"Tequila\",\"marker\":{\"color\":\"#00cc96\"},\"name\":\"Tequila\",\"notched\":false,\"offsetgroup\":\"Tequila\",\"orientation\":\"v\",\"showlegend\":true,\"x\":[\"Tequila\",\"Tequila\",\"Tequila\",\"Tequila\"],\"x0\":\" \",\"xaxis\":\"x\",\"y\":[1.713971742543171,2.196546310832025,2.1529042386185244,2.215451895043732],\"y0\":\" \",\"yaxis\":\"y\",\"type\":\"box\"},{\"alignmentgroup\":\"True\",\"hovertemplate\":\"Alcohol Types=%{x}\\u003cbr\\u003eAverage Quantity Sold=%{y}\\u003cextra\\u003e\\u003c\\u002fextra\\u003e\",\"legendgroup\":\"Vodka\",\"marker\":{\"color\":\"#ab63fa\"},\"name\":\"Vodka\",\"notched\":false,\"offsetgroup\":\"Vodka\",\"orientation\":\"v\",\"showlegend\":true,\"x\":[\"Vodka\",\"Vodka\",\"Vodka\",\"Vodka\"],\"x0\":\" \",\"xaxis\":\"x\",\"y\":[3.2376373626373627,3.6114163614163615,3.7907509157509156,3.9869614512471654],\"y0\":\" \",\"yaxis\":\"y\",\"type\":\"box\"},{\"alignmentgroup\":\"True\",\"hovertemplate\":\"Alcohol Types=%{x}\\u003cbr\\u003eAverage Quantity Sold=%{y}\\u003cextra\\u003e\\u003c\\u002fextra\\u003e\",\"legendgroup\":\"Whiskey\",\"marker\":{\"color\":\"#FFA15A\"},\"name\":\"Whiskey\",\"notched\":false,\"offsetgroup\":\"Whiskey\",\"orientation\":\"v\",\"showlegend\":true,\"x\":[\"Whiskey\",\"Whiskey\",\"Whiskey\",\"Whiskey\"],\"x0\":\" \",\"xaxis\":\"x\",\"y\":[2.6687598116169546,3.0361067503924644,3.2244897959183674,2.7448979591836737],\"y0\":\" \",\"yaxis\":\"y\",\"type\":\"box\"}],                        {\"template\":{\"data\":{\"histogram2dcontour\":[{\"type\":\"histogram2dcontour\",\"colorbar\":{\"outlinewidth\":0,\"ticks\":\"\"},\"colorscale\":[[0.0,\"#0d0887\"],[0.1111111111111111,\"#46039f\"],[0.2222222222222222,\"#7201a8\"],[0.3333333333333333,\"#9c179e\"],[0.4444444444444444,\"#bd3786\"],[0.5555555555555556,\"#d8576b\"],[0.6666666666666666,\"#ed7953\"],[0.7777777777777778,\"#fb9f3a\"],[0.8888888888888888,\"#fdca26\"],[1.0,\"#f0f921\"]]}],\"choropleth\":[{\"type\":\"choropleth\",\"colorbar\":{\"outlinewidth\":0,\"ticks\":\"\"}}],\"histogram2d\":[{\"type\":\"histogram2d\",\"colorbar\":{\"outlinewidth\":0,\"ticks\":\"\"},\"colorscale\":[[0.0,\"#0d0887\"],[0.1111111111111111,\"#46039f\"],[0.2222222222222222,\"#7201a8\"],[0.3333333333333333,\"#9c179e\"],[0.4444444444444444,\"#bd3786\"],[0.5555555555555556,\"#d8576b\"],[0.6666666666666666,\"#ed7953\"],[0.7777777777777778,\"#fb9f3a\"],[0.8888888888888888,\"#fdca26\"],[1.0,\"#f0f921\"]]}],\"heatmap\":[{\"type\":\"heatmap\",\"colorbar\":{\"outlinewidth\":0,\"ticks\":\"\"},\"colorscale\":[[0.0,\"#0d0887\"],[0.1111111111111111,\"#46039f\"],[0.2222222222222222,\"#7201a8\"],[0.3333333333333333,\"#9c179e\"],[0.4444444444444444,\"#bd3786\"],[0.5555555555555556,\"#d8576b\"],[0.6666666666666666,\"#ed7953\"],[0.7777777777777778,\"#fb9f3a\"],[0.8888888888888888,\"#fdca26\"],[1.0,\"#f0f921\"]]}],\"heatmapgl\":[{\"type\":\"heatmapgl\",\"colorbar\":{\"outlinewidth\":0,\"ticks\":\"\"},\"colorscale\":[[0.0,\"#0d0887\"],[0.1111111111111111,\"#46039f\"],[0.2222222222222222,\"#7201a8\"],[0.3333333333333333,\"#9c179e\"],[0.4444444444444444,\"#bd3786\"],[0.5555555555555556,\"#d8576b\"],[0.6666666666666666,\"#ed7953\"],[0.7777777777777778,\"#fb9f3a\"],[0.8888888888888888,\"#fdca26\"],[1.0,\"#f0f921\"]]}],\"contourcarpet\":[{\"type\":\"contourcarpet\",\"colorbar\":{\"outlinewidth\":0,\"ticks\":\"\"}}],\"contour\":[{\"type\":\"contour\",\"colorbar\":{\"outlinewidth\":0,\"ticks\":\"\"},\"colorscale\":[[0.0,\"#0d0887\"],[0.1111111111111111,\"#46039f\"],[0.2222222222222222,\"#7201a8\"],[0.3333333333333333,\"#9c179e\"],[0.4444444444444444,\"#bd3786\"],[0.5555555555555556,\"#d8576b\"],[0.6666666666666666,\"#ed7953\"],[0.7777777777777778,\"#fb9f3a\"],[0.8888888888888888,\"#fdca26\"],[1.0,\"#f0f921\"]]}],\"surface\":[{\"type\":\"surface\",\"colorbar\":{\"outlinewidth\":0,\"ticks\":\"\"},\"colorscale\":[[0.0,\"#0d0887\"],[0.1111111111111111,\"#46039f\"],[0.2222222222222222,\"#7201a8\"],[0.3333333333333333,\"#9c179e\"],[0.4444444444444444,\"#bd3786\"],[0.5555555555555556,\"#d8576b\"],[0.6666666666666666,\"#ed7953\"],[0.7777777777777778,\"#fb9f3a\"],[0.8888888888888888,\"#fdca26\"],[1.0,\"#f0f921\"]]}],\"mesh3d\":[{\"type\":\"mesh3d\",\"colorbar\":{\"outlinewidth\":0,\"ticks\":\"\"}}],\"scatter\":[{\"fillpattern\":{\"fillmode\":\"overlay\",\"size\":10,\"solidity\":0.2},\"type\":\"scatter\"}],\"parcoords\":[{\"type\":\"parcoords\",\"line\":{\"colorbar\":{\"outlinewidth\":0,\"ticks\":\"\"}}}],\"scatterpolargl\":[{\"type\":\"scatterpolargl\",\"marker\":{\"colorbar\":{\"outlinewidth\":0,\"ticks\":\"\"}}}],\"bar\":[{\"error_x\":{\"color\":\"#2a3f5f\"},\"error_y\":{\"color\":\"#2a3f5f\"},\"marker\":{\"line\":{\"color\":\"#E5ECF6\",\"width\":0.5},\"pattern\":{\"fillmode\":\"overlay\",\"size\":10,\"solidity\":0.2}},\"type\":\"bar\"}],\"scattergeo\":[{\"type\":\"scattergeo\",\"marker\":{\"colorbar\":{\"outlinewidth\":0,\"ticks\":\"\"}}}],\"scatterpolar\":[{\"type\":\"scatterpolar\",\"marker\":{\"colorbar\":{\"outlinewidth\":0,\"ticks\":\"\"}}}],\"histogram\":[{\"marker\":{\"pattern\":{\"fillmode\":\"overlay\",\"size\":10,\"solidity\":0.2}},\"type\":\"histogram\"}],\"scattergl\":[{\"type\":\"scattergl\",\"marker\":{\"colorbar\":{\"outlinewidth\":0,\"ticks\":\"\"}}}],\"scatter3d\":[{\"type\":\"scatter3d\",\"line\":{\"colorbar\":{\"outlinewidth\":0,\"ticks\":\"\"}},\"marker\":{\"colorbar\":{\"outlinewidth\":0,\"ticks\":\"\"}}}],\"scattermapbox\":[{\"type\":\"scattermapbox\",\"marker\":{\"colorbar\":{\"outlinewidth\":0,\"ticks\":\"\"}}}],\"scatterternary\":[{\"type\":\"scatterternary\",\"marker\":{\"colorbar\":{\"outlinewidth\":0,\"ticks\":\"\"}}}],\"scattercarpet\":[{\"type\":\"scattercarpet\",\"marker\":{\"colorbar\":{\"outlinewidth\":0,\"ticks\":\"\"}}}],\"carpet\":[{\"aaxis\":{\"endlinecolor\":\"#2a3f5f\",\"gridcolor\":\"white\",\"linecolor\":\"white\",\"minorgridcolor\":\"white\",\"startlinecolor\":\"#2a3f5f\"},\"baxis\":{\"endlinecolor\":\"#2a3f5f\",\"gridcolor\":\"white\",\"linecolor\":\"white\",\"minorgridcolor\":\"white\",\"startlinecolor\":\"#2a3f5f\"},\"type\":\"carpet\"}],\"table\":[{\"cells\":{\"fill\":{\"color\":\"#EBF0F8\"},\"line\":{\"color\":\"white\"}},\"header\":{\"fill\":{\"color\":\"#C8D4E3\"},\"line\":{\"color\":\"white\"}},\"type\":\"table\"}],\"barpolar\":[{\"marker\":{\"line\":{\"color\":\"#E5ECF6\",\"width\":0.5},\"pattern\":{\"fillmode\":\"overlay\",\"size\":10,\"solidity\":0.2}},\"type\":\"barpolar\"}],\"pie\":[{\"automargin\":true,\"type\":\"pie\"}]},\"layout\":{\"autotypenumbers\":\"strict\",\"colorway\":[\"#636efa\",\"#EF553B\",\"#00cc96\",\"#ab63fa\",\"#FFA15A\",\"#19d3f3\",\"#FF6692\",\"#B6E880\",\"#FF97FF\",\"#FECB52\"],\"font\":{\"color\":\"#2a3f5f\"},\"hovermode\":\"closest\",\"hoverlabel\":{\"align\":\"left\"},\"paper_bgcolor\":\"white\",\"plot_bgcolor\":\"#E5ECF6\",\"polar\":{\"bgcolor\":\"#E5ECF6\",\"angularaxis\":{\"gridcolor\":\"white\",\"linecolor\":\"white\",\"ticks\":\"\"},\"radialaxis\":{\"gridcolor\":\"white\",\"linecolor\":\"white\",\"ticks\":\"\"}},\"ternary\":{\"bgcolor\":\"#E5ECF6\",\"aaxis\":{\"gridcolor\":\"white\",\"linecolor\":\"white\",\"ticks\":\"\"},\"baxis\":{\"gridcolor\":\"white\",\"linecolor\":\"white\",\"ticks\":\"\"},\"caxis\":{\"gridcolor\":\"white\",\"linecolor\":\"white\",\"ticks\":\"\"}},\"coloraxis\":{\"colorbar\":{\"outlinewidth\":0,\"ticks\":\"\"}},\"colorscale\":{\"sequential\":[[0.0,\"#0d0887\"],[0.1111111111111111,\"#46039f\"],[0.2222222222222222,\"#7201a8\"],[0.3333333333333333,\"#9c179e\"],[0.4444444444444444,\"#bd3786\"],[0.5555555555555556,\"#d8576b\"],[0.6666666666666666,\"#ed7953\"],[0.7777777777777778,\"#fb9f3a\"],[0.8888888888888888,\"#fdca26\"],[1.0,\"#f0f921\"]],\"sequentialminus\":[[0.0,\"#0d0887\"],[0.1111111111111111,\"#46039f\"],[0.2222222222222222,\"#7201a8\"],[0.3333333333333333,\"#9c179e\"],[0.4444444444444444,\"#bd3786\"],[0.5555555555555556,\"#d8576b\"],[0.6666666666666666,\"#ed7953\"],[0.7777777777777778,\"#fb9f3a\"],[0.8888888888888888,\"#fdca26\"],[1.0,\"#f0f921\"]],\"diverging\":[[0,\"#8e0152\"],[0.1,\"#c51b7d\"],[0.2,\"#de77ae\"],[0.3,\"#f1b6da\"],[0.4,\"#fde0ef\"],[0.5,\"#f7f7f7\"],[0.6,\"#e6f5d0\"],[0.7,\"#b8e186\"],[0.8,\"#7fbc41\"],[0.9,\"#4d9221\"],[1,\"#276419\"]]},\"xaxis\":{\"gridcolor\":\"white\",\"linecolor\":\"white\",\"ticks\":\"\",\"title\":{\"standoff\":15},\"zerolinecolor\":\"white\",\"automargin\":true,\"zerolinewidth\":2},\"yaxis\":{\"gridcolor\":\"white\",\"linecolor\":\"white\",\"ticks\":\"\",\"title\":{\"standoff\":15},\"zerolinecolor\":\"white\",\"automargin\":true,\"zerolinewidth\":2},\"scene\":{\"xaxis\":{\"backgroundcolor\":\"#E5ECF6\",\"gridcolor\":\"white\",\"linecolor\":\"white\",\"showbackground\":true,\"ticks\":\"\",\"zerolinecolor\":\"white\",\"gridwidth\":2},\"yaxis\":{\"backgroundcolor\":\"#E5ECF6\",\"gridcolor\":\"white\",\"linecolor\":\"white\",\"showbackground\":true,\"ticks\":\"\",\"zerolinecolor\":\"white\",\"gridwidth\":2},\"zaxis\":{\"backgroundcolor\":\"#E5ECF6\",\"gridcolor\":\"white\",\"linecolor\":\"white\",\"showbackground\":true,\"ticks\":\"\",\"zerolinecolor\":\"white\",\"gridwidth\":2}},\"shapedefaults\":{\"line\":{\"color\":\"#2a3f5f\"}},\"annotationdefaults\":{\"arrowcolor\":\"#2a3f5f\",\"arrowhead\":0,\"arrowwidth\":1},\"geo\":{\"bgcolor\":\"white\",\"landcolor\":\"#E5ECF6\",\"subunitcolor\":\"white\",\"showland\":true,\"showlakes\":true,\"lakecolor\":\"white\"},\"title\":{\"x\":0.05},\"mapbox\":{\"style\":\"light\"}}},\"xaxis\":{\"anchor\":\"y\",\"domain\":[0.0,1.0],\"title\":{\"text\":\"Alcohol Types\"},\"categoryorder\":\"array\",\"categoryarray\":[\"Beer\",\"Corona\",\"Tequila\",\"Vodka\",\"Whiskey\"]},\"yaxis\":{\"anchor\":\"x\",\"domain\":[0.0,1.0],\"title\":{\"text\":\"Average Quantity Sold\"}},\"legend\":{\"title\":{\"text\":\"Alcohol Types\"},\"tracegroupgap\":0},\"title\":{\"text\":\"Average Quantity Sold per Alcohol Type for everyday\"},\"boxmode\":\"overlay\"},                        {\"responsive\": true}                    ).then(function(){\n",
              "                            \n",
              "var gd = document.getElementById('f93f7977-c15c-4810-bf29-9e6178518a6b');\n",
              "var x = new MutationObserver(function (mutations, observer) {{\n",
              "        var display = window.getComputedStyle(gd).display;\n",
              "        if (!display || display === 'none') {{\n",
              "            console.log([gd, 'removed!']);\n",
              "            Plotly.purge(gd);\n",
              "            observer.disconnect();\n",
              "        }}\n",
              "}});\n",
              "\n",
              "// Listen for the removal of the full notebook cells\n",
              "var notebookContainer = gd.closest('#notebook-container');\n",
              "if (notebookContainer) {{\n",
              "    x.observe(notebookContainer, {childList: true});\n",
              "}}\n",
              "\n",
              "// Listen for the clearing of the current output cell\n",
              "var outputEl = gd.closest('.output');\n",
              "if (outputEl) {{\n",
              "    x.observe(outputEl, {childList: true});\n",
              "}}\n",
              "\n",
              "                        })                };                            </script>        </div>\n",
              "</body>\n",
              "</html>"
            ]
          },
          "metadata": {}
        }
      ]
    },
    {
      "cell_type": "code",
      "source": [
        "melted_sales_data[melted_sales_data[\"Quarter\"] == \"Q1\"][\"Description\"].value_counts()"
      ],
      "metadata": {
        "id": "lW11o54LPhGf",
        "outputId": "b3e01aa7-eeb0-4180-8f97-de50f220db1d",
        "colab": {
          "base_uri": "https://localhost:8080/",
          "height": 272
        }
      },
      "execution_count": 72,
      "outputs": [
        {
          "output_type": "execute_result",
          "data": {
            "text/plain": [
              "Description\n",
              "Corona     4862\n",
              "Vodka       936\n",
              "Tequila     455\n",
              "Beer        156\n",
              "Whiskey      91\n",
              "Name: count, dtype: int64"
            ],
            "text/html": [
              "<div>\n",
              "<style scoped>\n",
              "    .dataframe tbody tr th:only-of-type {\n",
              "        vertical-align: middle;\n",
              "    }\n",
              "\n",
              "    .dataframe tbody tr th {\n",
              "        vertical-align: top;\n",
              "    }\n",
              "\n",
              "    .dataframe thead th {\n",
              "        text-align: right;\n",
              "    }\n",
              "</style>\n",
              "<table border=\"1\" class=\"dataframe\">\n",
              "  <thead>\n",
              "    <tr style=\"text-align: right;\">\n",
              "      <th></th>\n",
              "      <th>count</th>\n",
              "    </tr>\n",
              "    <tr>\n",
              "      <th>Description</th>\n",
              "      <th></th>\n",
              "    </tr>\n",
              "  </thead>\n",
              "  <tbody>\n",
              "    <tr>\n",
              "      <th>Corona</th>\n",
              "      <td>4862</td>\n",
              "    </tr>\n",
              "    <tr>\n",
              "      <th>Vodka</th>\n",
              "      <td>936</td>\n",
              "    </tr>\n",
              "    <tr>\n",
              "      <th>Tequila</th>\n",
              "      <td>455</td>\n",
              "    </tr>\n",
              "    <tr>\n",
              "      <th>Beer</th>\n",
              "      <td>156</td>\n",
              "    </tr>\n",
              "    <tr>\n",
              "      <th>Whiskey</th>\n",
              "      <td>91</td>\n",
              "    </tr>\n",
              "  </tbody>\n",
              "</table>\n",
              "</div><br><label><b>dtype:</b> int64</label>"
            ]
          },
          "metadata": {},
          "execution_count": 72
        }
      ]
    },
    {
      "cell_type": "code",
      "source": [
        "weekly_totals = (\n",
        "    melted_sales_data\n",
        "    .groupby(['Week', 'Quarter', 'Description'], as_index=False)\n",
        "    .agg({'Quantity Total': 'mean', 'Bottles Per Case': 'median'})\n",
        ")\n",
        "\n",
        "weekly_stats = (\n",
        "    weekly_totals\n",
        "    .groupby(['Quarter', 'Description'])[['Quantity Total', 'Bottles Per Case']]\n",
        "    .agg(['mean', 'std'])\n",
        "    .reset_index()\n",
        ")\n",
        "\n",
        "weekly_stats.columns = [\n",
        "    f\"{col[0]}_{col[1]}\" if col[1] else col[0] for col in weekly_stats.columns\n",
        "]\n",
        "\n",
        "weekly_stats['Lead Time'] = weekly_stats['Description'].apply(lambda x: 14 if x == 'Beer' else 10)\n",
        "weekly_stats['Daily Avg Sales'] = weekly_stats['Quantity Total_mean'] / 7\n",
        "safety_multiplier = 2\n",
        "\n",
        "weekly_stats['Reorder Point'] = (\n",
        "    (weekly_stats['Daily Avg Sales'] * weekly_stats['Lead Time']) +\n",
        "    (safety_multiplier * weekly_stats['Quantity Total_mean'])\n",
        ")\n",
        "\n",
        "weekly_stats.rename(columns={\n",
        "    'Quantity Total_mean': 'Weekly Avg',\n",
        "    'Quantity Total_std': 'Weekly Std Dev',\n",
        "    'Bottles Per Case_mean': 'median Bottles/Case',\n",
        "    'Bottles Per Case_std': 'Std Bottles/Case',\n",
        "    'Description': 'Alcohol Type',\n",
        "    'Daily Avg Sales': 'Daily Avg'\n",
        "}, inplace=True)\n",
        "\n",
        "print(weekly_stats)\n"
      ],
      "metadata": {
        "id": "HCEFZ8nvz3jQ",
        "outputId": "644df5b4-87cb-470b-e36d-e39930c65f2f",
        "colab": {
          "base_uri": "https://localhost:8080/"
        }
      },
      "execution_count": 88,
      "outputs": [
        {
          "output_type": "stream",
          "name": "stdout",
          "text": [
            "   Quarter Alcohol Type  Weekly Avg  Weekly Std Dev  median Bottles/Case  \\\n",
            "0       Q1         Beer   16.403846        4.901205                 24.0   \n",
            "1       Q1       Corona   16.272933        2.088221                 24.0   \n",
            "2       Q1      Tequila   11.997802        2.152501                 12.0   \n",
            "3       Q1        Vodka   22.663462        2.676271                 24.0   \n",
            "4       Q1      Whiskey   18.681319        4.271466                 12.0   \n",
            "5       Q2         Beer   19.141026        3.780491                 24.0   \n",
            "6       Q2       Corona   20.410325        2.090812                 24.0   \n",
            "7       Q2      Tequila   15.375824        2.859519                 12.0   \n",
            "8       Q2        Vodka   25.279915        2.043161                 24.0   \n",
            "9       Q2      Whiskey   21.252747        3.553361                 12.0   \n",
            "10      Q3         Beer   17.782051        6.464338                 24.0   \n",
            "11      Q3       Corona   20.585561        1.881997                 24.0   \n",
            "12      Q3      Tequila   15.070330        2.598995                 12.0   \n",
            "13      Q3        Vodka   26.535256        1.412196                 24.0   \n",
            "14      Q3      Whiskey   22.571429        3.216666                 12.0   \n",
            "15      Q4         Beer   18.839286        4.531403                 24.0   \n",
            "16      Q4       Corona   21.057869        3.487186                 24.0   \n",
            "17      Q4      Tequila   15.508163        2.394425                 12.0   \n",
            "18      Q4        Vodka   27.908730        4.927889                 24.0   \n",
            "19      Q4      Whiskey   19.214286        3.697659                 12.0   \n",
            "\n",
            "    Std Bottles/Case  Lead Time  Daily Avg  Reorder Point  \n",
            "0                0.0         14   2.343407      65.615385  \n",
            "1                0.0         10   2.324705      55.792913  \n",
            "2                0.0         10   1.713972      41.135322  \n",
            "3                0.0         10   3.237637      77.703297  \n",
            "4                0.0         10   2.668760      64.050235  \n",
            "5                0.0         14   2.734432      76.564103  \n",
            "6                0.0         10   2.915761      69.978257  \n",
            "7                0.0         10   2.196546      52.717111  \n",
            "8                0.0         10   3.611416      86.673993  \n",
            "9                0.0         10   3.036107      72.866562  \n",
            "10               0.0         14   2.540293      71.128205  \n",
            "11               0.0         10   2.940794      70.579068  \n",
            "12               0.0         10   2.152904      51.669702  \n",
            "13               0.0         10   3.790751      90.978022  \n",
            "14               0.0         10   3.224490      77.387755  \n",
            "15               0.0         14   2.691327      75.357143  \n",
            "16               0.0         10   3.008267      72.198407  \n",
            "17               0.0         10   2.215452      53.170845  \n",
            "18               0.0         10   3.986961      95.687075  \n",
            "19               0.0         10   2.744898      65.877551  \n"
          ]
        }
      ]
    },
    {
      "cell_type": "code",
      "source": [
        "buffer_zone = 2\n",
        "\n",
        "lead_time = 10\n",
        "weekly_stats['Lead Time'] = lead_time\n",
        "\n",
        "weekly_stats['Reorder Threshold'] = weekly_stats['Alcohol Type'].apply(lambda x: 14 if x == 'Beer' else 10)\n",
        "\n",
        "weekly_stats['Daily Std Dev'] = weekly_stats['Weekly Std Dev'] / (7 ** 0.5)\n",
        "\n",
        "weekly_stats['Safety Stock'] = buffer_zone * weekly_stats['Daily Std Dev'] * (weekly_stats['Lead Time'] ** 0.5)\n",
        "\n",
        "weekly_stats['Reorder Point'] = (\n",
        "    weekly_stats['Daily Avg'] * weekly_stats['Lead Time']\n",
        ") + weekly_stats['Safety Stock']\n",
        "print(weekly_stats)"
      ],
      "metadata": {
        "id": "q2Y8h6L40VZh",
        "outputId": "b1236bd1-10a1-4092-c207-8f11f57979f2",
        "colab": {
          "base_uri": "https://localhost:8080/"
        }
      },
      "execution_count": 90,
      "outputs": [
        {
          "output_type": "stream",
          "name": "stdout",
          "text": [
            "   Quarter Alcohol Type  Weekly Avg  Weekly Std Dev  median Bottles/Case  \\\n",
            "0       Q1         Beer   16.403846        4.901205                 24.0   \n",
            "1       Q1       Corona   16.272933        2.088221                 24.0   \n",
            "2       Q1      Tequila   11.997802        2.152501                 12.0   \n",
            "3       Q1        Vodka   22.663462        2.676271                 24.0   \n",
            "4       Q1      Whiskey   18.681319        4.271466                 12.0   \n",
            "5       Q2         Beer   19.141026        3.780491                 24.0   \n",
            "6       Q2       Corona   20.410325        2.090812                 24.0   \n",
            "7       Q2      Tequila   15.375824        2.859519                 12.0   \n",
            "8       Q2        Vodka   25.279915        2.043161                 24.0   \n",
            "9       Q2      Whiskey   21.252747        3.553361                 12.0   \n",
            "10      Q3         Beer   17.782051        6.464338                 24.0   \n",
            "11      Q3       Corona   20.585561        1.881997                 24.0   \n",
            "12      Q3      Tequila   15.070330        2.598995                 12.0   \n",
            "13      Q3        Vodka   26.535256        1.412196                 24.0   \n",
            "14      Q3      Whiskey   22.571429        3.216666                 12.0   \n",
            "15      Q4         Beer   18.839286        4.531403                 24.0   \n",
            "16      Q4       Corona   21.057869        3.487186                 24.0   \n",
            "17      Q4      Tequila   15.508163        2.394425                 12.0   \n",
            "18      Q4        Vodka   27.908730        4.927889                 24.0   \n",
            "19      Q4      Whiskey   19.214286        3.697659                 12.0   \n",
            "\n",
            "    Std Bottles/Case  Lead Time  Daily Avg  Reorder Point  Reorder Threshold  \\\n",
            "0                0.0         10   2.343407      35.150187                 14   \n",
            "1                0.0         10   2.324705      28.238850                 10   \n",
            "2                0.0         10   1.713972      22.285179                 10   \n",
            "3                0.0         10   3.237637      38.773886                 10   \n",
            "4                0.0         10   2.668760      36.898355                 10   \n",
            "5                0.0         10   2.734432      36.381424                 14   \n",
            "6                0.0         10   2.915761      34.155605                 10   \n",
            "7                0.0         10   2.196546      28.801021                 10   \n",
            "8                0.0         10   3.611416      40.998252                 10   \n",
            "9                0.0         10   3.036107      38.855225                 10   \n",
            "10               0.0         10   2.540293      40.855653                 14   \n",
            "11               0.0         10   2.940794      33.906778                 10   \n",
            "12               0.0         10   2.152904      27.741830                 10   \n",
            "13               0.0         10   3.790751      41.283303                 10   \n",
            "14               0.0         10   3.224490      39.934200                 10   \n",
            "15               0.0         10   2.691327      37.745391                 14   \n",
            "16               0.0         10   3.008267      38.418639                 10   \n",
            "17               0.0         10   2.215452      27.878290                 10   \n",
            "18               0.0         10   3.986961      51.649522                 10   \n",
            "19               0.0         10   2.744898      36.288076                 10   \n",
            "\n",
            "    Daily Std Dev  Safety Stock  \n",
            "0        1.852481     11.716121  \n",
            "1        0.789273      4.991803  \n",
            "2        0.813569      5.145461  \n",
            "3        1.011535      6.397512  \n",
            "4        1.614462     10.210757  \n",
            "5        1.428891      9.037102  \n",
            "6        0.790253      4.997998  \n",
            "7        1.080797      6.835558  \n",
            "8        0.772242      4.884089  \n",
            "9        1.343044      8.494157  \n",
            "10       2.443290     15.452722  \n",
            "11       0.711328      4.498833  \n",
            "12       0.982328      6.212788  \n",
            "13       0.533760      3.375794  \n",
            "14       1.215785      7.689302  \n",
            "15       1.712709     10.832126  \n",
            "16       1.318032      8.335969  \n",
            "17       0.905008      5.723771  \n",
            "18       1.862567     11.779908  \n",
            "19       1.397584      8.839096  \n"
          ]
        }
      ]
    },
    {
      "cell_type": "code",
      "source": [
        "melted_sales_data.columns"
      ],
      "metadata": {
        "id": "Fq_AS_rK4hqy",
        "outputId": "9854cb0d-d116-4c10-91bb-9d47c37c1bf1",
        "colab": {
          "base_uri": "https://localhost:8080/"
        }
      },
      "execution_count": 30,
      "outputs": [
        {
          "output_type": "execute_result",
          "data": {
            "text/plain": [
              "Index(['Item ID', 'Description', 'Bottles Per Case', 'Week', 'Quantity Total',\n",
              "       'Quarter'],\n",
              "      dtype='object')"
            ]
          },
          "metadata": {},
          "execution_count": 30
        }
      ]
    },
    {
      "cell_type": "code",
      "source": [
        "sns.scatterplot(x = 'Description', y = 'Quantity Total', hue = 'Description', data = melted_sales_data)"
      ],
      "metadata": {
        "id": "ZAqIqNYGw9GI",
        "outputId": "5aed53f8-72c4-4ccf-a30c-552fdfd5ebaa",
        "colab": {
          "base_uri": "https://localhost:8080/",
          "height": 467
        }
      },
      "execution_count": 31,
      "outputs": [
        {
          "output_type": "execute_result",
          "data": {
            "text/plain": [
              "<Axes: xlabel='Description', ylabel='Quantity Total'>"
            ]
          },
          "metadata": {},
          "execution_count": 31
        },
        {
          "output_type": "display_data",
          "data": {
            "text/plain": [
              "<Figure size 640x480 with 1 Axes>"
            ],
            "image/png": "[encoded data removed]"
          },
          "metadata": {}
        }
      ]
    },
    {
      "cell_type": "code",
      "source": [
        "weeks = [f'Week {i}' for i in range(1, 52) if i !=52]\n",
        "target = 'Week 52'\n",
        "\n",
        "\n",
        "X = Weekly_High_Volume_Store[weeks]\n",
        "y = Weekly_High_Volume_Store[target]\n",
        "\n",
        "X_train, X_test, y_train, y_test = train_test_split(X, y, test_size=0.2, random_state=10)\n",
        "\n",
        "model = RandomForestRegressor(n_estimators=10, random_state=10)\n",
        "model.fit(X_train, y_train)\n",
        "\n",
        "y_pred = model.predict(X_test)\n",
        "\n",
        "mse = mean_squared_error(y_test, y_pred)\n",
        "r2 = r2_score(y_test, y_pred)\n",
        "\n",
        "print(f\"Mean Squared Error: {mse:.2f}\")\n",
        "print(f\"R² Score: {r2:.2f}\")"
      ],
      "metadata": {
        "colab": {
          "base_uri": "https://localhost:8080/"
        },
        "id": "FBhuVCzzvmnF",
        "outputId": "6039dcd3-b42a-44a0-83c5-8f03175af30f"
      },
      "execution_count": 32,
      "outputs": [
        {
          "output_type": "stream",
          "name": "stdout",
          "text": [
            "Mean Squared Error: 384.98\n",
            "R² Score: 0.73\n"
          ]
        }
      ]
    },
    {
      "cell_type": "code",
      "source": [
        "plt.scatter(y_test, y_pred, alpha=0.6)\n",
        "plt.plot([y_test.min(), y_test.max()], [y_test.min(), y_test.max()], 'r--')\n",
        "plt.xlabel('Actual Week 52 Values')\n",
        "plt.ylabel('Predicted Week 52 Values')\n",
        "plt.title('Predictions vs Actual Values leading up to Week 52')\n",
        "plt.show()"
      ],
      "metadata": {
        "colab": {
          "base_uri": "https://localhost:8080/",
          "height": 472
        },
        "id": "NmoAf-f02lBg",
        "outputId": "689f0097-db93-41ac-8dfc-cdd34f2bdaf4"
      },
      "execution_count": 33,
      "outputs": [
        {
          "output_type": "display_data",
          "data": {
            "text/plain": [
              "<Figure size 640x480 with 1 Axes>"
            ],
            "image/png": "[encoded data removed]"
          },
          "metadata": {}
        }
      ]
    }
  ]
}